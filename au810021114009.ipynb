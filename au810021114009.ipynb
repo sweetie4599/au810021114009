{
  "cells": [
    {
      "cell_type": "code",
      "execution_count": null,
      "metadata": {
        "colab": {
          "base_uri": "https://localhost:8080/"
        },
        "id": "aAoM0eehGuPA",
        "outputId": "34d5e58c-9106-4039-f2ec-816954c702ea"
      },
      "outputs": [
        {
          "name": "stdout",
          "output_type": "stream",
          "text": [
            "['.config', 'heart.csv', 'sample_data']\n"
          ]
        }
      ],
      "source": [
        "import numpy as np\n",
        "import pandas as pd\n",
        "import matplotlib.pyplot as plt\n",
        "import seaborn as sns\n",
        "\n",
        "%matplotlib inline\n",
        "\n",
        "import os\n",
        "print(os.listdir())\n",
        "\n",
        "import warnings\n",
        "warnings.filterwarnings('ignore')"
      ]
    },
    {
      "cell_type": "code",
      "execution_count": null,
      "metadata": {
        "id": "GtcExXeTIoJz"
      },
      "outputs": [],
      "source": [
        "dataset = pd.read_csv(\"/content/heart.csv\")"
      ]
    },
    {
      "cell_type": "code",
      "execution_count": null,
      "metadata": {
        "colab": {
          "base_uri": "https://localhost:8080/",
          "height": 203
        },
        "id": "cSPciZ_RIxkC",
        "outputId": "b83a60cb-d5a5-4b94-e746-d2b31828180f"
      },
      "outputs": [
        {
          "data": {
            "text/html": [
              "<div style=\"max-width:800px; border: 1px solid var(--colab-border-color);\"><style>\n",
              "      pre.function-repr-contents {\n",
              "        overflow-x: auto;\n",
              "        padding: 8px 12px;\n",
              "        max-height: 500px;\n",
              "      }\n",
              "\n",
              "      pre.function-repr-contents.function-repr-contents-collapsed {\n",
              "        cursor: pointer;\n",
              "        max-height: 100px;\n",
              "      }\n",
              "    </style>\n",
              "    <pre style=\"white-space: initial; background:\n",
              "         var(--colab-secondary-surface-color); padding: 8px 12px;\n",
              "         border-bottom: 1px solid var(--colab-border-color);\"><b>pandas.core.frame.DataFrame</b><br/>def __init__(data=None, index: Axes | None=None, columns: Axes | None=None, dtype: Dtype | None=None, copy: bool | None=None) -&gt; None</pre><pre class=\"function-repr-contents function-repr-contents-collapsed\" style=\"\"><a class=\"filepath\" style=\"display:none\" href=\"#\">/usr/local/lib/python3.10/dist-packages/pandas/core/frame.py</a>Two-dimensional, size-mutable, potentially heterogeneous tabular data.\n",
              "\n",
              "Data structure also contains labeled axes (rows and columns).\n",
              "Arithmetic operations align on both row and column labels. Can be\n",
              "thought of as a dict-like container for Series objects. The primary\n",
              "pandas data structure.\n",
              "\n",
              "Parameters\n",
              "----------\n",
              "data : ndarray (structured or homogeneous), Iterable, dict, or DataFrame\n",
              "    Dict can contain Series, arrays, constants, dataclass or list-like objects. If\n",
              "    data is a dict, column order follows insertion-order. If a dict contains Series\n",
              "    which have an index defined, it is aligned by its index. This alignment also\n",
              "    occurs if data is a Series or a DataFrame itself. Alignment is done on\n",
              "    Series/DataFrame inputs.\n",
              "\n",
              "    If data is a list of dicts, column order follows insertion-order.\n",
              "\n",
              "index : Index or array-like\n",
              "    Index to use for resulting frame. Will default to RangeIndex if\n",
              "    no indexing information part of input data and no index provided.\n",
              "columns : Index or array-like\n",
              "    Column labels to use for resulting frame when data does not have them,\n",
              "    defaulting to RangeIndex(0, 1, 2, ..., n). If data contains column labels,\n",
              "    will perform column selection instead.\n",
              "dtype : dtype, default None\n",
              "    Data type to force. Only a single dtype is allowed. If None, infer.\n",
              "copy : bool or None, default None\n",
              "    Copy data from inputs.\n",
              "    For dict data, the default of None behaves like ``copy=True``.  For DataFrame\n",
              "    or 2d ndarray input, the default of None behaves like ``copy=False``.\n",
              "    If data is a dict containing one or more Series (possibly of different dtypes),\n",
              "    ``copy=False`` will ensure that these inputs are not copied.\n",
              "\n",
              "    .. versionchanged:: 1.3.0\n",
              "\n",
              "See Also\n",
              "--------\n",
              "DataFrame.from_records : Constructor from tuples, also record arrays.\n",
              "DataFrame.from_dict : From dicts of Series, arrays, or dicts.\n",
              "read_csv : Read a comma-separated values (csv) file into DataFrame.\n",
              "read_table : Read general delimited file into DataFrame.\n",
              "read_clipboard : Read text from clipboard into DataFrame.\n",
              "\n",
              "Notes\n",
              "-----\n",
              "Please reference the :ref:`User Guide &lt;basics.dataframe&gt;` for more information.\n",
              "\n",
              "Examples\n",
              "--------\n",
              "Constructing DataFrame from a dictionary.\n",
              "\n",
              "&gt;&gt;&gt; d = {&#x27;col1&#x27;: [1, 2], &#x27;col2&#x27;: [3, 4]}\n",
              "&gt;&gt;&gt; df = pd.DataFrame(data=d)\n",
              "&gt;&gt;&gt; df\n",
              "   col1  col2\n",
              "0     1     3\n",
              "1     2     4\n",
              "\n",
              "Notice that the inferred dtype is int64.\n",
              "\n",
              "&gt;&gt;&gt; df.dtypes\n",
              "col1    int64\n",
              "col2    int64\n",
              "dtype: object\n",
              "\n",
              "To enforce a single dtype:\n",
              "\n",
              "&gt;&gt;&gt; df = pd.DataFrame(data=d, dtype=np.int8)\n",
              "&gt;&gt;&gt; df.dtypes\n",
              "col1    int8\n",
              "col2    int8\n",
              "dtype: object\n",
              "\n",
              "Constructing DataFrame from a dictionary including Series:\n",
              "\n",
              "&gt;&gt;&gt; d = {&#x27;col1&#x27;: [0, 1, 2, 3], &#x27;col2&#x27;: pd.Series([2, 3], index=[2, 3])}\n",
              "&gt;&gt;&gt; pd.DataFrame(data=d, index=[0, 1, 2, 3])\n",
              "   col1  col2\n",
              "0     0   NaN\n",
              "1     1   NaN\n",
              "2     2   2.0\n",
              "3     3   3.0\n",
              "\n",
              "Constructing DataFrame from numpy ndarray:\n",
              "\n",
              "&gt;&gt;&gt; df2 = pd.DataFrame(np.array([[1, 2, 3], [4, 5, 6], [7, 8, 9]]),\n",
              "...                    columns=[&#x27;a&#x27;, &#x27;b&#x27;, &#x27;c&#x27;])\n",
              "&gt;&gt;&gt; df2\n",
              "   a  b  c\n",
              "0  1  2  3\n",
              "1  4  5  6\n",
              "2  7  8  9\n",
              "\n",
              "Constructing DataFrame from a numpy ndarray that has labeled columns:\n",
              "\n",
              "&gt;&gt;&gt; data = np.array([(1, 2, 3), (4, 5, 6), (7, 8, 9)],\n",
              "...                 dtype=[(&quot;a&quot;, &quot;i4&quot;), (&quot;b&quot;, &quot;i4&quot;), (&quot;c&quot;, &quot;i4&quot;)])\n",
              "&gt;&gt;&gt; df3 = pd.DataFrame(data, columns=[&#x27;c&#x27;, &#x27;a&#x27;])\n",
              "...\n",
              "&gt;&gt;&gt; df3\n",
              "   c  a\n",
              "0  3  1\n",
              "1  6  4\n",
              "2  9  7\n",
              "\n",
              "Constructing DataFrame from dataclass:\n",
              "\n",
              "&gt;&gt;&gt; from dataclasses import make_dataclass\n",
              "&gt;&gt;&gt; Point = make_dataclass(&quot;Point&quot;, [(&quot;x&quot;, int), (&quot;y&quot;, int)])\n",
              "&gt;&gt;&gt; pd.DataFrame([Point(0, 0), Point(0, 3), Point(2, 3)])\n",
              "   x  y\n",
              "0  0  0\n",
              "1  0  3\n",
              "2  2  3\n",
              "\n",
              "Constructing DataFrame from Series/DataFrame:\n",
              "\n",
              "&gt;&gt;&gt; ser = pd.Series([1, 2, 3], index=[&quot;a&quot;, &quot;b&quot;, &quot;c&quot;])\n",
              "&gt;&gt;&gt; df = pd.DataFrame(data=ser, index=[&quot;a&quot;, &quot;c&quot;])\n",
              "&gt;&gt;&gt; df\n",
              "   0\n",
              "a  1\n",
              "c  3\n",
              "\n",
              "&gt;&gt;&gt; df1 = pd.DataFrame([1, 2, 3], index=[&quot;a&quot;, &quot;b&quot;, &quot;c&quot;], columns=[&quot;x&quot;])\n",
              "&gt;&gt;&gt; df2 = pd.DataFrame(data=df1, index=[&quot;a&quot;, &quot;c&quot;])\n",
              "&gt;&gt;&gt; df2\n",
              "   x\n",
              "a  1\n",
              "c  3</pre>\n",
              "      <script>\n",
              "      if (google.colab.kernel.accessAllowed && google.colab.files && google.colab.files.view) {\n",
              "        for (const element of document.querySelectorAll('.filepath')) {\n",
              "          element.style.display = 'block'\n",
              "          element.onclick = (event) => {\n",
              "            event.preventDefault();\n",
              "            event.stopPropagation();\n",
              "            google.colab.files.view(element.textContent, 490);\n",
              "          };\n",
              "        }\n",
              "      }\n",
              "      for (const element of document.querySelectorAll('.function-repr-contents')) {\n",
              "        element.onclick = (event) => {\n",
              "          event.preventDefault();\n",
              "          event.stopPropagation();\n",
              "          element.classList.toggle('function-repr-contents-collapsed');\n",
              "        };\n",
              "      }\n",
              "      </script>\n",
              "      </div>"
            ],
            "text/plain": [
              "pandas.core.frame.DataFrame"
            ]
          },
          "execution_count": 3,
          "metadata": {},
          "output_type": "execute_result"
        }
      ],
      "source": [
        "type(dataset)"
      ]
    },
    {
      "cell_type": "code",
      "execution_count": null,
      "metadata": {
        "colab": {
          "base_uri": "https://localhost:8080/"
        },
        "id": "0RDwxBV0I1Ci",
        "outputId": "bdd0acc9-5409-424e-fa08-ac582c622079"
      },
      "outputs": [
        {
          "data": {
            "text/plain": [
              "(514, 14)"
            ]
          },
          "execution_count": 4,
          "metadata": {},
          "output_type": "execute_result"
        }
      ],
      "source": [
        "dataset.shape"
      ]
    },
    {
      "cell_type": "code",
      "execution_count": null,
      "metadata": {
        "colab": {
          "base_uri": "https://localhost:8080/",
          "height": 206
        },
        "id": "csRWMWPBI5an",
        "outputId": "5670aa31-42fb-49e2-85a7-29b3c62f2f74"
      },
      "outputs": [
        {
          "data": {
            "application/vnd.google.colaboratory.intrinsic+json": {
              "summary": "{\n  \"name\": \"dataset\",\n  \"rows\": 514,\n  \"fields\": [\n    {\n      \"column\": \"age\",\n      \"properties\": {\n        \"dtype\": \"number\",\n        \"std\": 13,\n        \"min\": 5,\n        \"max\": 93,\n        \"num_unique_values\": 67,\n        \"samples\": [\n          31,\n          39,\n          57\n        ],\n        \"semantic_type\": \"\",\n        \"description\": \"\"\n      }\n    },\n    {\n      \"column\": \"sex\",\n      \"properties\": {\n        \"dtype\": \"number\",\n        \"std\": 0,\n        \"min\": 0,\n        \"max\": 1,\n        \"num_unique_values\": 2,\n        \"samples\": [\n          0,\n          1\n        ],\n        \"semantic_type\": \"\",\n        \"description\": \"\"\n      }\n    },\n    {\n      \"column\": \"cp\",\n      \"properties\": {\n        \"dtype\": \"number\",\n        \"std\": 1,\n        \"min\": 0,\n        \"max\": 3,\n        \"num_unique_values\": 4,\n        \"samples\": [\n          2,\n          0\n        ],\n        \"semantic_type\": \"\",\n        \"description\": \"\"\n      }\n    },\n    {\n      \"column\": \"trestbps\",\n      \"properties\": {\n        \"dtype\": \"number\",\n        \"std\": 17,\n        \"min\": 94,\n        \"max\": 200,\n        \"num_unique_values\": 50,\n        \"samples\": [\n          104,\n          117\n        ],\n        \"semantic_type\": \"\",\n        \"description\": \"\"\n      }\n    },\n    {\n      \"column\": \"chol\",\n      \"properties\": {\n        \"dtype\": \"number\",\n        \"std\": 53,\n        \"min\": 104,\n        \"max\": 564,\n        \"num_unique_values\": 155,\n        \"samples\": [\n          195,\n          237\n        ],\n        \"semantic_type\": \"\",\n        \"description\": \"\"\n      }\n    },\n    {\n      \"column\": \"fbs\",\n      \"properties\": {\n        \"dtype\": \"number\",\n        \"std\": 0,\n        \"min\": 0,\n        \"max\": 1,\n        \"num_unique_values\": 2,\n        \"samples\": [\n          0,\n          1\n        ],\n        \"semantic_type\": \"\",\n        \"description\": \"\"\n      }\n    },\n    {\n      \"column\": \"restecg\",\n      \"properties\": {\n        \"dtype\": \"number\",\n        \"std\": 0,\n        \"min\": 0,\n        \"max\": 2,\n        \"num_unique_values\": 3,\n        \"samples\": [\n          0,\n          1\n        ],\n        \"semantic_type\": \"\",\n        \"description\": \"\"\n      }\n    },\n    {\n      \"column\": \"thalach\",\n      \"properties\": {\n        \"dtype\": \"number\",\n        \"std\": 23,\n        \"min\": 71,\n        \"max\": 202,\n        \"num_unique_values\": 91,\n        \"samples\": [\n          159,\n          152\n        ],\n        \"semantic_type\": \"\",\n        \"description\": \"\"\n      }\n    },\n    {\n      \"column\": \"exang\",\n      \"properties\": {\n        \"dtype\": \"number\",\n        \"std\": 0,\n        \"min\": 0,\n        \"max\": 1,\n        \"num_unique_values\": 2,\n        \"samples\": [\n          1,\n          0\n        ],\n        \"semantic_type\": \"\",\n        \"description\": \"\"\n      }\n    },\n    {\n      \"column\": \"oldpeak\",\n      \"properties\": {\n        \"dtype\": \"number\",\n        \"std\": 1.173418693899852,\n        \"min\": 0.0,\n        \"max\": 6.2,\n        \"num_unique_values\": 40,\n        \"samples\": [\n          1.9,\n          3.0\n        ],\n        \"semantic_type\": \"\",\n        \"description\": \"\"\n      }\n    },\n    {\n      \"column\": \"slope\",\n      \"properties\": {\n        \"dtype\": \"number\",\n        \"std\": 0,\n        \"min\": 0,\n        \"max\": 2,\n        \"num_unique_values\": 3,\n        \"samples\": [\n          0,\n          2\n        ],\n        \"semantic_type\": \"\",\n        \"description\": \"\"\n      }\n    },\n    {\n      \"column\": \"ca\",\n      \"properties\": {\n        \"dtype\": \"number\",\n        \"std\": 1,\n        \"min\": 0,\n        \"max\": 4,\n        \"num_unique_values\": 5,\n        \"samples\": [\n          2,\n          4\n        ],\n        \"semantic_type\": \"\",\n        \"description\": \"\"\n      }\n    },\n    {\n      \"column\": \"thal\",\n      \"properties\": {\n        \"dtype\": \"number\",\n        \"std\": 0,\n        \"min\": 0,\n        \"max\": 3,\n        \"num_unique_values\": 4,\n        \"samples\": [\n          2,\n          0\n        ],\n        \"semantic_type\": \"\",\n        \"description\": \"\"\n      }\n    },\n    {\n      \"column\": \"target\",\n      \"properties\": {\n        \"dtype\": \"number\",\n        \"std\": 0,\n        \"min\": 0,\n        \"max\": 1,\n        \"num_unique_values\": 2,\n        \"samples\": [\n          0,\n          1\n        ],\n        \"semantic_type\": \"\",\n        \"description\": \"\"\n      }\n    }\n  ]\n}",
              "type": "dataframe",
              "variable_name": "dataset"
            },
            "text/html": [
              "\n",
              "  <div id=\"df-f5fda94e-abc4-4f7c-a6b8-731e562f5132\" class=\"colab-df-container\">\n",
              "    <div>\n",
              "<style scoped>\n",
              "    .dataframe tbody tr th:only-of-type {\n",
              "        vertical-align: middle;\n",
              "    }\n",
              "\n",
              "    .dataframe tbody tr th {\n",
              "        vertical-align: top;\n",
              "    }\n",
              "\n",
              "    .dataframe thead th {\n",
              "        text-align: right;\n",
              "    }\n",
              "</style>\n",
              "<table border=\"1\" class=\"dataframe\">\n",
              "  <thead>\n",
              "    <tr style=\"text-align: right;\">\n",
              "      <th></th>\n",
              "      <th>age</th>\n",
              "      <th>sex</th>\n",
              "      <th>cp</th>\n",
              "      <th>trestbps</th>\n",
              "      <th>chol</th>\n",
              "      <th>fbs</th>\n",
              "      <th>restecg</th>\n",
              "      <th>thalach</th>\n",
              "      <th>exang</th>\n",
              "      <th>oldpeak</th>\n",
              "      <th>slope</th>\n",
              "      <th>ca</th>\n",
              "      <th>thal</th>\n",
              "      <th>target</th>\n",
              "    </tr>\n",
              "  </thead>\n",
              "  <tbody>\n",
              "    <tr>\n",
              "      <th>0</th>\n",
              "      <td>40</td>\n",
              "      <td>1</td>\n",
              "      <td>3</td>\n",
              "      <td>145</td>\n",
              "      <td>233</td>\n",
              "      <td>1</td>\n",
              "      <td>0</td>\n",
              "      <td>150</td>\n",
              "      <td>0</td>\n",
              "      <td>2.3</td>\n",
              "      <td>0</td>\n",
              "      <td>0</td>\n",
              "      <td>1</td>\n",
              "      <td>1</td>\n",
              "    </tr>\n",
              "    <tr>\n",
              "      <th>1</th>\n",
              "      <td>37</td>\n",
              "      <td>1</td>\n",
              "      <td>2</td>\n",
              "      <td>130</td>\n",
              "      <td>250</td>\n",
              "      <td>0</td>\n",
              "      <td>1</td>\n",
              "      <td>187</td>\n",
              "      <td>0</td>\n",
              "      <td>3.5</td>\n",
              "      <td>0</td>\n",
              "      <td>0</td>\n",
              "      <td>2</td>\n",
              "      <td>1</td>\n",
              "    </tr>\n",
              "    <tr>\n",
              "      <th>2</th>\n",
              "      <td>41</td>\n",
              "      <td>0</td>\n",
              "      <td>1</td>\n",
              "      <td>130</td>\n",
              "      <td>204</td>\n",
              "      <td>0</td>\n",
              "      <td>0</td>\n",
              "      <td>172</td>\n",
              "      <td>0</td>\n",
              "      <td>1.4</td>\n",
              "      <td>2</td>\n",
              "      <td>0</td>\n",
              "      <td>2</td>\n",
              "      <td>1</td>\n",
              "    </tr>\n",
              "    <tr>\n",
              "      <th>3</th>\n",
              "      <td>50</td>\n",
              "      <td>1</td>\n",
              "      <td>1</td>\n",
              "      <td>120</td>\n",
              "      <td>236</td>\n",
              "      <td>0</td>\n",
              "      <td>1</td>\n",
              "      <td>178</td>\n",
              "      <td>0</td>\n",
              "      <td>0.8</td>\n",
              "      <td>2</td>\n",
              "      <td>0</td>\n",
              "      <td>2</td>\n",
              "      <td>1</td>\n",
              "    </tr>\n",
              "    <tr>\n",
              "      <th>4</th>\n",
              "      <td>57</td>\n",
              "      <td>0</td>\n",
              "      <td>0</td>\n",
              "      <td>120</td>\n",
              "      <td>354</td>\n",
              "      <td>0</td>\n",
              "      <td>1</td>\n",
              "      <td>163</td>\n",
              "      <td>1</td>\n",
              "      <td>0.6</td>\n",
              "      <td>2</td>\n",
              "      <td>0</td>\n",
              "      <td>2</td>\n",
              "      <td>1</td>\n",
              "    </tr>\n",
              "  </tbody>\n",
              "</table>\n",
              "</div>\n",
              "    <div class=\"colab-df-buttons\">\n",
              "\n",
              "  <div class=\"colab-df-container\">\n",
              "    <button class=\"colab-df-convert\" onclick=\"convertToInteractive('df-f5fda94e-abc4-4f7c-a6b8-731e562f5132')\"\n",
              "            title=\"Convert this dataframe to an interactive table.\"\n",
              "            style=\"display:none;\">\n",
              "\n",
              "  <svg xmlns=\"http://www.w3.org/2000/svg\" height=\"24px\" viewBox=\"0 -960 960 960\">\n",
              "    <path d=\"M120-120v-720h720v720H120Zm60-500h600v-160H180v160Zm220 220h160v-160H400v160Zm0 220h160v-160H400v160ZM180-400h160v-160H180v160Zm440 0h160v-160H620v160ZM180-180h160v-160H180v160Zm440 0h160v-160H620v160Z\"/>\n",
              "  </svg>\n",
              "    </button>\n",
              "\n",
              "  <style>\n",
              "    .colab-df-container {\n",
              "      display:flex;\n",
              "      gap: 12px;\n",
              "    }\n",
              "\n",
              "    .colab-df-convert {\n",
              "      background-color: #E8F0FE;\n",
              "      border: none;\n",
              "      border-radius: 50%;\n",
              "      cursor: pointer;\n",
              "      display: none;\n",
              "      fill: #1967D2;\n",
              "      height: 32px;\n",
              "      padding: 0 0 0 0;\n",
              "      width: 32px;\n",
              "    }\n",
              "\n",
              "    .colab-df-convert:hover {\n",
              "      background-color: #E2EBFA;\n",
              "      box-shadow: 0px 1px 2px rgba(60, 64, 67, 0.3), 0px 1px 3px 1px rgba(60, 64, 67, 0.15);\n",
              "      fill: #174EA6;\n",
              "    }\n",
              "\n",
              "    .colab-df-buttons div {\n",
              "      margin-bottom: 4px;\n",
              "    }\n",
              "\n",
              "    [theme=dark] .colab-df-convert {\n",
              "      background-color: #3B4455;\n",
              "      fill: #D2E3FC;\n",
              "    }\n",
              "\n",
              "    [theme=dark] .colab-df-convert:hover {\n",
              "      background-color: #434B5C;\n",
              "      box-shadow: 0px 1px 3px 1px rgba(0, 0, 0, 0.15);\n",
              "      filter: drop-shadow(0px 1px 2px rgba(0, 0, 0, 0.3));\n",
              "      fill: #FFFFFF;\n",
              "    }\n",
              "  </style>\n",
              "\n",
              "    <script>\n",
              "      const buttonEl =\n",
              "        document.querySelector('#df-f5fda94e-abc4-4f7c-a6b8-731e562f5132 button.colab-df-convert');\n",
              "      buttonEl.style.display =\n",
              "        google.colab.kernel.accessAllowed ? 'block' : 'none';\n",
              "\n",
              "      async function convertToInteractive(key) {\n",
              "        const element = document.querySelector('#df-f5fda94e-abc4-4f7c-a6b8-731e562f5132');\n",
              "        const dataTable =\n",
              "          await google.colab.kernel.invokeFunction('convertToInteractive',\n",
              "                                                    [key], {});\n",
              "        if (!dataTable) return;\n",
              "\n",
              "        const docLinkHtml = 'Like what you see? Visit the ' +\n",
              "          '<a target=\"_blank\" href=https://colab.research.google.com/notebooks/data_table.ipynb>data table notebook</a>'\n",
              "          + ' to learn more about interactive tables.';\n",
              "        element.innerHTML = '';\n",
              "        dataTable['output_type'] = 'display_data';\n",
              "        await google.colab.output.renderOutput(dataTable, element);\n",
              "        const docLink = document.createElement('div');\n",
              "        docLink.innerHTML = docLinkHtml;\n",
              "        element.appendChild(docLink);\n",
              "      }\n",
              "    </script>\n",
              "  </div>\n",
              "\n",
              "\n",
              "<div id=\"df-6432fdd7-48b1-4570-a096-854462862064\">\n",
              "  <button class=\"colab-df-quickchart\" onclick=\"quickchart('df-6432fdd7-48b1-4570-a096-854462862064')\"\n",
              "            title=\"Suggest charts\"\n",
              "            style=\"display:none;\">\n",
              "\n",
              "<svg xmlns=\"http://www.w3.org/2000/svg\" height=\"24px\"viewBox=\"0 0 24 24\"\n",
              "     width=\"24px\">\n",
              "    <g>\n",
              "        <path d=\"M19 3H5c-1.1 0-2 .9-2 2v14c0 1.1.9 2 2 2h14c1.1 0 2-.9 2-2V5c0-1.1-.9-2-2-2zM9 17H7v-7h2v7zm4 0h-2V7h2v10zm4 0h-2v-4h2v4z\"/>\n",
              "    </g>\n",
              "</svg>\n",
              "  </button>\n",
              "\n",
              "<style>\n",
              "  .colab-df-quickchart {\n",
              "      --bg-color: #E8F0FE;\n",
              "      --fill-color: #1967D2;\n",
              "      --hover-bg-color: #E2EBFA;\n",
              "      --hover-fill-color: #174EA6;\n",
              "      --disabled-fill-color: #AAA;\n",
              "      --disabled-bg-color: #DDD;\n",
              "  }\n",
              "\n",
              "  [theme=dark] .colab-df-quickchart {\n",
              "      --bg-color: #3B4455;\n",
              "      --fill-color: #D2E3FC;\n",
              "      --hover-bg-color: #434B5C;\n",
              "      --hover-fill-color: #FFFFFF;\n",
              "      --disabled-bg-color: #3B4455;\n",
              "      --disabled-fill-color: #666;\n",
              "  }\n",
              "\n",
              "  .colab-df-quickchart {\n",
              "    background-color: var(--bg-color);\n",
              "    border: none;\n",
              "    border-radius: 50%;\n",
              "    cursor: pointer;\n",
              "    display: none;\n",
              "    fill: var(--fill-color);\n",
              "    height: 32px;\n",
              "    padding: 0;\n",
              "    width: 32px;\n",
              "  }\n",
              "\n",
              "  .colab-df-quickchart:hover {\n",
              "    background-color: var(--hover-bg-color);\n",
              "    box-shadow: 0 1px 2px rgba(60, 64, 67, 0.3), 0 1px 3px 1px rgba(60, 64, 67, 0.15);\n",
              "    fill: var(--button-hover-fill-color);\n",
              "  }\n",
              "\n",
              "  .colab-df-quickchart-complete:disabled,\n",
              "  .colab-df-quickchart-complete:disabled:hover {\n",
              "    background-color: var(--disabled-bg-color);\n",
              "    fill: var(--disabled-fill-color);\n",
              "    box-shadow: none;\n",
              "  }\n",
              "\n",
              "  .colab-df-spinner {\n",
              "    border: 2px solid var(--fill-color);\n",
              "    border-color: transparent;\n",
              "    border-bottom-color: var(--fill-color);\n",
              "    animation:\n",
              "      spin 1s steps(1) infinite;\n",
              "  }\n",
              "\n",
              "  @keyframes spin {\n",
              "    0% {\n",
              "      border-color: transparent;\n",
              "      border-bottom-color: var(--fill-color);\n",
              "      border-left-color: var(--fill-color);\n",
              "    }\n",
              "    20% {\n",
              "      border-color: transparent;\n",
              "      border-left-color: var(--fill-color);\n",
              "      border-top-color: var(--fill-color);\n",
              "    }\n",
              "    30% {\n",
              "      border-color: transparent;\n",
              "      border-left-color: var(--fill-color);\n",
              "      border-top-color: var(--fill-color);\n",
              "      border-right-color: var(--fill-color);\n",
              "    }\n",
              "    40% {\n",
              "      border-color: transparent;\n",
              "      border-right-color: var(--fill-color);\n",
              "      border-top-color: var(--fill-color);\n",
              "    }\n",
              "    60% {\n",
              "      border-color: transparent;\n",
              "      border-right-color: var(--fill-color);\n",
              "    }\n",
              "    80% {\n",
              "      border-color: transparent;\n",
              "      border-right-color: var(--fill-color);\n",
              "      border-bottom-color: var(--fill-color);\n",
              "    }\n",
              "    90% {\n",
              "      border-color: transparent;\n",
              "      border-bottom-color: var(--fill-color);\n",
              "    }\n",
              "  }\n",
              "</style>\n",
              "\n",
              "  <script>\n",
              "    async function quickchart(key) {\n",
              "      const quickchartButtonEl =\n",
              "        document.querySelector('#' + key + ' button');\n",
              "      quickchartButtonEl.disabled = true;  // To prevent multiple clicks.\n",
              "      quickchartButtonEl.classList.add('colab-df-spinner');\n",
              "      try {\n",
              "        const charts = await google.colab.kernel.invokeFunction(\n",
              "            'suggestCharts', [key], {});\n",
              "      } catch (error) {\n",
              "        console.error('Error during call to suggestCharts:', error);\n",
              "      }\n",
              "      quickchartButtonEl.classList.remove('colab-df-spinner');\n",
              "      quickchartButtonEl.classList.add('colab-df-quickchart-complete');\n",
              "    }\n",
              "    (() => {\n",
              "      let quickchartButtonEl =\n",
              "        document.querySelector('#df-6432fdd7-48b1-4570-a096-854462862064 button');\n",
              "      quickchartButtonEl.style.display =\n",
              "        google.colab.kernel.accessAllowed ? 'block' : 'none';\n",
              "    })();\n",
              "  </script>\n",
              "</div>\n",
              "\n",
              "    </div>\n",
              "  </div>\n"
            ],
            "text/plain": [
              "   age  sex  cp  trestbps  chol  fbs  restecg  thalach  exang  oldpeak  slope  \\\n",
              "0   40    1   3       145   233    1        0      150      0      2.3      0   \n",
              "1   37    1   2       130   250    0        1      187      0      3.5      0   \n",
              "2   41    0   1       130   204    0        0      172      0      1.4      2   \n",
              "3   50    1   1       120   236    0        1      178      0      0.8      2   \n",
              "4   57    0   0       120   354    0        1      163      1      0.6      2   \n",
              "\n",
              "   ca  thal  target  \n",
              "0   0     1       1  \n",
              "1   0     2       1  \n",
              "2   0     2       1  \n",
              "3   0     2       1  \n",
              "4   0     2       1  "
            ]
          },
          "execution_count": 5,
          "metadata": {},
          "output_type": "execute_result"
        }
      ],
      "source": [
        "dataset.head(5)"
      ]
    },
    {
      "cell_type": "code",
      "execution_count": null,
      "metadata": {
        "colab": {
          "base_uri": "https://localhost:8080/",
          "height": 206
        },
        "id": "-9oMsy2eI-VQ",
        "outputId": "34e4c55a-6d41-4ba5-cf05-1cfd99e8b873"
      },
      "outputs": [
        {
          "data": {
            "application/vnd.google.colaboratory.intrinsic+json": {
              "summary": "{\n  \"name\": \"dataset\",\n  \"rows\": 5,\n  \"fields\": [\n    {\n      \"column\": \"age\",\n      \"properties\": {\n        \"dtype\": \"number\",\n        \"std\": 11,\n        \"min\": 40,\n        \"max\": 68,\n        \"num_unique_values\": 5,\n        \"samples\": [\n          40,\n          68,\n          54\n        ],\n        \"semantic_type\": \"\",\n        \"description\": \"\"\n      }\n    },\n    {\n      \"column\": \"sex\",\n      \"properties\": {\n        \"dtype\": \"number\",\n        \"std\": 0,\n        \"min\": 0,\n        \"max\": 1,\n        \"num_unique_values\": 2,\n        \"samples\": [\n          0,\n          1\n        ],\n        \"semantic_type\": \"\",\n        \"description\": \"\"\n      }\n    },\n    {\n      \"column\": \"cp\",\n      \"properties\": {\n        \"dtype\": \"number\",\n        \"std\": 1,\n        \"min\": 0,\n        \"max\": 3,\n        \"num_unique_values\": 3,\n        \"samples\": [\n          0,\n          3\n        ],\n        \"semantic_type\": \"\",\n        \"description\": \"\"\n      }\n    },\n    {\n      \"column\": \"trestbps\",\n      \"properties\": {\n        \"dtype\": \"number\",\n        \"std\": 29,\n        \"min\": 100,\n        \"max\": 180,\n        \"num_unique_values\": 5,\n        \"samples\": [\n          140,\n          180\n        ],\n        \"semantic_type\": \"\",\n        \"description\": \"\"\n      }\n    },\n    {\n      \"column\": \"chol\",\n      \"properties\": {\n        \"dtype\": \"number\",\n        \"std\": 42,\n        \"min\": 199,\n        \"max\": 303,\n        \"num_unique_values\": 5,\n        \"samples\": [\n          199,\n          274\n        ],\n        \"semantic_type\": \"\",\n        \"description\": \"\"\n      }\n    },\n    {\n      \"column\": \"fbs\",\n      \"properties\": {\n        \"dtype\": \"number\",\n        \"std\": 0,\n        \"min\": 0,\n        \"max\": 1,\n        \"num_unique_values\": 2,\n        \"samples\": [\n          1,\n          0\n        ],\n        \"semantic_type\": \"\",\n        \"description\": \"\"\n      }\n    },\n    {\n      \"column\": \"restecg\",\n      \"properties\": {\n        \"dtype\": \"number\",\n        \"std\": 0,\n        \"min\": 0,\n        \"max\": 1,\n        \"num_unique_values\": 2,\n        \"samples\": [\n          1,\n          0\n        ],\n        \"semantic_type\": \"\",\n        \"description\": \"\"\n      }\n    },\n    {\n      \"column\": \"thalach\",\n      \"properties\": {\n        \"dtype\": \"number\",\n        \"std\": 25,\n        \"min\": 116,\n        \"max\": 178,\n        \"num_unique_values\": 5,\n        \"samples\": [\n          178,\n          150\n        ],\n        \"semantic_type\": \"\",\n        \"description\": \"\"\n      }\n    },\n    {\n      \"column\": \"exang\",\n      \"properties\": {\n        \"dtype\": \"number\",\n        \"std\": 0,\n        \"min\": 0,\n        \"max\": 1,\n        \"num_unique_values\": 2,\n        \"samples\": [\n          0,\n          1\n        ],\n        \"semantic_type\": \"\",\n        \"description\": \"\"\n      }\n    },\n    {\n      \"column\": \"oldpeak\",\n      \"properties\": {\n        \"dtype\": \"number\",\n        \"std\": 1.1713240371477058,\n        \"min\": 0.0,\n        \"max\": 3.2,\n        \"num_unique_values\": 5,\n        \"samples\": [\n          1.4,\n          1.6\n        ],\n        \"semantic_type\": \"\",\n        \"description\": \"\"\n      }\n    },\n    {\n      \"column\": \"slope\",\n      \"properties\": {\n        \"dtype\": \"number\",\n        \"std\": 0,\n        \"min\": 1,\n        \"max\": 2,\n        \"num_unique_values\": 2,\n        \"samples\": [\n          2,\n          1\n        ],\n        \"semantic_type\": \"\",\n        \"description\": \"\"\n      }\n    },\n    {\n      \"column\": \"ca\",\n      \"properties\": {\n        \"dtype\": \"number\",\n        \"std\": 1,\n        \"min\": 0,\n        \"max\": 2,\n        \"num_unique_values\": 3,\n        \"samples\": [\n          2,\n          0\n        ],\n        \"semantic_type\": \"\",\n        \"description\": \"\"\n      }\n    },\n    {\n      \"column\": \"thal\",\n      \"properties\": {\n        \"dtype\": \"number\",\n        \"std\": 0,\n        \"min\": 2,\n        \"max\": 3,\n        \"num_unique_values\": 2,\n        \"samples\": [\n          3,\n          2\n        ],\n        \"semantic_type\": \"\",\n        \"description\": \"\"\n      }\n    },\n    {\n      \"column\": \"target\",\n      \"properties\": {\n        \"dtype\": \"number\",\n        \"std\": 0,\n        \"min\": 0,\n        \"max\": 1,\n        \"num_unique_values\": 2,\n        \"samples\": [\n          1,\n          0\n        ],\n        \"semantic_type\": \"\",\n        \"description\": \"\"\n      }\n    }\n  ]\n}",
              "type": "dataframe"
            },
            "text/html": [
              "\n",
              "  <div id=\"df-c4176af9-a724-4d5b-8d9e-daacc5f64b1b\" class=\"colab-df-container\">\n",
              "    <div>\n",
              "<style scoped>\n",
              "    .dataframe tbody tr th:only-of-type {\n",
              "        vertical-align: middle;\n",
              "    }\n",
              "\n",
              "    .dataframe tbody tr th {\n",
              "        vertical-align: top;\n",
              "    }\n",
              "\n",
              "    .dataframe thead th {\n",
              "        text-align: right;\n",
              "    }\n",
              "</style>\n",
              "<table border=\"1\" class=\"dataframe\">\n",
              "  <thead>\n",
              "    <tr style=\"text-align: right;\">\n",
              "      <th></th>\n",
              "      <th>age</th>\n",
              "      <th>sex</th>\n",
              "      <th>cp</th>\n",
              "      <th>trestbps</th>\n",
              "      <th>chol</th>\n",
              "      <th>fbs</th>\n",
              "      <th>restecg</th>\n",
              "      <th>thalach</th>\n",
              "      <th>exang</th>\n",
              "      <th>oldpeak</th>\n",
              "      <th>slope</th>\n",
              "      <th>ca</th>\n",
              "      <th>thal</th>\n",
              "      <th>target</th>\n",
              "    </tr>\n",
              "  </thead>\n",
              "  <tbody>\n",
              "    <tr>\n",
              "      <th>353</th>\n",
              "      <td>67</td>\n",
              "      <td>1</td>\n",
              "      <td>0</td>\n",
              "      <td>100</td>\n",
              "      <td>299</td>\n",
              "      <td>0</td>\n",
              "      <td>0</td>\n",
              "      <td>125</td>\n",
              "      <td>1</td>\n",
              "      <td>0.9</td>\n",
              "      <td>1</td>\n",
              "      <td>2</td>\n",
              "      <td>2</td>\n",
              "      <td>0</td>\n",
              "    </tr>\n",
              "    <tr>\n",
              "      <th>428</th>\n",
              "      <td>40</td>\n",
              "      <td>1</td>\n",
              "      <td>3</td>\n",
              "      <td>140</td>\n",
              "      <td>199</td>\n",
              "      <td>0</td>\n",
              "      <td>1</td>\n",
              "      <td>178</td>\n",
              "      <td>1</td>\n",
              "      <td>1.4</td>\n",
              "      <td>2</td>\n",
              "      <td>0</td>\n",
              "      <td>3</td>\n",
              "      <td>1</td>\n",
              "    </tr>\n",
              "    <tr>\n",
              "      <th>368</th>\n",
              "      <td>54</td>\n",
              "      <td>1</td>\n",
              "      <td>0</td>\n",
              "      <td>122</td>\n",
              "      <td>286</td>\n",
              "      <td>0</td>\n",
              "      <td>0</td>\n",
              "      <td>116</td>\n",
              "      <td>1</td>\n",
              "      <td>3.2</td>\n",
              "      <td>1</td>\n",
              "      <td>2</td>\n",
              "      <td>2</td>\n",
              "      <td>0</td>\n",
              "    </tr>\n",
              "    <tr>\n",
              "      <th>59</th>\n",
              "      <td>57</td>\n",
              "      <td>0</td>\n",
              "      <td>0</td>\n",
              "      <td>128</td>\n",
              "      <td>303</td>\n",
              "      <td>0</td>\n",
              "      <td>0</td>\n",
              "      <td>159</td>\n",
              "      <td>0</td>\n",
              "      <td>0.0</td>\n",
              "      <td>2</td>\n",
              "      <td>1</td>\n",
              "      <td>2</td>\n",
              "      <td>1</td>\n",
              "    </tr>\n",
              "    <tr>\n",
              "      <th>203</th>\n",
              "      <td>68</td>\n",
              "      <td>1</td>\n",
              "      <td>2</td>\n",
              "      <td>180</td>\n",
              "      <td>274</td>\n",
              "      <td>1</td>\n",
              "      <td>0</td>\n",
              "      <td>150</td>\n",
              "      <td>1</td>\n",
              "      <td>1.6</td>\n",
              "      <td>1</td>\n",
              "      <td>0</td>\n",
              "      <td>3</td>\n",
              "      <td>0</td>\n",
              "    </tr>\n",
              "  </tbody>\n",
              "</table>\n",
              "</div>\n",
              "    <div class=\"colab-df-buttons\">\n",
              "\n",
              "  <div class=\"colab-df-container\">\n",
              "    <button class=\"colab-df-convert\" onclick=\"convertToInteractive('df-c4176af9-a724-4d5b-8d9e-daacc5f64b1b')\"\n",
              "            title=\"Convert this dataframe to an interactive table.\"\n",
              "            style=\"display:none;\">\n",
              "\n",
              "  <svg xmlns=\"http://www.w3.org/2000/svg\" height=\"24px\" viewBox=\"0 -960 960 960\">\n",
              "    <path d=\"M120-120v-720h720v720H120Zm60-500h600v-160H180v160Zm220 220h160v-160H400v160Zm0 220h160v-160H400v160ZM180-400h160v-160H180v160Zm440 0h160v-160H620v160ZM180-180h160v-160H180v160Zm440 0h160v-160H620v160Z\"/>\n",
              "  </svg>\n",
              "    </button>\n",
              "\n",
              "  <style>\n",
              "    .colab-df-container {\n",
              "      display:flex;\n",
              "      gap: 12px;\n",
              "    }\n",
              "\n",
              "    .colab-df-convert {\n",
              "      background-color: #E8F0FE;\n",
              "      border: none;\n",
              "      border-radius: 50%;\n",
              "      cursor: pointer;\n",
              "      display: none;\n",
              "      fill: #1967D2;\n",
              "      height: 32px;\n",
              "      padding: 0 0 0 0;\n",
              "      width: 32px;\n",
              "    }\n",
              "\n",
              "    .colab-df-convert:hover {\n",
              "      background-color: #E2EBFA;\n",
              "      box-shadow: 0px 1px 2px rgba(60, 64, 67, 0.3), 0px 1px 3px 1px rgba(60, 64, 67, 0.15);\n",
              "      fill: #174EA6;\n",
              "    }\n",
              "\n",
              "    .colab-df-buttons div {\n",
              "      margin-bottom: 4px;\n",
              "    }\n",
              "\n",
              "    [theme=dark] .colab-df-convert {\n",
              "      background-color: #3B4455;\n",
              "      fill: #D2E3FC;\n",
              "    }\n",
              "\n",
              "    [theme=dark] .colab-df-convert:hover {\n",
              "      background-color: #434B5C;\n",
              "      box-shadow: 0px 1px 3px 1px rgba(0, 0, 0, 0.15);\n",
              "      filter: drop-shadow(0px 1px 2px rgba(0, 0, 0, 0.3));\n",
              "      fill: #FFFFFF;\n",
              "    }\n",
              "  </style>\n",
              "\n",
              "    <script>\n",
              "      const buttonEl =\n",
              "        document.querySelector('#df-c4176af9-a724-4d5b-8d9e-daacc5f64b1b button.colab-df-convert');\n",
              "      buttonEl.style.display =\n",
              "        google.colab.kernel.accessAllowed ? 'block' : 'none';\n",
              "\n",
              "      async function convertToInteractive(key) {\n",
              "        const element = document.querySelector('#df-c4176af9-a724-4d5b-8d9e-daacc5f64b1b');\n",
              "        const dataTable =\n",
              "          await google.colab.kernel.invokeFunction('convertToInteractive',\n",
              "                                                    [key], {});\n",
              "        if (!dataTable) return;\n",
              "\n",
              "        const docLinkHtml = 'Like what you see? Visit the ' +\n",
              "          '<a target=\"_blank\" href=https://colab.research.google.com/notebooks/data_table.ipynb>data table notebook</a>'\n",
              "          + ' to learn more about interactive tables.';\n",
              "        element.innerHTML = '';\n",
              "        dataTable['output_type'] = 'display_data';\n",
              "        await google.colab.output.renderOutput(dataTable, element);\n",
              "        const docLink = document.createElement('div');\n",
              "        docLink.innerHTML = docLinkHtml;\n",
              "        element.appendChild(docLink);\n",
              "      }\n",
              "    </script>\n",
              "  </div>\n",
              "\n",
              "\n",
              "<div id=\"df-b655019c-239a-4307-9743-719a2fc144c7\">\n",
              "  <button class=\"colab-df-quickchart\" onclick=\"quickchart('df-b655019c-239a-4307-9743-719a2fc144c7')\"\n",
              "            title=\"Suggest charts\"\n",
              "            style=\"display:none;\">\n",
              "\n",
              "<svg xmlns=\"http://www.w3.org/2000/svg\" height=\"24px\"viewBox=\"0 0 24 24\"\n",
              "     width=\"24px\">\n",
              "    <g>\n",
              "        <path d=\"M19 3H5c-1.1 0-2 .9-2 2v14c0 1.1.9 2 2 2h14c1.1 0 2-.9 2-2V5c0-1.1-.9-2-2-2zM9 17H7v-7h2v7zm4 0h-2V7h2v10zm4 0h-2v-4h2v4z\"/>\n",
              "    </g>\n",
              "</svg>\n",
              "  </button>\n",
              "\n",
              "<style>\n",
              "  .colab-df-quickchart {\n",
              "      --bg-color: #E8F0FE;\n",
              "      --fill-color: #1967D2;\n",
              "      --hover-bg-color: #E2EBFA;\n",
              "      --hover-fill-color: #174EA6;\n",
              "      --disabled-fill-color: #AAA;\n",
              "      --disabled-bg-color: #DDD;\n",
              "  }\n",
              "\n",
              "  [theme=dark] .colab-df-quickchart {\n",
              "      --bg-color: #3B4455;\n",
              "      --fill-color: #D2E3FC;\n",
              "      --hover-bg-color: #434B5C;\n",
              "      --hover-fill-color: #FFFFFF;\n",
              "      --disabled-bg-color: #3B4455;\n",
              "      --disabled-fill-color: #666;\n",
              "  }\n",
              "\n",
              "  .colab-df-quickchart {\n",
              "    background-color: var(--bg-color);\n",
              "    border: none;\n",
              "    border-radius: 50%;\n",
              "    cursor: pointer;\n",
              "    display: none;\n",
              "    fill: var(--fill-color);\n",
              "    height: 32px;\n",
              "    padding: 0;\n",
              "    width: 32px;\n",
              "  }\n",
              "\n",
              "  .colab-df-quickchart:hover {\n",
              "    background-color: var(--hover-bg-color);\n",
              "    box-shadow: 0 1px 2px rgba(60, 64, 67, 0.3), 0 1px 3px 1px rgba(60, 64, 67, 0.15);\n",
              "    fill: var(--button-hover-fill-color);\n",
              "  }\n",
              "\n",
              "  .colab-df-quickchart-complete:disabled,\n",
              "  .colab-df-quickchart-complete:disabled:hover {\n",
              "    background-color: var(--disabled-bg-color);\n",
              "    fill: var(--disabled-fill-color);\n",
              "    box-shadow: none;\n",
              "  }\n",
              "\n",
              "  .colab-df-spinner {\n",
              "    border: 2px solid var(--fill-color);\n",
              "    border-color: transparent;\n",
              "    border-bottom-color: var(--fill-color);\n",
              "    animation:\n",
              "      spin 1s steps(1) infinite;\n",
              "  }\n",
              "\n",
              "  @keyframes spin {\n",
              "    0% {\n",
              "      border-color: transparent;\n",
              "      border-bottom-color: var(--fill-color);\n",
              "      border-left-color: var(--fill-color);\n",
              "    }\n",
              "    20% {\n",
              "      border-color: transparent;\n",
              "      border-left-color: var(--fill-color);\n",
              "      border-top-color: var(--fill-color);\n",
              "    }\n",
              "    30% {\n",
              "      border-color: transparent;\n",
              "      border-left-color: var(--fill-color);\n",
              "      border-top-color: var(--fill-color);\n",
              "      border-right-color: var(--fill-color);\n",
              "    }\n",
              "    40% {\n",
              "      border-color: transparent;\n",
              "      border-right-color: var(--fill-color);\n",
              "      border-top-color: var(--fill-color);\n",
              "    }\n",
              "    60% {\n",
              "      border-color: transparent;\n",
              "      border-right-color: var(--fill-color);\n",
              "    }\n",
              "    80% {\n",
              "      border-color: transparent;\n",
              "      border-right-color: var(--fill-color);\n",
              "      border-bottom-color: var(--fill-color);\n",
              "    }\n",
              "    90% {\n",
              "      border-color: transparent;\n",
              "      border-bottom-color: var(--fill-color);\n",
              "    }\n",
              "  }\n",
              "</style>\n",
              "\n",
              "  <script>\n",
              "    async function quickchart(key) {\n",
              "      const quickchartButtonEl =\n",
              "        document.querySelector('#' + key + ' button');\n",
              "      quickchartButtonEl.disabled = true;  // To prevent multiple clicks.\n",
              "      quickchartButtonEl.classList.add('colab-df-spinner');\n",
              "      try {\n",
              "        const charts = await google.colab.kernel.invokeFunction(\n",
              "            'suggestCharts', [key], {});\n",
              "      } catch (error) {\n",
              "        console.error('Error during call to suggestCharts:', error);\n",
              "      }\n",
              "      quickchartButtonEl.classList.remove('colab-df-spinner');\n",
              "      quickchartButtonEl.classList.add('colab-df-quickchart-complete');\n",
              "    }\n",
              "    (() => {\n",
              "      let quickchartButtonEl =\n",
              "        document.querySelector('#df-b655019c-239a-4307-9743-719a2fc144c7 button');\n",
              "      quickchartButtonEl.style.display =\n",
              "        google.colab.kernel.accessAllowed ? 'block' : 'none';\n",
              "    })();\n",
              "  </script>\n",
              "</div>\n",
              "\n",
              "    </div>\n",
              "  </div>\n"
            ],
            "text/plain": [
              "     age  sex  cp  trestbps  chol  fbs  restecg  thalach  exang  oldpeak  \\\n",
              "353   67    1   0       100   299    0        0      125      1      0.9   \n",
              "428   40    1   3       140   199    0        1      178      1      1.4   \n",
              "368   54    1   0       122   286    0        0      116      1      3.2   \n",
              "59    57    0   0       128   303    0        0      159      0      0.0   \n",
              "203   68    1   2       180   274    1        0      150      1      1.6   \n",
              "\n",
              "     slope  ca  thal  target  \n",
              "353      1   2     2       0  \n",
              "428      2   0     3       1  \n",
              "368      1   2     2       0  \n",
              "59       2   1     2       1  \n",
              "203      1   0     3       0  "
            ]
          },
          "execution_count": 6,
          "metadata": {},
          "output_type": "execute_result"
        }
      ],
      "source": [
        "dataset.sample(5)"
      ]
    },
    {
      "cell_type": "code",
      "execution_count": null,
      "metadata": {
        "colab": {
          "base_uri": "https://localhost:8080/",
          "height": 320
        },
        "id": "6gBDfaecJBwb",
        "outputId": "be62a323-ee6e-4f1f-d9ee-6fde565ba3a1"
      },
      "outputs": [
        {
          "data": {
            "application/vnd.google.colaboratory.intrinsic+json": {
              "summary": "{\n  \"name\": \"dataset\",\n  \"rows\": 8,\n  \"fields\": [\n    {\n      \"column\": \"age\",\n      \"properties\": {\n        \"dtype\": \"number\",\n        \"std\": 167.6985807559959,\n        \"min\": 5.0,\n        \"max\": 514.0,\n        \"num_unique_values\": 8,\n        \"samples\": [\n          52.41828793774319,\n          54.0,\n          514.0\n        ],\n        \"semantic_type\": \"\",\n        \"description\": \"\"\n      }\n    },\n    {\n      \"column\": \"sex\",\n      \"properties\": {\n        \"dtype\": \"number\",\n        \"std\": 181.5172664226177,\n        \"min\": 0.0,\n        \"max\": 514.0,\n        \"num_unique_values\": 5,\n        \"samples\": [\n          0.6867704280155642,\n          1.0,\n          0.4642586975244587\n        ],\n        \"semantic_type\": \"\",\n        \"description\": \"\"\n      }\n    },\n    {\n      \"column\": \"cp\",\n      \"properties\": {\n        \"dtype\": \"number\",\n        \"std\": 181.3241589792338,\n        \"min\": 0.0,\n        \"max\": 514.0,\n        \"num_unique_values\": 7,\n        \"samples\": [\n          514.0,\n          0.9747081712062257,\n          2.0\n        ],\n        \"semantic_type\": \"\",\n        \"description\": \"\"\n      }\n    },\n    {\n      \"column\": \"trestbps\",\n      \"properties\": {\n        \"dtype\": \"number\",\n        \"std\": 148.6087368728732,\n        \"min\": 17.792478725823884,\n        \"max\": 514.0,\n        \"num_unique_values\": 8,\n        \"samples\": [\n          132.17315175097275,\n          130.0,\n          514.0\n        ],\n        \"semantic_type\": \"\",\n        \"description\": \"\"\n      }\n    },\n    {\n      \"column\": \"chol\",\n      \"properties\": {\n        \"dtype\": \"number\",\n        \"std\": 179.3105442873182,\n        \"min\": 53.33489143740835,\n        \"max\": 564.0,\n        \"num_unique_values\": 8,\n        \"samples\": [\n          246.61867704280155,\n          241.0,\n          514.0\n        ],\n        \"semantic_type\": \"\",\n        \"description\": \"\"\n      }\n    },\n    {\n      \"column\": \"fbs\",\n      \"properties\": {\n        \"dtype\": \"number\",\n        \"std\": 181.64931295580072,\n        \"min\": 0.0,\n        \"max\": 514.0,\n        \"num_unique_values\": 5,\n        \"samples\": [\n          0.16342412451361868,\n          1.0,\n          0.37011239413206326\n        ],\n        \"semantic_type\": \"\",\n        \"description\": \"\"\n      }\n    },\n    {\n      \"column\": \"restecg\",\n      \"properties\": {\n        \"dtype\": \"number\",\n        \"std\": 181.47262461498033,\n        \"min\": 0.0,\n        \"max\": 514.0,\n        \"num_unique_values\": 6,\n        \"samples\": [\n          514.0,\n          0.5214007782101168,\n          2.0\n        ],\n        \"semantic_type\": \"\",\n        \"description\": \"\"\n      }\n    },\n    {\n      \"column\": \"thalach\",\n      \"properties\": {\n        \"dtype\": \"number\",\n        \"std\": 147.62209351407984,\n        \"min\": 23.363381128683514,\n        \"max\": 514.0,\n        \"num_unique_values\": 8,\n        \"samples\": [\n          149.2898832684825,\n          152.0,\n          514.0\n        ],\n        \"semantic_type\": \"\",\n        \"description\": \"\"\n      }\n    },\n    {\n      \"column\": \"exang\",\n      \"properties\": {\n        \"dtype\": \"number\",\n        \"std\": 181.58514609441943,\n        \"min\": 0.0,\n        \"max\": 514.0,\n        \"num_unique_values\": 5,\n        \"samples\": [\n          0.3346303501945525,\n          1.0,\n          0.4723207597911632\n        ],\n        \"semantic_type\": \"\",\n        \"description\": \"\"\n      }\n    },\n    {\n      \"column\": \"oldpeak\",\n      \"properties\": {\n        \"dtype\": \"number\",\n        \"std\": 181.18983066553687,\n        \"min\": 0.0,\n        \"max\": 514.0,\n        \"num_unique_values\": 7,\n        \"samples\": [\n          514.0,\n          1.0645914396887157,\n          1.6\n        ],\n        \"semantic_type\": \"\",\n        \"description\": \"\"\n      }\n    },\n    {\n      \"column\": \"slope\",\n      \"properties\": {\n        \"dtype\": \"number\",\n        \"std\": 181.32312897281273,\n        \"min\": 0.0,\n        \"max\": 514.0,\n        \"num_unique_values\": 6,\n        \"samples\": [\n          514.0,\n          1.3910505836575875,\n          2.0\n        ],\n        \"semantic_type\": \"\",\n        \"description\": \"\"\n      }\n    },\n    {\n      \"column\": \"ca\",\n      \"properties\": {\n        \"dtype\": \"number\",\n        \"std\": 181.38923784348762,\n        \"min\": 0.0,\n        \"max\": 514.0,\n        \"num_unique_values\": 6,\n        \"samples\": [\n          514.0,\n          0.7470817120622568,\n          4.0\n        ],\n        \"semantic_type\": \"\",\n        \"description\": \"\"\n      }\n    },\n    {\n      \"column\": \"thal\",\n      \"properties\": {\n        \"dtype\": \"number\",\n        \"std\": 181.07642098495535,\n        \"min\": 0.0,\n        \"max\": 514.0,\n        \"num_unique_values\": 6,\n        \"samples\": [\n          514.0,\n          2.307392996108949,\n          3.0\n        ],\n        \"semantic_type\": \"\",\n        \"description\": \"\"\n      }\n    },\n    {\n      \"column\": \"target\",\n      \"properties\": {\n        \"dtype\": \"number\",\n        \"std\": 181.5229752409106,\n        \"min\": 0.0,\n        \"max\": 514.0,\n        \"num_unique_values\": 5,\n        \"samples\": [\n          0.5389105058365758,\n          1.0,\n          0.4989692882830027\n        ],\n        \"semantic_type\": \"\",\n        \"description\": \"\"\n      }\n    }\n  ]\n}",
              "type": "dataframe"
            },
            "text/html": [
              "\n",
              "  <div id=\"df-be861d60-1bf6-41e2-a07c-e0b25afe648f\" class=\"colab-df-container\">\n",
              "    <div>\n",
              "<style scoped>\n",
              "    .dataframe tbody tr th:only-of-type {\n",
              "        vertical-align: middle;\n",
              "    }\n",
              "\n",
              "    .dataframe tbody tr th {\n",
              "        vertical-align: top;\n",
              "    }\n",
              "\n",
              "    .dataframe thead th {\n",
              "        text-align: right;\n",
              "    }\n",
              "</style>\n",
              "<table border=\"1\" class=\"dataframe\">\n",
              "  <thead>\n",
              "    <tr style=\"text-align: right;\">\n",
              "      <th></th>\n",
              "      <th>age</th>\n",
              "      <th>sex</th>\n",
              "      <th>cp</th>\n",
              "      <th>trestbps</th>\n",
              "      <th>chol</th>\n",
              "      <th>fbs</th>\n",
              "      <th>restecg</th>\n",
              "      <th>thalach</th>\n",
              "      <th>exang</th>\n",
              "      <th>oldpeak</th>\n",
              "      <th>slope</th>\n",
              "      <th>ca</th>\n",
              "      <th>thal</th>\n",
              "      <th>target</th>\n",
              "    </tr>\n",
              "  </thead>\n",
              "  <tbody>\n",
              "    <tr>\n",
              "      <th>count</th>\n",
              "      <td>514.000000</td>\n",
              "      <td>514.000000</td>\n",
              "      <td>514.000000</td>\n",
              "      <td>514.000000</td>\n",
              "      <td>514.000000</td>\n",
              "      <td>514.000000</td>\n",
              "      <td>514.000000</td>\n",
              "      <td>514.000000</td>\n",
              "      <td>514.000000</td>\n",
              "      <td>514.000000</td>\n",
              "      <td>514.000000</td>\n",
              "      <td>514.000000</td>\n",
              "      <td>514.000000</td>\n",
              "      <td>514.000000</td>\n",
              "    </tr>\n",
              "    <tr>\n",
              "      <th>mean</th>\n",
              "      <td>52.418288</td>\n",
              "      <td>0.686770</td>\n",
              "      <td>0.974708</td>\n",
              "      <td>132.173152</td>\n",
              "      <td>246.618677</td>\n",
              "      <td>0.163424</td>\n",
              "      <td>0.521401</td>\n",
              "      <td>149.289883</td>\n",
              "      <td>0.334630</td>\n",
              "      <td>1.064591</td>\n",
              "      <td>1.391051</td>\n",
              "      <td>0.747082</td>\n",
              "      <td>2.307393</td>\n",
              "      <td>0.538911</td>\n",
              "    </tr>\n",
              "    <tr>\n",
              "      <th>std</th>\n",
              "      <td>13.101275</td>\n",
              "      <td>0.464259</td>\n",
              "      <td>1.043565</td>\n",
              "      <td>17.792479</td>\n",
              "      <td>53.334891</td>\n",
              "      <td>0.370112</td>\n",
              "      <td>0.526611</td>\n",
              "      <td>23.363381</td>\n",
              "      <td>0.472321</td>\n",
              "      <td>1.173419</td>\n",
              "      <td>0.618744</td>\n",
              "      <td>1.023239</td>\n",
              "      <td>0.623503</td>\n",
              "      <td>0.498969</td>\n",
              "    </tr>\n",
              "    <tr>\n",
              "      <th>min</th>\n",
              "      <td>5.000000</td>\n",
              "      <td>0.000000</td>\n",
              "      <td>0.000000</td>\n",
              "      <td>94.000000</td>\n",
              "      <td>104.000000</td>\n",
              "      <td>0.000000</td>\n",
              "      <td>0.000000</td>\n",
              "      <td>71.000000</td>\n",
              "      <td>0.000000</td>\n",
              "      <td>0.000000</td>\n",
              "      <td>0.000000</td>\n",
              "      <td>0.000000</td>\n",
              "      <td>0.000000</td>\n",
              "      <td>0.000000</td>\n",
              "    </tr>\n",
              "    <tr>\n",
              "      <th>25%</th>\n",
              "      <td>45.000000</td>\n",
              "      <td>0.000000</td>\n",
              "      <td>0.000000</td>\n",
              "      <td>120.000000</td>\n",
              "      <td>211.000000</td>\n",
              "      <td>0.000000</td>\n",
              "      <td>0.000000</td>\n",
              "      <td>132.250000</td>\n",
              "      <td>0.000000</td>\n",
              "      <td>0.000000</td>\n",
              "      <td>1.000000</td>\n",
              "      <td>0.000000</td>\n",
              "      <td>2.000000</td>\n",
              "      <td>0.000000</td>\n",
              "    </tr>\n",
              "    <tr>\n",
              "      <th>50%</th>\n",
              "      <td>54.000000</td>\n",
              "      <td>1.000000</td>\n",
              "      <td>1.000000</td>\n",
              "      <td>130.000000</td>\n",
              "      <td>241.000000</td>\n",
              "      <td>0.000000</td>\n",
              "      <td>1.000000</td>\n",
              "      <td>152.000000</td>\n",
              "      <td>0.000000</td>\n",
              "      <td>0.800000</td>\n",
              "      <td>1.000000</td>\n",
              "      <td>0.000000</td>\n",
              "      <td>2.000000</td>\n",
              "      <td>1.000000</td>\n",
              "    </tr>\n",
              "    <tr>\n",
              "      <th>75%</th>\n",
              "      <td>60.000000</td>\n",
              "      <td>1.000000</td>\n",
              "      <td>2.000000</td>\n",
              "      <td>140.000000</td>\n",
              "      <td>275.000000</td>\n",
              "      <td>0.000000</td>\n",
              "      <td>1.000000</td>\n",
              "      <td>166.000000</td>\n",
              "      <td>1.000000</td>\n",
              "      <td>1.600000</td>\n",
              "      <td>2.000000</td>\n",
              "      <td>1.000000</td>\n",
              "      <td>3.000000</td>\n",
              "      <td>1.000000</td>\n",
              "    </tr>\n",
              "    <tr>\n",
              "      <th>max</th>\n",
              "      <td>93.000000</td>\n",
              "      <td>1.000000</td>\n",
              "      <td>3.000000</td>\n",
              "      <td>200.000000</td>\n",
              "      <td>564.000000</td>\n",
              "      <td>1.000000</td>\n",
              "      <td>2.000000</td>\n",
              "      <td>202.000000</td>\n",
              "      <td>1.000000</td>\n",
              "      <td>6.200000</td>\n",
              "      <td>2.000000</td>\n",
              "      <td>4.000000</td>\n",
              "      <td>3.000000</td>\n",
              "      <td>1.000000</td>\n",
              "    </tr>\n",
              "  </tbody>\n",
              "</table>\n",
              "</div>\n",
              "    <div class=\"colab-df-buttons\">\n",
              "\n",
              "  <div class=\"colab-df-container\">\n",
              "    <button class=\"colab-df-convert\" onclick=\"convertToInteractive('df-be861d60-1bf6-41e2-a07c-e0b25afe648f')\"\n",
              "            title=\"Convert this dataframe to an interactive table.\"\n",
              "            style=\"display:none;\">\n",
              "\n",
              "  <svg xmlns=\"http://www.w3.org/2000/svg\" height=\"24px\" viewBox=\"0 -960 960 960\">\n",
              "    <path d=\"M120-120v-720h720v720H120Zm60-500h600v-160H180v160Zm220 220h160v-160H400v160Zm0 220h160v-160H400v160ZM180-400h160v-160H180v160Zm440 0h160v-160H620v160ZM180-180h160v-160H180v160Zm440 0h160v-160H620v160Z\"/>\n",
              "  </svg>\n",
              "    </button>\n",
              "\n",
              "  <style>\n",
              "    .colab-df-container {\n",
              "      display:flex;\n",
              "      gap: 12px;\n",
              "    }\n",
              "\n",
              "    .colab-df-convert {\n",
              "      background-color: #E8F0FE;\n",
              "      border: none;\n",
              "      border-radius: 50%;\n",
              "      cursor: pointer;\n",
              "      display: none;\n",
              "      fill: #1967D2;\n",
              "      height: 32px;\n",
              "      padding: 0 0 0 0;\n",
              "      width: 32px;\n",
              "    }\n",
              "\n",
              "    .colab-df-convert:hover {\n",
              "      background-color: #E2EBFA;\n",
              "      box-shadow: 0px 1px 2px rgba(60, 64, 67, 0.3), 0px 1px 3px 1px rgba(60, 64, 67, 0.15);\n",
              "      fill: #174EA6;\n",
              "    }\n",
              "\n",
              "    .colab-df-buttons div {\n",
              "      margin-bottom: 4px;\n",
              "    }\n",
              "\n",
              "    [theme=dark] .colab-df-convert {\n",
              "      background-color: #3B4455;\n",
              "      fill: #D2E3FC;\n",
              "    }\n",
              "\n",
              "    [theme=dark] .colab-df-convert:hover {\n",
              "      background-color: #434B5C;\n",
              "      box-shadow: 0px 1px 3px 1px rgba(0, 0, 0, 0.15);\n",
              "      filter: drop-shadow(0px 1px 2px rgba(0, 0, 0, 0.3));\n",
              "      fill: #FFFFFF;\n",
              "    }\n",
              "  </style>\n",
              "\n",
              "    <script>\n",
              "      const buttonEl =\n",
              "        document.querySelector('#df-be861d60-1bf6-41e2-a07c-e0b25afe648f button.colab-df-convert');\n",
              "      buttonEl.style.display =\n",
              "        google.colab.kernel.accessAllowed ? 'block' : 'none';\n",
              "\n",
              "      async function convertToInteractive(key) {\n",
              "        const element = document.querySelector('#df-be861d60-1bf6-41e2-a07c-e0b25afe648f');\n",
              "        const dataTable =\n",
              "          await google.colab.kernel.invokeFunction('convertToInteractive',\n",
              "                                                    [key], {});\n",
              "        if (!dataTable) return;\n",
              "\n",
              "        const docLinkHtml = 'Like what you see? Visit the ' +\n",
              "          '<a target=\"_blank\" href=https://colab.research.google.com/notebooks/data_table.ipynb>data table notebook</a>'\n",
              "          + ' to learn more about interactive tables.';\n",
              "        element.innerHTML = '';\n",
              "        dataTable['output_type'] = 'display_data';\n",
              "        await google.colab.output.renderOutput(dataTable, element);\n",
              "        const docLink = document.createElement('div');\n",
              "        docLink.innerHTML = docLinkHtml;\n",
              "        element.appendChild(docLink);\n",
              "      }\n",
              "    </script>\n",
              "  </div>\n",
              "\n",
              "\n",
              "<div id=\"df-4eaf3c4d-00b1-45e0-97e4-fbc559f279fd\">\n",
              "  <button class=\"colab-df-quickchart\" onclick=\"quickchart('df-4eaf3c4d-00b1-45e0-97e4-fbc559f279fd')\"\n",
              "            title=\"Suggest charts\"\n",
              "            style=\"display:none;\">\n",
              "\n",
              "<svg xmlns=\"http://www.w3.org/2000/svg\" height=\"24px\"viewBox=\"0 0 24 24\"\n",
              "     width=\"24px\">\n",
              "    <g>\n",
              "        <path d=\"M19 3H5c-1.1 0-2 .9-2 2v14c0 1.1.9 2 2 2h14c1.1 0 2-.9 2-2V5c0-1.1-.9-2-2-2zM9 17H7v-7h2v7zm4 0h-2V7h2v10zm4 0h-2v-4h2v4z\"/>\n",
              "    </g>\n",
              "</svg>\n",
              "  </button>\n",
              "\n",
              "<style>\n",
              "  .colab-df-quickchart {\n",
              "      --bg-color: #E8F0FE;\n",
              "      --fill-color: #1967D2;\n",
              "      --hover-bg-color: #E2EBFA;\n",
              "      --hover-fill-color: #174EA6;\n",
              "      --disabled-fill-color: #AAA;\n",
              "      --disabled-bg-color: #DDD;\n",
              "  }\n",
              "\n",
              "  [theme=dark] .colab-df-quickchart {\n",
              "      --bg-color: #3B4455;\n",
              "      --fill-color: #D2E3FC;\n",
              "      --hover-bg-color: #434B5C;\n",
              "      --hover-fill-color: #FFFFFF;\n",
              "      --disabled-bg-color: #3B4455;\n",
              "      --disabled-fill-color: #666;\n",
              "  }\n",
              "\n",
              "  .colab-df-quickchart {\n",
              "    background-color: var(--bg-color);\n",
              "    border: none;\n",
              "    border-radius: 50%;\n",
              "    cursor: pointer;\n",
              "    display: none;\n",
              "    fill: var(--fill-color);\n",
              "    height: 32px;\n",
              "    padding: 0;\n",
              "    width: 32px;\n",
              "  }\n",
              "\n",
              "  .colab-df-quickchart:hover {\n",
              "    background-color: var(--hover-bg-color);\n",
              "    box-shadow: 0 1px 2px rgba(60, 64, 67, 0.3), 0 1px 3px 1px rgba(60, 64, 67, 0.15);\n",
              "    fill: var(--button-hover-fill-color);\n",
              "  }\n",
              "\n",
              "  .colab-df-quickchart-complete:disabled,\n",
              "  .colab-df-quickchart-complete:disabled:hover {\n",
              "    background-color: var(--disabled-bg-color);\n",
              "    fill: var(--disabled-fill-color);\n",
              "    box-shadow: none;\n",
              "  }\n",
              "\n",
              "  .colab-df-spinner {\n",
              "    border: 2px solid var(--fill-color);\n",
              "    border-color: transparent;\n",
              "    border-bottom-color: var(--fill-color);\n",
              "    animation:\n",
              "      spin 1s steps(1) infinite;\n",
              "  }\n",
              "\n",
              "  @keyframes spin {\n",
              "    0% {\n",
              "      border-color: transparent;\n",
              "      border-bottom-color: var(--fill-color);\n",
              "      border-left-color: var(--fill-color);\n",
              "    }\n",
              "    20% {\n",
              "      border-color: transparent;\n",
              "      border-left-color: var(--fill-color);\n",
              "      border-top-color: var(--fill-color);\n",
              "    }\n",
              "    30% {\n",
              "      border-color: transparent;\n",
              "      border-left-color: var(--fill-color);\n",
              "      border-top-color: var(--fill-color);\n",
              "      border-right-color: var(--fill-color);\n",
              "    }\n",
              "    40% {\n",
              "      border-color: transparent;\n",
              "      border-right-color: var(--fill-color);\n",
              "      border-top-color: var(--fill-color);\n",
              "    }\n",
              "    60% {\n",
              "      border-color: transparent;\n",
              "      border-right-color: var(--fill-color);\n",
              "    }\n",
              "    80% {\n",
              "      border-color: transparent;\n",
              "      border-right-color: var(--fill-color);\n",
              "      border-bottom-color: var(--fill-color);\n",
              "    }\n",
              "    90% {\n",
              "      border-color: transparent;\n",
              "      border-bottom-color: var(--fill-color);\n",
              "    }\n",
              "  }\n",
              "</style>\n",
              "\n",
              "  <script>\n",
              "    async function quickchart(key) {\n",
              "      const quickchartButtonEl =\n",
              "        document.querySelector('#' + key + ' button');\n",
              "      quickchartButtonEl.disabled = true;  // To prevent multiple clicks.\n",
              "      quickchartButtonEl.classList.add('colab-df-spinner');\n",
              "      try {\n",
              "        const charts = await google.colab.kernel.invokeFunction(\n",
              "            'suggestCharts', [key], {});\n",
              "      } catch (error) {\n",
              "        console.error('Error during call to suggestCharts:', error);\n",
              "      }\n",
              "      quickchartButtonEl.classList.remove('colab-df-spinner');\n",
              "      quickchartButtonEl.classList.add('colab-df-quickchart-complete');\n",
              "    }\n",
              "    (() => {\n",
              "      let quickchartButtonEl =\n",
              "        document.querySelector('#df-4eaf3c4d-00b1-45e0-97e4-fbc559f279fd button');\n",
              "      quickchartButtonEl.style.display =\n",
              "        google.colab.kernel.accessAllowed ? 'block' : 'none';\n",
              "    })();\n",
              "  </script>\n",
              "</div>\n",
              "\n",
              "    </div>\n",
              "  </div>\n"
            ],
            "text/plain": [
              "              age         sex          cp    trestbps        chol         fbs  \\\n",
              "count  514.000000  514.000000  514.000000  514.000000  514.000000  514.000000   \n",
              "mean    52.418288    0.686770    0.974708  132.173152  246.618677    0.163424   \n",
              "std     13.101275    0.464259    1.043565   17.792479   53.334891    0.370112   \n",
              "min      5.000000    0.000000    0.000000   94.000000  104.000000    0.000000   \n",
              "25%     45.000000    0.000000    0.000000  120.000000  211.000000    0.000000   \n",
              "50%     54.000000    1.000000    1.000000  130.000000  241.000000    0.000000   \n",
              "75%     60.000000    1.000000    2.000000  140.000000  275.000000    0.000000   \n",
              "max     93.000000    1.000000    3.000000  200.000000  564.000000    1.000000   \n",
              "\n",
              "          restecg     thalach       exang     oldpeak       slope          ca  \\\n",
              "count  514.000000  514.000000  514.000000  514.000000  514.000000  514.000000   \n",
              "mean     0.521401  149.289883    0.334630    1.064591    1.391051    0.747082   \n",
              "std      0.526611   23.363381    0.472321    1.173419    0.618744    1.023239   \n",
              "min      0.000000   71.000000    0.000000    0.000000    0.000000    0.000000   \n",
              "25%      0.000000  132.250000    0.000000    0.000000    1.000000    0.000000   \n",
              "50%      1.000000  152.000000    0.000000    0.800000    1.000000    0.000000   \n",
              "75%      1.000000  166.000000    1.000000    1.600000    2.000000    1.000000   \n",
              "max      2.000000  202.000000    1.000000    6.200000    2.000000    4.000000   \n",
              "\n",
              "             thal      target  \n",
              "count  514.000000  514.000000  \n",
              "mean     2.307393    0.538911  \n",
              "std      0.623503    0.498969  \n",
              "min      0.000000    0.000000  \n",
              "25%      2.000000    0.000000  \n",
              "50%      2.000000    1.000000  \n",
              "75%      3.000000    1.000000  \n",
              "max      3.000000    1.000000  "
            ]
          },
          "execution_count": 7,
          "metadata": {},
          "output_type": "execute_result"
        }
      ],
      "source": [
        "dataset.describe()"
      ]
    },
    {
      "cell_type": "code",
      "execution_count": null,
      "metadata": {
        "colab": {
          "base_uri": "https://localhost:8080/"
        },
        "id": "7B54Uj0GJErv",
        "outputId": "58378531-fbdb-4d7f-9a45-bd5e6357a793"
      },
      "outputs": [
        {
          "name": "stdout",
          "output_type": "stream",
          "text": [
            "<class 'pandas.core.frame.DataFrame'>\n",
            "RangeIndex: 514 entries, 0 to 513\n",
            "Data columns (total 14 columns):\n",
            " #   Column    Non-Null Count  Dtype  \n",
            "---  ------    --------------  -----  \n",
            " 0   age       514 non-null    int64  \n",
            " 1   sex       514 non-null    int64  \n",
            " 2   cp        514 non-null    int64  \n",
            " 3   trestbps  514 non-null    int64  \n",
            " 4   chol      514 non-null    int64  \n",
            " 5   fbs       514 non-null    int64  \n",
            " 6   restecg   514 non-null    int64  \n",
            " 7   thalach   514 non-null    int64  \n",
            " 8   exang     514 non-null    int64  \n",
            " 9   oldpeak   514 non-null    float64\n",
            " 10  slope     514 non-null    int64  \n",
            " 11  ca        514 non-null    int64  \n",
            " 12  thal      514 non-null    int64  \n",
            " 13  target    514 non-null    int64  \n",
            "dtypes: float64(1), int64(13)\n",
            "memory usage: 56.3 KB\n"
          ]
        }
      ],
      "source": [
        "dataset.info()"
      ]
    },
    {
      "cell_type": "code",
      "execution_count": null,
      "metadata": {
        "id": "Ki_U8Z-aJIKT"
      },
      "outputs": [],
      "source": [
        "###Luckily, we have no missing values"
      ]
    },
    {
      "cell_type": "code",
      "execution_count": null,
      "metadata": {
        "colab": {
          "base_uri": "https://localhost:8080/"
        },
        "id": "YKuFT32gJNy8",
        "outputId": "dc66358e-2b5e-42b9-e8a6-a20101ed1e81"
      },
      "outputs": [
        {
          "name": "stdout",
          "output_type": "stream",
          "text": [
            "age:\t\t\tage\n",
            "sex:\t\t\t1: male, 0: female\n",
            "cp:\t\t\tchest pain type, 1: typical angina, 2: atypical angina, 3: non-anginal pain, 4: asymptomatic\n",
            "trestbps:\t\t\tresting blood pressure\n",
            "chol:\t\t\t serum cholestoral in mg/dl\n",
            "fbs:\t\t\tfasting blood sugar > 120 mg/dl\n",
            "restecg:\t\t\tresting electrocardiographic results (values 0,1,2)\n",
            "thalach:\t\t\t maximum heart rate achieved\n",
            "exang:\t\t\texercise induced angina\n",
            "oldpeak:\t\t\toldpeak = ST depression induced by exercise relative to rest\n",
            "slope:\t\t\tthe slope of the peak exercise ST segment\n",
            "ca:\t\t\tnumber of major vessels (0-3) colored by flourosopy\n",
            "thal:\t\t\tthal: 3 = normal; 6 = fixed defect; 7 = reversable defect\n"
          ]
        }
      ],
      "source": [
        "info = [\"age\",\"1: male, 0: female\",\"chest pain type, 1: typical angina, 2: atypical angina, 3: non-anginal pain, 4: asymptomatic\",\"resting blood pressure\",\" serum cholestoral in mg/dl\",\"fasting blood sugar > 120 mg/dl\",\"resting electrocardiographic results (values 0,1,2)\",\" maximum heart rate achieved\",\"exercise induced angina\",\"oldpeak = ST depression induced by exercise relative to rest\",\"the slope of the peak exercise ST segment\",\"number of major vessels (0-3) colored by flourosopy\",\"thal: 3 = normal; 6 = fixed defect; 7 = reversable defect\"]\n",
        "\n",
        "\n",
        "\n",
        "for i in range(len(info)):\n",
        "    print(dataset.columns[i]+\":\\t\\t\\t\"+info[i])"
      ]
    },
    {
      "cell_type": "code",
      "execution_count": null,
      "metadata": {
        "colab": {
          "base_uri": "https://localhost:8080/"
        },
        "id": "3wBnpBpQJUYC",
        "outputId": "a2740197-c37d-427c-aad2-8f6095138e09"
      },
      "outputs": [
        {
          "data": {
            "text/plain": [
              "count    514.000000\n",
              "mean       0.538911\n",
              "std        0.498969\n",
              "min        0.000000\n",
              "25%        0.000000\n",
              "50%        1.000000\n",
              "75%        1.000000\n",
              "max        1.000000\n",
              "Name: target, dtype: float64"
            ]
          },
          "execution_count": 11,
          "metadata": {},
          "output_type": "execute_result"
        }
      ],
      "source": [
        "dataset[\"target\"].describe()"
      ]
    },
    {
      "cell_type": "code",
      "execution_count": null,
      "metadata": {
        "colab": {
          "base_uri": "https://localhost:8080/"
        },
        "id": "GJeUHwCdJXR2",
        "outputId": "1ac7a1b7-5ef9-477a-a5a7-28b23e5aa39f"
      },
      "outputs": [
        {
          "data": {
            "text/plain": [
              "array([1, 0])"
            ]
          },
          "execution_count": 12,
          "metadata": {},
          "output_type": "execute_result"
        }
      ],
      "source": [
        "dataset[\"target\"].unique()"
      ]
    },
    {
      "cell_type": "code",
      "execution_count": null,
      "metadata": {
        "colab": {
          "base_uri": "https://localhost:8080/"
        },
        "id": "YkqoOI51JeI_",
        "outputId": "ed257ee9-1bfc-47f6-c258-224059e8a0ed"
      },
      "outputs": [
        {
          "name": "stdout",
          "output_type": "stream",
          "text": [
            "target      1.000000\n",
            "thalach     0.446914\n",
            "cp          0.441767\n",
            "exang       0.411021\n",
            "ca          0.404481\n",
            "oldpeak     0.385175\n",
            "slope       0.332610\n",
            "thal        0.301680\n",
            "age         0.259983\n",
            "sex         0.237598\n",
            "trestbps    0.139858\n",
            "restecg     0.108103\n",
            "chol        0.049983\n",
            "fbs         0.013389\n",
            "Name: target, dtype: float64\n"
          ]
        }
      ],
      "source": [
        "print(dataset.corr()[\"target\"].abs().sort_values(ascending=False))"
      ]
    },
    {
      "cell_type": "code",
      "execution_count": null,
      "metadata": {
        "id": "Wd9FXt8dJh-9"
      },
      "outputs": [],
      "source": [
        "#This shows that most columns are moderately correlated with target, but 'fbs' is very weakly correlated."
      ]
    },
    {
      "cell_type": "code",
      "execution_count": null,
      "metadata": {
        "colab": {
          "base_uri": "https://localhost:8080/",
          "height": 499
        },
        "id": "5bhcZYhLJy_y",
        "outputId": "e53d2d91-8cbc-44a4-ba9c-8c07140b86f5"
      },
      "outputs": [
        {
          "name": "stdout",
          "output_type": "stream",
          "text": [
            "target\n",
            "1    277\n",
            "0    237\n",
            "Name: count, dtype: int64\n"
          ]
        },
        {
          "data": {
            "image/png": "[encoded data removed]",
            "text/plain": [
              "<Figure size 640x480 with 1 Axes>"
            ]
          },
          "metadata": {},
          "output_type": "display_data"
        }
      ],
      "source": [
        "y = dataset[\"target\"]\n",
        "\n",
        "sns.countplot(y)\n",
        "\n",
        "\n",
        "target_temp = dataset.target.value_counts()\n",
        "\n",
        "print(target_temp)"
      ]
    },
    {
      "cell_type": "code",
      "execution_count": null,
      "metadata": {
        "colab": {
          "base_uri": "https://localhost:8080/"
        },
        "id": "CmwFoT7BJ6nh",
        "outputId": "9847e423-4ace-4f2d-fc99-3a57d015e86f"
      },
      "outputs": [
        {
          "name": "stdout",
          "output_type": "stream",
          "text": [
            "Percentage of patience without heart problems: 78.22\n",
            "Percentage of patience with heart problems: 91.42\n"
          ]
        }
      ],
      "source": [
        "print(\"Percentage of patience without heart problems: \"+str(round(target_temp[0]*100/303,2)))\n",
        "print(\"Percentage of patience with heart problems: \"+str(round(target_temp[1]*100/303,2)))\n",
        "\n",
        "#Alternatively,\n",
        "# print(\"Percentage of patience with heart problems: \"+str(y.where(y==1).count()*100/303))\n",
        "# print(\"Percentage of patience with heart problems: \"+str(y.where(y==0).count()*100/303))\n",
        "\n",
        "# #Or,\n",
        "# countNoDisease = len(df[df.target == 0])\n",
        "# countHaveDisease = len(df[df.target == 1])"
      ]
    },
    {
      "cell_type": "code",
      "execution_count": null,
      "metadata": {
        "colab": {
          "base_uri": "https://localhost:8080/"
        },
        "id": "ZhDILkeYKARD",
        "outputId": "59ce8217-b605-40b8-c3c0-b96ef040fc0b"
      },
      "outputs": [
        {
          "data": {
            "text/plain": [
              "array([1, 0])"
            ]
          },
          "execution_count": 17,
          "metadata": {},
          "output_type": "execute_result"
        }
      ],
      "source": [
        "dataset[\"sex\"].unique()"
      ]
    },
    {
      "cell_type": "code",
      "execution_count": null,
      "metadata": {
        "id": "EvtFzIhqKUJO"
      },
      "outputs": [],
      "source": [
        "import seaborn as sns"
      ]
    },
    {
      "cell_type": "code",
      "execution_count": null,
      "metadata": {
        "id": "KBv2DaJIKUkx"
      },
      "outputs": [],
      "source": [
        "data = dataset[\"sex\"]\n",
        "y = None  # Replace with the desired y-axis variable"
      ]
    },
    {
      "cell_type": "code",
      "execution_count": null,
      "metadata": {
        "colab": {
          "base_uri": "https://localhost:8080/",
          "height": 466
        },
        "id": "-6uYvQ6fKVP3",
        "outputId": "a0483a32-444f-416d-f42a-54d6fb424bba"
      },
      "outputs": [
        {
          "data": {
            "text/plain": [
              "<Axes: xlabel='sex'>"
            ]
          },
          "execution_count": 20,
          "metadata": {},
          "output_type": "execute_result"
        },
        {
          "data": {
            "image/png": "[encoded data removed]",
            "text/plain": [
              "<Figure size 640x480 with 1 Axes>"
            ]
          },
          "metadata": {},
          "output_type": "display_data"
        }
      ],
      "source": [
        "sns.barplot(x=data, y=y)"
      ]
    },
    {
      "cell_type": "code",
      "execution_count": null,
      "metadata": {
        "colab": {
          "base_uri": "https://localhost:8080/"
        },
        "id": "kV3AU5EtKZUZ",
        "outputId": "37cd8d4d-607d-4f43-cdab-7ba7ae3d4313"
      },
      "outputs": [
        {
          "data": {
            "text/plain": [
              "array([3, 2, 1, 0])"
            ]
          },
          "execution_count": 21,
          "metadata": {},
          "output_type": "execute_result"
        }
      ],
      "source": [
        "dataset[\"cp\"].unique()"
      ]
    },
    {
      "cell_type": "code",
      "execution_count": null,
      "metadata": {
        "id": "_1JETpzLKkbt"
      },
      "outputs": [],
      "source": [
        "import seaborn as sns"
      ]
    },
    {
      "cell_type": "code",
      "execution_count": null,
      "metadata": {
        "colab": {
          "base_uri": "https://localhost:8080/"
        },
        "id": "gnOG7aJ-KkuI",
        "outputId": "0d0a1406-ebc5-4147-d57d-59511f4083a1"
      },
      "outputs": [
        {
          "name": "stdout",
          "output_type": "stream",
          "text": [
            "Help on function barplot in module seaborn.categorical:\n",
            "\n",
            "barplot(data=None, *, x=None, y=None, hue=None, order=None, hue_order=None, estimator='mean', errorbar=('ci', 95), n_boot=1000, seed=None, units=None, weights=None, orient=None, color=None, palette=None, saturation=0.75, fill=True, hue_norm=None, width=0.8, dodge='auto', gap=0, log_scale=None, native_scale=False, formatter=None, legend='auto', capsize=0, err_kws=None, ci=<deprecated>, errcolor=<deprecated>, errwidth=<deprecated>, ax=None, **kwargs)\n",
            "    Show point estimates and errors as rectangular bars.\n",
            "    \n",
            "    A bar plot represents an aggregate or statistical estimate for a numeric\n",
            "    variable with the height of each rectangle and indicates the uncertainty\n",
            "    around that estimate using an error bar. Bar plots include 0 in the\n",
            "    axis range, and they are a good choice when 0 is a meaningful value\n",
            "    for the variable to take.\n",
            "    \n",
            "    See the :ref:`tutorial <categorical_tutorial>` for more information.\n",
            "    \n",
            "    .. note::\n",
            "        By default, this function treats one of the variables as categorical\n",
            "        and draws data at ordinal positions (0, 1, ... n) on the relevant axis.\n",
            "        As of version 0.13.0, this can be disabled by setting `native_scale=True`.\n",
            "    \n",
            "    \n",
            "    Parameters\n",
            "    ----------\n",
            "    data : DataFrame, Series, dict, array, or list of arrays\n",
            "        Dataset for plotting. If `x` and `y` are absent, this is\n",
            "        interpreted as wide-form. Otherwise it is expected to be long-form.    \n",
            "    x, y, hue : names of variables in `data` or vector data\n",
            "        Inputs for plotting long-form data. See examples for interpretation.    \n",
            "    order, hue_order : lists of strings\n",
            "        Order to plot the categorical levels in; otherwise the levels are\n",
            "        inferred from the data objects.    \n",
            "    estimator : string or callable that maps vector -> scalar\n",
            "        Statistical function to estimate within each categorical bin.\n",
            "    errorbar : string, (string, number) tuple, callable or None\n",
            "        Name of errorbar method (either \"ci\", \"pi\", \"se\", or \"sd\"), or a tuple\n",
            "        with a method name and a level parameter, or a function that maps from a\n",
            "        vector to a (min, max) interval, or None to hide errorbar. See the\n",
            "        :doc:`errorbar tutorial </tutorial/error_bars>` for more information.\n",
            "    \n",
            "        .. versionadded:: v0.12.0\n",
            "    n_boot : int\n",
            "        Number of bootstrap samples used to compute confidence intervals.\n",
            "    seed : int, `numpy.random.Generator`, or `numpy.random.RandomState`\n",
            "        Seed or random number generator for reproducible bootstrapping.\n",
            "    units : name of variable in `data` or vector data\n",
            "        Identifier of sampling units; used by the errorbar function to\n",
            "        perform a multilevel bootstrap and account for repeated measures\n",
            "    weights : name of variable in `data` or vector data\n",
            "        Data values or column used to compute weighted statistics.\n",
            "        Note that the use of weights may limit other statistical options.\n",
            "    \n",
            "        .. versionadded:: v0.13.1    \n",
            "    orient : \"v\" | \"h\" | \"x\" | \"y\"\n",
            "        Orientation of the plot (vertical or horizontal). This is usually\n",
            "        inferred based on the type of the input variables, but it can be used\n",
            "        to resolve ambiguity when both `x` and `y` are numeric or when\n",
            "        plotting wide-form data.\n",
            "    \n",
            "        .. versionchanged:: v0.13.0\n",
            "            Added 'x'/'y' as options, equivalent to 'v'/'h'.    \n",
            "    color : matplotlib color\n",
            "        Single color for the elements in the plot.    \n",
            "    palette : palette name, list, or dict\n",
            "        Colors to use for the different levels of the ``hue`` variable. Should\n",
            "        be something that can be interpreted by :func:`color_palette`, or a\n",
            "        dictionary mapping hue levels to matplotlib colors.    \n",
            "    saturation : float\n",
            "        Proportion of the original saturation to draw fill colors in. Large\n",
            "        patches often look better with desaturated colors, but set this to\n",
            "        `1` if you want the colors to perfectly match the input values.    \n",
            "    fill : bool\n",
            "        If True, use a solid patch. Otherwise, draw as line art.\n",
            "    \n",
            "        .. versionadded:: v0.13.0    \n",
            "    hue_norm : tuple or :class:`matplotlib.colors.Normalize` object\n",
            "        Normalization in data units for colormap applied to the `hue`\n",
            "        variable when it is numeric. Not relevant if `hue` is categorical.\n",
            "    \n",
            "        .. versionadded:: v0.12.0    \n",
            "    width : float\n",
            "        Width allotted to each element on the orient axis. When `native_scale=True`,\n",
            "        it is relative to the minimum distance between two values in the native scale.    \n",
            "    dodge : \"auto\" or bool\n",
            "        When hue mapping is used, whether elements should be narrowed and shifted along\n",
            "        the orient axis to eliminate overlap. If `\"auto\"`, set to `True` when the\n",
            "        orient variable is crossed with the categorical variable or `False` otherwise.\n",
            "    \n",
            "        .. versionchanged:: 0.13.0\n",
            "    \n",
            "            Added `\"auto\"` mode as a new default.    \n",
            "    gap : float\n",
            "        Shrink on the orient axis by this factor to add a gap between dodged elements.\n",
            "    \n",
            "        .. versionadded:: 0.13.0    \n",
            "    log_scale : bool or number, or pair of bools or numbers\n",
            "        Set axis scale(s) to log. A single value sets the data axis for any numeric\n",
            "        axes in the plot. A pair of values sets each axis independently.\n",
            "        Numeric values are interpreted as the desired base (default 10).\n",
            "        When `None` or `False`, seaborn defers to the existing Axes scale.\n",
            "    \n",
            "        .. versionadded:: v0.13.0    \n",
            "    native_scale : bool\n",
            "        When True, numeric or datetime values on the categorical axis will maintain\n",
            "        their original scaling rather than being converted to fixed indices.\n",
            "    \n",
            "        .. versionadded:: v0.13.0    \n",
            "    formatter : callable\n",
            "        Function for converting categorical data into strings. Affects both grouping\n",
            "        and tick labels.\n",
            "    \n",
            "        .. versionadded:: v0.13.0    \n",
            "    legend : \"auto\", \"brief\", \"full\", or False\n",
            "        How to draw the legend. If \"brief\", numeric `hue` and `size`\n",
            "        variables will be represented with a sample of evenly spaced values.\n",
            "        If \"full\", every group will get an entry in the legend. If \"auto\",\n",
            "        choose between brief or full representation based on number of levels.\n",
            "        If `False`, no legend data is added and no legend is drawn.\n",
            "    \n",
            "        .. versionadded:: v0.13.0    \n",
            "    capsize : float\n",
            "        Width of the \"caps\" on error bars, relative to bar spacing.    \n",
            "    err_kws : dict\n",
            "        Parameters of :class:`matplotlib.lines.Line2D`, for the error bar artists.\n",
            "    \n",
            "        .. versionadded:: v0.13.0    \n",
            "    ci : float\n",
            "        Level of the confidence interval to show, in [0, 100].\n",
            "    \n",
            "        .. deprecated:: v0.12.0\n",
            "            Use `errorbar=(\"ci\", ...)`.    \n",
            "    errcolor : matplotlib color\n",
            "        Color used for the error bar lines.\n",
            "    \n",
            "        .. deprecated:: 0.13.0\n",
            "            Use `err_kws={'color': ...}`.    \n",
            "    errwidth : float\n",
            "        Thickness of error bar lines (and caps), in points.\n",
            "    \n",
            "        .. deprecated:: 0.13.0\n",
            "            Use `err_kws={'linewidth': ...}`.    \n",
            "    ax : matplotlib Axes\n",
            "        Axes object to draw the plot onto, otherwise uses the current Axes.    \n",
            "    kwargs : key, value mappings\n",
            "        Other parameters are passed through to :class:`matplotlib.patches.Rectangle`.\n",
            "    \n",
            "    Returns\n",
            "    -------\n",
            "    ax : matplotlib Axes\n",
            "        Returns the Axes object with the plot drawn onto it.    \n",
            "    \n",
            "    See Also\n",
            "    --------\n",
            "    countplot : Show the counts of observations in each categorical bin.    \n",
            "    pointplot : Show point estimates and confidence intervals using dots.    \n",
            "    catplot : Combine a categorical plot with a :class:`FacetGrid`.    \n",
            "    \n",
            "    Notes\n",
            "    -----\n",
            "    \n",
            "    For datasets where 0 is not a meaningful value, a :func:`pointplot` will\n",
            "    allow you to focus on differences between levels of one or more categorical\n",
            "    variables.\n",
            "    \n",
            "    It is also important to keep in mind that a bar plot shows only the mean (or\n",
            "    other aggregate) value, but it is often more informative to show the\n",
            "    distribution of values at each level of the categorical variables. In those\n",
            "    cases, approaches such as a :func:`boxplot` or :func:`violinplot` may be\n",
            "    more appropriate.\n",
            "    \n",
            "    Examples\n",
            "    --------\n",
            "    .. include:: ../docstrings/barplot.rst\n",
            "\n"
          ]
        }
      ],
      "source": [
        "help(sns.barplot)"
      ]
    },
    {
      "cell_type": "code",
      "execution_count": null,
      "metadata": {
        "id": "8GQnkKAtLAei"
      },
      "outputs": [],
      "source": [
        "import seaborn as sns"
      ]
    },
    {
      "cell_type": "code",
      "execution_count": null,
      "metadata": {
        "colab": {
          "base_uri": "https://localhost:8080/",
          "height": 466
        },
        "id": "j24hZh4xLAqX",
        "outputId": "6dc635b9-ffaa-4bef-8624-5812f63de621"
      },
      "outputs": [
        {
          "data": {
            "text/plain": [
              "<Axes: xlabel='cp'>"
            ]
          },
          "execution_count": 25,
          "metadata": {},
          "output_type": "execute_result"
        },
        {
          "data": {
            "image/png": "[encoded data removed]",
            "text/plain": [
              "<Figure size 640x480 with 1 Axes>"
            ]
          },
          "metadata": {},
          "output_type": "display_data"
        }
      ],
      "source": [
        "sns.barplot(x=\"cp\", y=y, data=dataset)"
      ]
    },
    {
      "cell_type": "code",
      "execution_count": null,
      "metadata": {
        "colab": {
          "base_uri": "https://localhost:8080/"
        },
        "id": "mmsFwjQJLHtl",
        "outputId": "b68b92f9-763e-4d87-c7c9-6fc1185a4c7e"
      },
      "outputs": [
        {
          "data": {
            "text/plain": [
              "count    514.000000\n",
              "mean       0.163424\n",
              "std        0.370112\n",
              "min        0.000000\n",
              "25%        0.000000\n",
              "50%        0.000000\n",
              "75%        0.000000\n",
              "max        1.000000\n",
              "Name: fbs, dtype: float64"
            ]
          },
          "execution_count": 26,
          "metadata": {},
          "output_type": "execute_result"
        }
      ],
      "source": [
        "dataset[\"fbs\"].describe()"
      ]
    },
    {
      "cell_type": "code",
      "execution_count": null,
      "metadata": {
        "colab": {
          "base_uri": "https://localhost:8080/"
        },
        "id": "2dENKfDSLYBk",
        "outputId": "50ae1ca5-7df4-4fc7-ef6c-f0efba00ced9"
      },
      "outputs": [
        {
          "data": {
            "text/plain": [
              "array([1, 0])"
            ]
          },
          "execution_count": 27,
          "metadata": {},
          "output_type": "execute_result"
        }
      ],
      "source": [
        "dataset[\"fbs\"].unique()"
      ]
    },
    {
      "cell_type": "code",
      "execution_count": null,
      "metadata": {
        "colab": {
          "base_uri": "https://localhost:8080/"
        },
        "id": "n8ZvtXrRLr-6",
        "outputId": "82be8bfe-7c97-4fa7-baab-a2595cc1aa9c"
      },
      "outputs": [
        {
          "name": "stdout",
          "output_type": "stream",
          "text": [
            "<code object barplot at 0x7a25ca43a4a0, file \"/usr/local/lib/python3.10/dist-packages/seaborn/categorical.py\", line 2324>\n"
          ]
        }
      ],
      "source": [
        "print(sns.barplot.__code__)"
      ]
    },
    {
      "cell_type": "code",
      "execution_count": null,
      "metadata": {
        "colab": {
          "base_uri": "https://localhost:8080/",
          "height": 447
        },
        "id": "PNDVTkL4Ltqm",
        "outputId": "fd5a92ba-8ad5-4bb4-8f19-3a89740a3e41"
      },
      "outputs": [
        {
          "data": {
            "text/plain": [
              "<Axes: ylabel='fbs'>"
            ]
          },
          "execution_count": 29,
          "metadata": {},
          "output_type": "execute_result"
        },
        {
          "data": {
            "image/png": "[encoded data removed]",
            "text/plain": [
              "<Figure size 640x480 with 1 Axes>"
            ]
          },
          "metadata": {},
          "output_type": "display_data"
        }
      ],
      "source": [
        "sns.barplot(dataset[\"fbs\"])"
      ]
    },
    {
      "cell_type": "code",
      "execution_count": null,
      "metadata": {
        "colab": {
          "base_uri": "https://localhost:8080/"
        },
        "id": "6FwnpXvCLzGe",
        "outputId": "da188461-3113-4cf9-aac3-57717c7b2a89"
      },
      "outputs": [
        {
          "data": {
            "text/plain": [
              "array([0, 1, 2])"
            ]
          },
          "execution_count": 30,
          "metadata": {},
          "output_type": "execute_result"
        }
      ],
      "source": [
        "dataset[\"restecg\"].unique()"
      ]
    },
    {
      "cell_type": "code",
      "execution_count": null,
      "metadata": {
        "colab": {
          "base_uri": "https://localhost:8080/"
        },
        "id": "CHr9q2Q_L-0p",
        "outputId": "449ee9ff-1419-4bfd-fc12-6433e35b3efa"
      },
      "outputs": [
        {
          "name": "stdout",
          "output_type": "stream",
          "text": [
            "Requirement already satisfied: seaborn in /usr/local/lib/python3.10/dist-packages (0.13.1)\n",
            "Requirement already satisfied: numpy!=1.24.0,>=1.20 in /usr/local/lib/python3.10/dist-packages (from seaborn) (1.25.2)\n",
            "Requirement already satisfied: pandas>=1.2 in /usr/local/lib/python3.10/dist-packages (from seaborn) (2.0.3)\n",
            "Requirement already satisfied: matplotlib!=3.6.1,>=3.4 in /usr/local/lib/python3.10/dist-packages (from seaborn) (3.7.1)\n",
            "Requirement already satisfied: contourpy>=1.0.1 in /usr/local/lib/python3.10/dist-packages (from matplotlib!=3.6.1,>=3.4->seaborn) (1.2.1)\n",
            "Requirement already satisfied: cycler>=0.10 in /usr/local/lib/python3.10/dist-packages (from matplotlib!=3.6.1,>=3.4->seaborn) (0.12.1)\n",
            "Requirement already satisfied: fonttools>=4.22.0 in /usr/local/lib/python3.10/dist-packages (from matplotlib!=3.6.1,>=3.4->seaborn) (4.51.0)\n",
            "Requirement already satisfied: kiwisolver>=1.0.1 in /usr/local/lib/python3.10/dist-packages (from matplotlib!=3.6.1,>=3.4->seaborn) (1.4.5)\n",
            "Requirement already satisfied: packaging>=20.0 in /usr/local/lib/python3.10/dist-packages (from matplotlib!=3.6.1,>=3.4->seaborn) (24.0)\n",
            "Requirement already satisfied: pillow>=6.2.0 in /usr/local/lib/python3.10/dist-packages (from matplotlib!=3.6.1,>=3.4->seaborn) (9.4.0)\n",
            "Requirement already satisfied: pyparsing>=2.3.1 in /usr/local/lib/python3.10/dist-packages (from matplotlib!=3.6.1,>=3.4->seaborn) (3.1.2)\n",
            "Requirement already satisfied: python-dateutil>=2.7 in /usr/local/lib/python3.10/dist-packages (from matplotlib!=3.6.1,>=3.4->seaborn) (2.8.2)\n",
            "Requirement already satisfied: pytz>=2020.1 in /usr/local/lib/python3.10/dist-packages (from pandas>=1.2->seaborn) (2023.4)\n",
            "Requirement already satisfied: tzdata>=2022.1 in /usr/local/lib/python3.10/dist-packages (from pandas>=1.2->seaborn) (2024.1)\n",
            "Requirement already satisfied: six>=1.5 in /usr/local/lib/python3.10/dist-packages (from python-dateutil>=2.7->matplotlib!=3.6.1,>=3.4->seaborn) (1.16.0)\n"
          ]
        }
      ],
      "source": [
        "!pip install seaborn"
      ]
    },
    {
      "cell_type": "code",
      "execution_count": null,
      "metadata": {
        "id": "QI3SrkePL_hs"
      },
      "outputs": [],
      "source": [
        "import seaborn as sns"
      ]
    },
    {
      "cell_type": "code",
      "execution_count": null,
      "metadata": {
        "colab": {
          "base_uri": "https://localhost:8080/"
        },
        "id": "ge5d383QMAcV",
        "outputId": "cb07a824-4331-4135-e074-ee799bf44efb"
      },
      "outputs": [
        {
          "name": "stdout",
          "output_type": "stream",
          "text": [
            "Help on function barplot in module seaborn.categorical:\n",
            "\n",
            "barplot(data=None, *, x=None, y=None, hue=None, order=None, hue_order=None, estimator='mean', errorbar=('ci', 95), n_boot=1000, seed=None, units=None, weights=None, orient=None, color=None, palette=None, saturation=0.75, fill=True, hue_norm=None, width=0.8, dodge='auto', gap=0, log_scale=None, native_scale=False, formatter=None, legend='auto', capsize=0, err_kws=None, ci=<deprecated>, errcolor=<deprecated>, errwidth=<deprecated>, ax=None, **kwargs)\n",
            "    Show point estimates and errors as rectangular bars.\n",
            "    \n",
            "    A bar plot represents an aggregate or statistical estimate for a numeric\n",
            "    variable with the height of each rectangle and indicates the uncertainty\n",
            "    around that estimate using an error bar. Bar plots include 0 in the\n",
            "    axis range, and they are a good choice when 0 is a meaningful value\n",
            "    for the variable to take.\n",
            "    \n",
            "    See the :ref:`tutorial <categorical_tutorial>` for more information.\n",
            "    \n",
            "    .. note::\n",
            "        By default, this function treats one of the variables as categorical\n",
            "        and draws data at ordinal positions (0, 1, ... n) on the relevant axis.\n",
            "        As of version 0.13.0, this can be disabled by setting `native_scale=True`.\n",
            "    \n",
            "    \n",
            "    Parameters\n",
            "    ----------\n",
            "    data : DataFrame, Series, dict, array, or list of arrays\n",
            "        Dataset for plotting. If `x` and `y` are absent, this is\n",
            "        interpreted as wide-form. Otherwise it is expected to be long-form.    \n",
            "    x, y, hue : names of variables in `data` or vector data\n",
            "        Inputs for plotting long-form data. See examples for interpretation.    \n",
            "    order, hue_order : lists of strings\n",
            "        Order to plot the categorical levels in; otherwise the levels are\n",
            "        inferred from the data objects.    \n",
            "    estimator : string or callable that maps vector -> scalar\n",
            "        Statistical function to estimate within each categorical bin.\n",
            "    errorbar : string, (string, number) tuple, callable or None\n",
            "        Name of errorbar method (either \"ci\", \"pi\", \"se\", or \"sd\"), or a tuple\n",
            "        with a method name and a level parameter, or a function that maps from a\n",
            "        vector to a (min, max) interval, or None to hide errorbar. See the\n",
            "        :doc:`errorbar tutorial </tutorial/error_bars>` for more information.\n",
            "    \n",
            "        .. versionadded:: v0.12.0\n",
            "    n_boot : int\n",
            "        Number of bootstrap samples used to compute confidence intervals.\n",
            "    seed : int, `numpy.random.Generator`, or `numpy.random.RandomState`\n",
            "        Seed or random number generator for reproducible bootstrapping.\n",
            "    units : name of variable in `data` or vector data\n",
            "        Identifier of sampling units; used by the errorbar function to\n",
            "        perform a multilevel bootstrap and account for repeated measures\n",
            "    weights : name of variable in `data` or vector data\n",
            "        Data values or column used to compute weighted statistics.\n",
            "        Note that the use of weights may limit other statistical options.\n",
            "    \n",
            "        .. versionadded:: v0.13.1    \n",
            "    orient : \"v\" | \"h\" | \"x\" | \"y\"\n",
            "        Orientation of the plot (vertical or horizontal). This is usually\n",
            "        inferred based on the type of the input variables, but it can be used\n",
            "        to resolve ambiguity when both `x` and `y` are numeric or when\n",
            "        plotting wide-form data.\n",
            "    \n",
            "        .. versionchanged:: v0.13.0\n",
            "            Added 'x'/'y' as options, equivalent to 'v'/'h'.    \n",
            "    color : matplotlib color\n",
            "        Single color for the elements in the plot.    \n",
            "    palette : palette name, list, or dict\n",
            "        Colors to use for the different levels of the ``hue`` variable. Should\n",
            "        be something that can be interpreted by :func:`color_palette`, or a\n",
            "        dictionary mapping hue levels to matplotlib colors.    \n",
            "    saturation : float\n",
            "        Proportion of the original saturation to draw fill colors in. Large\n",
            "        patches often look better with desaturated colors, but set this to\n",
            "        `1` if you want the colors to perfectly match the input values.    \n",
            "    fill : bool\n",
            "        If True, use a solid patch. Otherwise, draw as line art.\n",
            "    \n",
            "        .. versionadded:: v0.13.0    \n",
            "    hue_norm : tuple or :class:`matplotlib.colors.Normalize` object\n",
            "        Normalization in data units for colormap applied to the `hue`\n",
            "        variable when it is numeric. Not relevant if `hue` is categorical.\n",
            "    \n",
            "        .. versionadded:: v0.12.0    \n",
            "    width : float\n",
            "        Width allotted to each element on the orient axis. When `native_scale=True`,\n",
            "        it is relative to the minimum distance between two values in the native scale.    \n",
            "    dodge : \"auto\" or bool\n",
            "        When hue mapping is used, whether elements should be narrowed and shifted along\n",
            "        the orient axis to eliminate overlap. If `\"auto\"`, set to `True` when the\n",
            "        orient variable is crossed with the categorical variable or `False` otherwise.\n",
            "    \n",
            "        .. versionchanged:: 0.13.0\n",
            "    \n",
            "            Added `\"auto\"` mode as a new default.    \n",
            "    gap : float\n",
            "        Shrink on the orient axis by this factor to add a gap between dodged elements.\n",
            "    \n",
            "        .. versionadded:: 0.13.0    \n",
            "    log_scale : bool or number, or pair of bools or numbers\n",
            "        Set axis scale(s) to log. A single value sets the data axis for any numeric\n",
            "        axes in the plot. A pair of values sets each axis independently.\n",
            "        Numeric values are interpreted as the desired base (default 10).\n",
            "        When `None` or `False`, seaborn defers to the existing Axes scale.\n",
            "    \n",
            "        .. versionadded:: v0.13.0    \n",
            "    native_scale : bool\n",
            "        When True, numeric or datetime values on the categorical axis will maintain\n",
            "        their original scaling rather than being converted to fixed indices.\n",
            "    \n",
            "        .. versionadded:: v0.13.0    \n",
            "    formatter : callable\n",
            "        Function for converting categorical data into strings. Affects both grouping\n",
            "        and tick labels.\n",
            "    \n",
            "        .. versionadded:: v0.13.0    \n",
            "    legend : \"auto\", \"brief\", \"full\", or False\n",
            "        How to draw the legend. If \"brief\", numeric `hue` and `size`\n",
            "        variables will be represented with a sample of evenly spaced values.\n",
            "        If \"full\", every group will get an entry in the legend. If \"auto\",\n",
            "        choose between brief or full representation based on number of levels.\n",
            "        If `False`, no legend data is added and no legend is drawn.\n",
            "    \n",
            "        .. versionadded:: v0.13.0    \n",
            "    capsize : float\n",
            "        Width of the \"caps\" on error bars, relative to bar spacing.    \n",
            "    err_kws : dict\n",
            "        Parameters of :class:`matplotlib.lines.Line2D`, for the error bar artists.\n",
            "    \n",
            "        .. versionadded:: v0.13.0    \n",
            "    ci : float\n",
            "        Level of the confidence interval to show, in [0, 100].\n",
            "    \n",
            "        .. deprecated:: v0.12.0\n",
            "            Use `errorbar=(\"ci\", ...)`.    \n",
            "    errcolor : matplotlib color\n",
            "        Color used for the error bar lines.\n",
            "    \n",
            "        .. deprecated:: 0.13.0\n",
            "            Use `err_kws={'color': ...}`.    \n",
            "    errwidth : float\n",
            "        Thickness of error bar lines (and caps), in points.\n",
            "    \n",
            "        .. deprecated:: 0.13.0\n",
            "            Use `err_kws={'linewidth': ...}`.    \n",
            "    ax : matplotlib Axes\n",
            "        Axes object to draw the plot onto, otherwise uses the current Axes.    \n",
            "    kwargs : key, value mappings\n",
            "        Other parameters are passed through to :class:`matplotlib.patches.Rectangle`.\n",
            "    \n",
            "    Returns\n",
            "    -------\n",
            "    ax : matplotlib Axes\n",
            "        Returns the Axes object with the plot drawn onto it.    \n",
            "    \n",
            "    See Also\n",
            "    --------\n",
            "    countplot : Show the counts of observations in each categorical bin.    \n",
            "    pointplot : Show point estimates and confidence intervals using dots.    \n",
            "    catplot : Combine a categorical plot with a :class:`FacetGrid`.    \n",
            "    \n",
            "    Notes\n",
            "    -----\n",
            "    \n",
            "    For datasets where 0 is not a meaningful value, a :func:`pointplot` will\n",
            "    allow you to focus on differences between levels of one or more categorical\n",
            "    variables.\n",
            "    \n",
            "    It is also important to keep in mind that a bar plot shows only the mean (or\n",
            "    other aggregate) value, but it is often more informative to show the\n",
            "    distribution of values at each level of the categorical variables. In those\n",
            "    cases, approaches such as a :func:`boxplot` or :func:`violinplot` may be\n",
            "    more appropriate.\n",
            "    \n",
            "    Examples\n",
            "    --------\n",
            "    .. include:: ../docstrings/barplot.rst\n",
            "\n"
          ]
        }
      ],
      "source": [
        "help(sns.barplot)"
      ]
    },
    {
      "cell_type": "code",
      "execution_count": null,
      "metadata": {
        "colab": {
          "base_uri": "https://localhost:8080/",
          "height": 466
        },
        "id": "Ps69kx7WMApn",
        "outputId": "8c2cd4c4-f047-407e-b0cd-17429d23acdb"
      },
      "outputs": [
        {
          "data": {
            "text/plain": [
              "<Axes: xlabel='restecg'>"
            ]
          },
          "execution_count": 33,
          "metadata": {},
          "output_type": "execute_result"
        },
        {
          "data": {
            "image/png": "[encoded data removed]",
            "text/plain": [
              "<Figure size 640x480 with 1 Axes>"
            ]
          },
          "metadata": {},
          "output_type": "display_data"
        }
      ],
      "source": [
        "sns.barplot(x=\"restecg\", y=y, data=dataset)"
      ]
    },
    {
      "cell_type": "code",
      "execution_count": null,
      "metadata": {
        "colab": {
          "base_uri": "https://localhost:8080/"
        },
        "id": "-5f9eRKoMXci",
        "outputId": "b9eba917-6376-47d8-f289-7b7b54709b20"
      },
      "outputs": [
        {
          "data": {
            "text/plain": [
              "array([0, 1])"
            ]
          },
          "execution_count": 34,
          "metadata": {},
          "output_type": "execute_result"
        }
      ],
      "source": [
        "dataset[\"exang\"].unique()"
      ]
    },
    {
      "cell_type": "code",
      "execution_count": null,
      "metadata": {
        "id": "Tohv112OMwLa"
      },
      "outputs": [],
      "source": [
        "import seaborn as sns"
      ]
    },
    {
      "cell_type": "code",
      "execution_count": null,
      "metadata": {
        "colab": {
          "base_uri": "https://localhost:8080/"
        },
        "id": "XQuhLw2VMwfD",
        "outputId": "4afb1def-a6d8-4370-e2e8-217dc2f59aac"
      },
      "outputs": [
        {
          "name": "stdout",
          "output_type": "stream",
          "text": [
            "Help on function barplot in module seaborn.categorical:\n",
            "\n",
            "barplot(data=None, *, x=None, y=None, hue=None, order=None, hue_order=None, estimator='mean', errorbar=('ci', 95), n_boot=1000, seed=None, units=None, weights=None, orient=None, color=None, palette=None, saturation=0.75, fill=True, hue_norm=None, width=0.8, dodge='auto', gap=0, log_scale=None, native_scale=False, formatter=None, legend='auto', capsize=0, err_kws=None, ci=<deprecated>, errcolor=<deprecated>, errwidth=<deprecated>, ax=None, **kwargs)\n",
            "    Show point estimates and errors as rectangular bars.\n",
            "    \n",
            "    A bar plot represents an aggregate or statistical estimate for a numeric\n",
            "    variable with the height of each rectangle and indicates the uncertainty\n",
            "    around that estimate using an error bar. Bar plots include 0 in the\n",
            "    axis range, and they are a good choice when 0 is a meaningful value\n",
            "    for the variable to take.\n",
            "    \n",
            "    See the :ref:`tutorial <categorical_tutorial>` for more information.\n",
            "    \n",
            "    .. note::\n",
            "        By default, this function treats one of the variables as categorical\n",
            "        and draws data at ordinal positions (0, 1, ... n) on the relevant axis.\n",
            "        As of version 0.13.0, this can be disabled by setting `native_scale=True`.\n",
            "    \n",
            "    \n",
            "    Parameters\n",
            "    ----------\n",
            "    data : DataFrame, Series, dict, array, or list of arrays\n",
            "        Dataset for plotting. If `x` and `y` are absent, this is\n",
            "        interpreted as wide-form. Otherwise it is expected to be long-form.    \n",
            "    x, y, hue : names of variables in `data` or vector data\n",
            "        Inputs for plotting long-form data. See examples for interpretation.    \n",
            "    order, hue_order : lists of strings\n",
            "        Order to plot the categorical levels in; otherwise the levels are\n",
            "        inferred from the data objects.    \n",
            "    estimator : string or callable that maps vector -> scalar\n",
            "        Statistical function to estimate within each categorical bin.\n",
            "    errorbar : string, (string, number) tuple, callable or None\n",
            "        Name of errorbar method (either \"ci\", \"pi\", \"se\", or \"sd\"), or a tuple\n",
            "        with a method name and a level parameter, or a function that maps from a\n",
            "        vector to a (min, max) interval, or None to hide errorbar. See the\n",
            "        :doc:`errorbar tutorial </tutorial/error_bars>` for more information.\n",
            "    \n",
            "        .. versionadded:: v0.12.0\n",
            "    n_boot : int\n",
            "        Number of bootstrap samples used to compute confidence intervals.\n",
            "    seed : int, `numpy.random.Generator`, or `numpy.random.RandomState`\n",
            "        Seed or random number generator for reproducible bootstrapping.\n",
            "    units : name of variable in `data` or vector data\n",
            "        Identifier of sampling units; used by the errorbar function to\n",
            "        perform a multilevel bootstrap and account for repeated measures\n",
            "    weights : name of variable in `data` or vector data\n",
            "        Data values or column used to compute weighted statistics.\n",
            "        Note that the use of weights may limit other statistical options.\n",
            "    \n",
            "        .. versionadded:: v0.13.1    \n",
            "    orient : \"v\" | \"h\" | \"x\" | \"y\"\n",
            "        Orientation of the plot (vertical or horizontal). This is usually\n",
            "        inferred based on the type of the input variables, but it can be used\n",
            "        to resolve ambiguity when both `x` and `y` are numeric or when\n",
            "        plotting wide-form data.\n",
            "    \n",
            "        .. versionchanged:: v0.13.0\n",
            "            Added 'x'/'y' as options, equivalent to 'v'/'h'.    \n",
            "    color : matplotlib color\n",
            "        Single color for the elements in the plot.    \n",
            "    palette : palette name, list, or dict\n",
            "        Colors to use for the different levels of the ``hue`` variable. Should\n",
            "        be something that can be interpreted by :func:`color_palette`, or a\n",
            "        dictionary mapping hue levels to matplotlib colors.    \n",
            "    saturation : float\n",
            "        Proportion of the original saturation to draw fill colors in. Large\n",
            "        patches often look better with desaturated colors, but set this to\n",
            "        `1` if you want the colors to perfectly match the input values.    \n",
            "    fill : bool\n",
            "        If True, use a solid patch. Otherwise, draw as line art.\n",
            "    \n",
            "        .. versionadded:: v0.13.0    \n",
            "    hue_norm : tuple or :class:`matplotlib.colors.Normalize` object\n",
            "        Normalization in data units for colormap applied to the `hue`\n",
            "        variable when it is numeric. Not relevant if `hue` is categorical.\n",
            "    \n",
            "        .. versionadded:: v0.12.0    \n",
            "    width : float\n",
            "        Width allotted to each element on the orient axis. When `native_scale=True`,\n",
            "        it is relative to the minimum distance between two values in the native scale.    \n",
            "    dodge : \"auto\" or bool\n",
            "        When hue mapping is used, whether elements should be narrowed and shifted along\n",
            "        the orient axis to eliminate overlap. If `\"auto\"`, set to `True` when the\n",
            "        orient variable is crossed with the categorical variable or `False` otherwise.\n",
            "    \n",
            "        .. versionchanged:: 0.13.0\n",
            "    \n",
            "            Added `\"auto\"` mode as a new default.    \n",
            "    gap : float\n",
            "        Shrink on the orient axis by this factor to add a gap between dodged elements.\n",
            "    \n",
            "        .. versionadded:: 0.13.0    \n",
            "    log_scale : bool or number, or pair of bools or numbers\n",
            "        Set axis scale(s) to log. A single value sets the data axis for any numeric\n",
            "        axes in the plot. A pair of values sets each axis independently.\n",
            "        Numeric values are interpreted as the desired base (default 10).\n",
            "        When `None` or `False`, seaborn defers to the existing Axes scale.\n",
            "    \n",
            "        .. versionadded:: v0.13.0    \n",
            "    native_scale : bool\n",
            "        When True, numeric or datetime values on the categorical axis will maintain\n",
            "        their original scaling rather than being converted to fixed indices.\n",
            "    \n",
            "        .. versionadded:: v0.13.0    \n",
            "    formatter : callable\n",
            "        Function for converting categorical data into strings. Affects both grouping\n",
            "        and tick labels.\n",
            "    \n",
            "        .. versionadded:: v0.13.0    \n",
            "    legend : \"auto\", \"brief\", \"full\", or False\n",
            "        How to draw the legend. If \"brief\", numeric `hue` and `size`\n",
            "        variables will be represented with a sample of evenly spaced values.\n",
            "        If \"full\", every group will get an entry in the legend. If \"auto\",\n",
            "        choose between brief or full representation based on number of levels.\n",
            "        If `False`, no legend data is added and no legend is drawn.\n",
            "    \n",
            "        .. versionadded:: v0.13.0    \n",
            "    capsize : float\n",
            "        Width of the \"caps\" on error bars, relative to bar spacing.    \n",
            "    err_kws : dict\n",
            "        Parameters of :class:`matplotlib.lines.Line2D`, for the error bar artists.\n",
            "    \n",
            "        .. versionadded:: v0.13.0    \n",
            "    ci : float\n",
            "        Level of the confidence interval to show, in [0, 100].\n",
            "    \n",
            "        .. deprecated:: v0.12.0\n",
            "            Use `errorbar=(\"ci\", ...)`.    \n",
            "    errcolor : matplotlib color\n",
            "        Color used for the error bar lines.\n",
            "    \n",
            "        .. deprecated:: 0.13.0\n",
            "            Use `err_kws={'color': ...}`.    \n",
            "    errwidth : float\n",
            "        Thickness of error bar lines (and caps), in points.\n",
            "    \n",
            "        .. deprecated:: 0.13.0\n",
            "            Use `err_kws={'linewidth': ...}`.    \n",
            "    ax : matplotlib Axes\n",
            "        Axes object to draw the plot onto, otherwise uses the current Axes.    \n",
            "    kwargs : key, value mappings\n",
            "        Other parameters are passed through to :class:`matplotlib.patches.Rectangle`.\n",
            "    \n",
            "    Returns\n",
            "    -------\n",
            "    ax : matplotlib Axes\n",
            "        Returns the Axes object with the plot drawn onto it.    \n",
            "    \n",
            "    See Also\n",
            "    --------\n",
            "    countplot : Show the counts of observations in each categorical bin.    \n",
            "    pointplot : Show point estimates and confidence intervals using dots.    \n",
            "    catplot : Combine a categorical plot with a :class:`FacetGrid`.    \n",
            "    \n",
            "    Notes\n",
            "    -----\n",
            "    \n",
            "    For datasets where 0 is not a meaningful value, a :func:`pointplot` will\n",
            "    allow you to focus on differences between levels of one or more categorical\n",
            "    variables.\n",
            "    \n",
            "    It is also important to keep in mind that a bar plot shows only the mean (or\n",
            "    other aggregate) value, but it is often more informative to show the\n",
            "    distribution of values at each level of the categorical variables. In those\n",
            "    cases, approaches such as a :func:`boxplot` or :func:`violinplot` may be\n",
            "    more appropriate.\n",
            "    \n",
            "    Examples\n",
            "    --------\n",
            "    .. include:: ../docstrings/barplot.rst\n",
            "\n"
          ]
        }
      ],
      "source": [
        "help(sns.barplot)"
      ]
    },
    {
      "cell_type": "code",
      "execution_count": null,
      "metadata": {
        "colab": {
          "base_uri": "https://localhost:8080/",
          "height": 466
        },
        "id": "vnHM9qd7MxIv",
        "outputId": "b4e44d97-9b5f-4369-d41d-d237909ee794"
      },
      "outputs": [
        {
          "data": {
            "text/plain": [
              "<Axes: xlabel='exang'>"
            ]
          },
          "execution_count": 37,
          "metadata": {},
          "output_type": "execute_result"
        },
        {
          "data": {
            "image/png": "[encoded data removed]",
            "text/plain": [
              "<Figure size 640x480 with 1 Axes>"
            ]
          },
          "metadata": {},
          "output_type": "display_data"
        }
      ],
      "source": [
        "sns.barplot(x=\"exang\", y=y, data=dataset)"
      ]
    },
    {
      "cell_type": "code",
      "execution_count": null,
      "metadata": {
        "colab": {
          "base_uri": "https://localhost:8080/"
        },
        "id": "j5wR9GdmM7Iw",
        "outputId": "7be3ebb1-7aa4-45ef-ee0c-8ffa71302b0b"
      },
      "outputs": [
        {
          "data": {
            "text/plain": [
              "array([0, 2, 1])"
            ]
          },
          "execution_count": 38,
          "metadata": {},
          "output_type": "execute_result"
        }
      ],
      "source": [
        "dataset[\"slope\"].unique()"
      ]
    },
    {
      "cell_type": "code",
      "execution_count": null,
      "metadata": {
        "id": "jihHGM5DNG96"
      },
      "outputs": [],
      "source": [
        "import seaborn as sns"
      ]
    },
    {
      "cell_type": "code",
      "execution_count": null,
      "metadata": {
        "colab": {
          "base_uri": "https://localhost:8080/",
          "height": 466
        },
        "id": "vOQoWXo6NHMz",
        "outputId": "6b930e13-7268-48a1-e76c-1e81963c7e76"
      },
      "outputs": [
        {
          "data": {
            "text/plain": [
              "<Axes: xlabel='slope'>"
            ]
          },
          "execution_count": 40,
          "metadata": {},
          "output_type": "execute_result"
        },
        {
          "data": {
            "image/png": "[encoded data removed]",
            "text/plain": [
              "<Figure size 640x480 with 1 Axes>"
            ]
          },
          "metadata": {},
          "output_type": "display_data"
        }
      ],
      "source": [
        "sns.barplot(x=\"slope\", y=y, data=dataset)"
      ]
    },
    {
      "cell_type": "code",
      "execution_count": null,
      "metadata": {
        "colab": {
          "base_uri": "https://localhost:8080/",
          "height": 466
        },
        "id": "tfaZr3oQNIBl",
        "outputId": "f05ef6a6-ea50-4633-a588-6ed3fb71b142"
      },
      "outputs": [
        {
          "data": {
            "text/plain": [
              "<Axes: xlabel='slope'>"
            ]
          },
          "execution_count": 41,
          "metadata": {},
          "output_type": "execute_result"
        },
        {
          "data": {
            "image/png": "[encoded data removed]",
            "text/plain": [
              "<Figure size 640x480 with 1 Axes>"
            ]
          },
          "metadata": {},
          "output_type": "display_data"
        }
      ],
      "source": [
        "sns.barplot(x=\"slope\", y=y, data=dataset)"
      ]
    },
    {
      "cell_type": "code",
      "execution_count": null,
      "metadata": {
        "id": "OM_H7QaXNXQz"
      },
      "outputs": [],
      "source": [
        "#number of major vessels (0-3) colored by flourosopy"
      ]
    },
    {
      "cell_type": "code",
      "execution_count": null,
      "metadata": {
        "colab": {
          "base_uri": "https://localhost:8080/"
        },
        "id": "s1tt1pTZNcKC",
        "outputId": "3fbf361b-12b6-4947-f84b-5bc4b9093d8c"
      },
      "outputs": [
        {
          "data": {
            "text/plain": [
              "array([0, 2, 1, 3, 4])"
            ]
          },
          "execution_count": 43,
          "metadata": {},
          "output_type": "execute_result"
        }
      ],
      "source": [
        "dataset[\"ca\"].unique()"
      ]
    },
    {
      "cell_type": "code",
      "execution_count": null,
      "metadata": {
        "colab": {
          "base_uri": "https://localhost:8080/",
          "height": 447
        },
        "id": "oSy3prLfNfm1",
        "outputId": "980656a9-bf16-461f-c0e4-8c0fad5922fa"
      },
      "outputs": [
        {
          "data": {
            "text/plain": [
              "<Axes: ylabel='count'>"
            ]
          },
          "execution_count": 44,
          "metadata": {},
          "output_type": "execute_result"
        },
        {
          "data": {
            "image/png": "[encoded data removed]",
            "text/plain": [
              "<Figure size 640x480 with 1 Axes>"
            ]
          },
          "metadata": {},
          "output_type": "display_data"
        }
      ],
      "source": [
        "sns.countplot(dataset[\"ca\"])"
      ]
    },
    {
      "cell_type": "code",
      "execution_count": null,
      "metadata": {
        "id": "ihR9bIfCYTnv"
      },
      "outputs": [],
      "source": [
        "import seaborn as sns"
      ]
    },
    {
      "cell_type": "code",
      "execution_count": null,
      "metadata": {
        "colab": {
          "base_uri": "https://localhost:8080/",
          "height": 466
        },
        "id": "b9IQsGqsYUIF",
        "outputId": "00238a41-f689-4fe8-8214-c038526a0012"
      },
      "outputs": [
        {
          "data": {
            "text/plain": [
              "<Axes: xlabel='ca'>"
            ]
          },
          "execution_count": 47,
          "metadata": {},
          "output_type": "execute_result"
        },
        {
          "data": {
            "image/png": "[encoded data removed]",
            "text/plain": [
              "<Figure size 640x480 with 1 Axes>"
            ]
          },
          "metadata": {},
          "output_type": "display_data"
        }
      ],
      "source": [
        "sns.barplot(x=\"ca\", y=y, data=dataset)"
      ]
    },
    {
      "cell_type": "code",
      "execution_count": null,
      "metadata": {
        "colab": {
          "base_uri": "https://localhost:8080/"
        },
        "id": "PiK3YKeuNtmJ",
        "outputId": "fee55cd9-c044-495c-d9e3-a1a09422f3b1"
      },
      "outputs": [
        {
          "name": "stdout",
          "output_type": "stream",
          "text": [
            "Requirement already satisfied: seaborn in /usr/local/lib/python3.10/dist-packages (0.13.1)\n",
            "Requirement already satisfied: numpy!=1.24.0,>=1.20 in /usr/local/lib/python3.10/dist-packages (from seaborn) (1.25.2)\n",
            "Requirement already satisfied: pandas>=1.2 in /usr/local/lib/python3.10/dist-packages (from seaborn) (2.0.3)\n",
            "Requirement already satisfied: matplotlib!=3.6.1,>=3.4 in /usr/local/lib/python3.10/dist-packages (from seaborn) (3.7.1)\n",
            "Requirement already satisfied: contourpy>=1.0.1 in /usr/local/lib/python3.10/dist-packages (from matplotlib!=3.6.1,>=3.4->seaborn) (1.2.1)\n",
            "Requirement already satisfied: cycler>=0.10 in /usr/local/lib/python3.10/dist-packages (from matplotlib!=3.6.1,>=3.4->seaborn) (0.12.1)\n",
            "Requirement already satisfied: fonttools>=4.22.0 in /usr/local/lib/python3.10/dist-packages (from matplotlib!=3.6.1,>=3.4->seaborn) (4.51.0)\n",
            "Requirement already satisfied: kiwisolver>=1.0.1 in /usr/local/lib/python3.10/dist-packages (from matplotlib!=3.6.1,>=3.4->seaborn) (1.4.5)\n",
            "Requirement already satisfied: packaging>=20.0 in /usr/local/lib/python3.10/dist-packages (from matplotlib!=3.6.1,>=3.4->seaborn) (24.0)\n",
            "Requirement already satisfied: pillow>=6.2.0 in /usr/local/lib/python3.10/dist-packages (from matplotlib!=3.6.1,>=3.4->seaborn) (9.4.0)\n",
            "Requirement already satisfied: pyparsing>=2.3.1 in /usr/local/lib/python3.10/dist-packages (from matplotlib!=3.6.1,>=3.4->seaborn) (3.1.2)\n",
            "Requirement already satisfied: python-dateutil>=2.7 in /usr/local/lib/python3.10/dist-packages (from matplotlib!=3.6.1,>=3.4->seaborn) (2.8.2)\n",
            "Requirement already satisfied: pytz>=2020.1 in /usr/local/lib/python3.10/dist-packages (from pandas>=1.2->seaborn) (2023.4)\n",
            "Requirement already satisfied: tzdata>=2022.1 in /usr/local/lib/python3.10/dist-packages (from pandas>=1.2->seaborn) (2024.1)\n",
            "Requirement already satisfied: six>=1.5 in /usr/local/lib/python3.10/dist-packages (from python-dateutil>=2.7->matplotlib!=3.6.1,>=3.4->seaborn) (1.16.0)\n"
          ]
        }
      ],
      "source": [
        "!pip install seaborn"
      ]
    },
    {
      "cell_type": "code",
      "execution_count": null,
      "metadata": {
        "id": "DKh0B1JBNu-m"
      },
      "outputs": [],
      "source": [
        "import seaborn as sns"
      ]
    },
    {
      "cell_type": "code",
      "execution_count": null,
      "metadata": {
        "colab": {
          "base_uri": "https://localhost:8080/"
        },
        "id": "QVbxGmcANvMs",
        "outputId": "3d1c1894-f0d6-4ed2-b854-d99ade083fef"
      },
      "outputs": [
        {
          "name": "stdout",
          "output_type": "stream",
          "text": [
            "Help on function barplot in module seaborn.categorical:\n",
            "\n",
            "barplot(data=None, *, x=None, y=None, hue=None, order=None, hue_order=None, estimator='mean', errorbar=('ci', 95), n_boot=1000, seed=None, units=None, weights=None, orient=None, color=None, palette=None, saturation=0.75, fill=True, hue_norm=None, width=0.8, dodge='auto', gap=0, log_scale=None, native_scale=False, formatter=None, legend='auto', capsize=0, err_kws=None, ci=<deprecated>, errcolor=<deprecated>, errwidth=<deprecated>, ax=None, **kwargs)\n",
            "    Show point estimates and errors as rectangular bars.\n",
            "    \n",
            "    A bar plot represents an aggregate or statistical estimate for a numeric\n",
            "    variable with the height of each rectangle and indicates the uncertainty\n",
            "    around that estimate using an error bar. Bar plots include 0 in the\n",
            "    axis range, and they are a good choice when 0 is a meaningful value\n",
            "    for the variable to take.\n",
            "    \n",
            "    See the :ref:`tutorial <categorical_tutorial>` for more information.\n",
            "    \n",
            "    .. note::\n",
            "        By default, this function treats one of the variables as categorical\n",
            "        and draws data at ordinal positions (0, 1, ... n) on the relevant axis.\n",
            "        As of version 0.13.0, this can be disabled by setting `native_scale=True`.\n",
            "    \n",
            "    \n",
            "    Parameters\n",
            "    ----------\n",
            "    data : DataFrame, Series, dict, array, or list of arrays\n",
            "        Dataset for plotting. If `x` and `y` are absent, this is\n",
            "        interpreted as wide-form. Otherwise it is expected to be long-form.    \n",
            "    x, y, hue : names of variables in `data` or vector data\n",
            "        Inputs for plotting long-form data. See examples for interpretation.    \n",
            "    order, hue_order : lists of strings\n",
            "        Order to plot the categorical levels in; otherwise the levels are\n",
            "        inferred from the data objects.    \n",
            "    estimator : string or callable that maps vector -> scalar\n",
            "        Statistical function to estimate within each categorical bin.\n",
            "    errorbar : string, (string, number) tuple, callable or None\n",
            "        Name of errorbar method (either \"ci\", \"pi\", \"se\", or \"sd\"), or a tuple\n",
            "        with a method name and a level parameter, or a function that maps from a\n",
            "        vector to a (min, max) interval, or None to hide errorbar. See the\n",
            "        :doc:`errorbar tutorial </tutorial/error_bars>` for more information.\n",
            "    \n",
            "        .. versionadded:: v0.12.0\n",
            "    n_boot : int\n",
            "        Number of bootstrap samples used to compute confidence intervals.\n",
            "    seed : int, `numpy.random.Generator`, or `numpy.random.RandomState`\n",
            "        Seed or random number generator for reproducible bootstrapping.\n",
            "    units : name of variable in `data` or vector data\n",
            "        Identifier of sampling units; used by the errorbar function to\n",
            "        perform a multilevel bootstrap and account for repeated measures\n",
            "    weights : name of variable in `data` or vector data\n",
            "        Data values or column used to compute weighted statistics.\n",
            "        Note that the use of weights may limit other statistical options.\n",
            "    \n",
            "        .. versionadded:: v0.13.1    \n",
            "    orient : \"v\" | \"h\" | \"x\" | \"y\"\n",
            "        Orientation of the plot (vertical or horizontal). This is usually\n",
            "        inferred based on the type of the input variables, but it can be used\n",
            "        to resolve ambiguity when both `x` and `y` are numeric or when\n",
            "        plotting wide-form data.\n",
            "    \n",
            "        .. versionchanged:: v0.13.0\n",
            "            Added 'x'/'y' as options, equivalent to 'v'/'h'.    \n",
            "    color : matplotlib color\n",
            "        Single color for the elements in the plot.    \n",
            "    palette : palette name, list, or dict\n",
            "        Colors to use for the different levels of the ``hue`` variable. Should\n",
            "        be something that can be interpreted by :func:`color_palette`, or a\n",
            "        dictionary mapping hue levels to matplotlib colors.    \n",
            "    saturation : float\n",
            "        Proportion of the original saturation to draw fill colors in. Large\n",
            "        patches often look better with desaturated colors, but set this to\n",
            "        `1` if you want the colors to perfectly match the input values.    \n",
            "    fill : bool\n",
            "        If True, use a solid patch. Otherwise, draw as line art.\n",
            "    \n",
            "        .. versionadded:: v0.13.0    \n",
            "    hue_norm : tuple or :class:`matplotlib.colors.Normalize` object\n",
            "        Normalization in data units for colormap applied to the `hue`\n",
            "        variable when it is numeric. Not relevant if `hue` is categorical.\n",
            "    \n",
            "        .. versionadded:: v0.12.0    \n",
            "    width : float\n",
            "        Width allotted to each element on the orient axis. When `native_scale=True`,\n",
            "        it is relative to the minimum distance between two values in the native scale.    \n",
            "    dodge : \"auto\" or bool\n",
            "        When hue mapping is used, whether elements should be narrowed and shifted along\n",
            "        the orient axis to eliminate overlap. If `\"auto\"`, set to `True` when the\n",
            "        orient variable is crossed with the categorical variable or `False` otherwise.\n",
            "    \n",
            "        .. versionchanged:: 0.13.0\n",
            "    \n",
            "            Added `\"auto\"` mode as a new default.    \n",
            "    gap : float\n",
            "        Shrink on the orient axis by this factor to add a gap between dodged elements.\n",
            "    \n",
            "        .. versionadded:: 0.13.0    \n",
            "    log_scale : bool or number, or pair of bools or numbers\n",
            "        Set axis scale(s) to log. A single value sets the data axis for any numeric\n",
            "        axes in the plot. A pair of values sets each axis independently.\n",
            "        Numeric values are interpreted as the desired base (default 10).\n",
            "        When `None` or `False`, seaborn defers to the existing Axes scale.\n",
            "    \n",
            "        .. versionadded:: v0.13.0    \n",
            "    native_scale : bool\n",
            "        When True, numeric or datetime values on the categorical axis will maintain\n",
            "        their original scaling rather than being converted to fixed indices.\n",
            "    \n",
            "        .. versionadded:: v0.13.0    \n",
            "    formatter : callable\n",
            "        Function for converting categorical data into strings. Affects both grouping\n",
            "        and tick labels.\n",
            "    \n",
            "        .. versionadded:: v0.13.0    \n",
            "    legend : \"auto\", \"brief\", \"full\", or False\n",
            "        How to draw the legend. If \"brief\", numeric `hue` and `size`\n",
            "        variables will be represented with a sample of evenly spaced values.\n",
            "        If \"full\", every group will get an entry in the legend. If \"auto\",\n",
            "        choose between brief or full representation based on number of levels.\n",
            "        If `False`, no legend data is added and no legend is drawn.\n",
            "    \n",
            "        .. versionadded:: v0.13.0    \n",
            "    capsize : float\n",
            "        Width of the \"caps\" on error bars, relative to bar spacing.    \n",
            "    err_kws : dict\n",
            "        Parameters of :class:`matplotlib.lines.Line2D`, for the error bar artists.\n",
            "    \n",
            "        .. versionadded:: v0.13.0    \n",
            "    ci : float\n",
            "        Level of the confidence interval to show, in [0, 100].\n",
            "    \n",
            "        .. deprecated:: v0.12.0\n",
            "            Use `errorbar=(\"ci\", ...)`.    \n",
            "    errcolor : matplotlib color\n",
            "        Color used for the error bar lines.\n",
            "    \n",
            "        .. deprecated:: 0.13.0\n",
            "            Use `err_kws={'color': ...}`.    \n",
            "    errwidth : float\n",
            "        Thickness of error bar lines (and caps), in points.\n",
            "    \n",
            "        .. deprecated:: 0.13.0\n",
            "            Use `err_kws={'linewidth': ...}`.    \n",
            "    ax : matplotlib Axes\n",
            "        Axes object to draw the plot onto, otherwise uses the current Axes.    \n",
            "    kwargs : key, value mappings\n",
            "        Other parameters are passed through to :class:`matplotlib.patches.Rectangle`.\n",
            "    \n",
            "    Returns\n",
            "    -------\n",
            "    ax : matplotlib Axes\n",
            "        Returns the Axes object with the plot drawn onto it.    \n",
            "    \n",
            "    See Also\n",
            "    --------\n",
            "    countplot : Show the counts of observations in each categorical bin.    \n",
            "    pointplot : Show point estimates and confidence intervals using dots.    \n",
            "    catplot : Combine a categorical plot with a :class:`FacetGrid`.    \n",
            "    \n",
            "    Notes\n",
            "    -----\n",
            "    \n",
            "    For datasets where 0 is not a meaningful value, a :func:`pointplot` will\n",
            "    allow you to focus on differences between levels of one or more categorical\n",
            "    variables.\n",
            "    \n",
            "    It is also important to keep in mind that a bar plot shows only the mean (or\n",
            "    other aggregate) value, but it is often more informative to show the\n",
            "    distribution of values at each level of the categorical variables. In those\n",
            "    cases, approaches such as a :func:`boxplot` or :func:`violinplot` may be\n",
            "    more appropriate.\n",
            "    \n",
            "    Examples\n",
            "    --------\n",
            "    .. include:: ../docstrings/barplot.rst\n",
            "\n"
          ]
        }
      ],
      "source": [
        "help(sns.barplot)"
      ]
    },
    {
      "cell_type": "code",
      "execution_count": null,
      "metadata": {
        "colab": {
          "base_uri": "https://localhost:8080/",
          "height": 466
        },
        "id": "AAwTU-48Nv8O",
        "outputId": "a1013875-e20f-4af3-9760-176b5852df2b"
      },
      "outputs": [
        {
          "data": {
            "text/plain": [
              "<Axes: xlabel='ca'>"
            ]
          },
          "execution_count": 51,
          "metadata": {},
          "output_type": "execute_result"
        },
        {
          "data": {
            "image/png": "[encoded data removed]",
            "text/plain": [
              "<Figure size 640x480 with 1 Axes>"
            ]
          },
          "metadata": {},
          "output_type": "display_data"
        }
      ],
      "source": [
        "sns.barplot(x=\"ca\", y=y, data=dataset)"
      ]
    },
    {
      "cell_type": "code",
      "execution_count": null,
      "metadata": {
        "id": "dhvCITE1N28i"
      },
      "outputs": [],
      "source": [
        "### Analysing the 'thal' feature"
      ]
    },
    {
      "cell_type": "code",
      "execution_count": null,
      "metadata": {
        "colab": {
          "base_uri": "https://localhost:8080/"
        },
        "id": "i6HYfxwwN3LJ",
        "outputId": "e51b1597-1d83-4a78-885b-29c01d438049"
      },
      "outputs": [
        {
          "data": {
            "text/plain": [
              "array([1, 2, 3, 0])"
            ]
          },
          "execution_count": 53,
          "metadata": {},
          "output_type": "execute_result"
        }
      ],
      "source": [
        "dataset[\"thal\"].unique()"
      ]
    },
    {
      "cell_type": "code",
      "execution_count": null,
      "metadata": {
        "colab": {
          "base_uri": "https://localhost:8080/",
          "height": 466
        },
        "id": "HKVx_fBJOGF6",
        "outputId": "b334bc5b-144f-4904-8a8c-54e78cb24f61"
      },
      "outputs": [
        {
          "data": {
            "text/plain": [
              "<Axes: xlabel='thal', ylabel='thal'>"
            ]
          },
          "execution_count": 54,
          "metadata": {},
          "output_type": "execute_result"
        },
        {
          "data": {
            "image/png": "[encoded data removed]",
            "text/plain": [
              "<Figure size 640x480 with 1 Axes>"
            ]
          },
          "metadata": {},
          "output_type": "display_data"
        }
      ],
      "source": [
        "# Import the necessary modules\n",
        "import seaborn as sns\n",
        "\n",
        "# Specify the data source for the y-axis values\n",
        "y = dataset[\"thal\"]\n",
        "\n",
        "# Create the bar plot\n",
        "sns.barplot(x=dataset[\"thal\"], y=y)"
      ]
    },
    {
      "cell_type": "code",
      "execution_count": null,
      "metadata": {
        "colab": {
          "base_uri": "https://localhost:8080/"
        },
        "id": "Huld8yPROHBV",
        "outputId": "c40e9cc5-f509-4183-fa66-003cd9ff2a2f"
      },
      "outputs": [
        {
          "name": "stdout",
          "output_type": "stream",
          "text": [
            "1\n"
          ]
        }
      ],
      "source": [
        "print(sns.barplot.__code__.co_argcount)"
      ]
    },
    {
      "cell_type": "code",
      "execution_count": null,
      "metadata": {
        "colab": {
          "base_uri": "https://localhost:8080/"
        },
        "id": "QnPmHxexOHxD",
        "outputId": "a2bec2b5-dcb8-4334-c6f1-903ad09a04b4"
      },
      "outputs": [
        {
          "name": "stdout",
          "output_type": "stream",
          "text": [
            "0      1\n",
            "1      2\n",
            "2      2\n",
            "3      2\n",
            "4      2\n",
            "      ..\n",
            "509    2\n",
            "510    2\n",
            "511    2\n",
            "512    2\n",
            "513    2\n",
            "Name: thal, Length: 514, dtype: int64\n"
          ]
        }
      ],
      "source": [
        "print(y)"
      ]
    },
    {
      "cell_type": "code",
      "execution_count": null,
      "metadata": {
        "colab": {
          "base_uri": "https://localhost:8080/",
          "height": 466
        },
        "id": "LFFxdqjeONtI",
        "outputId": "86ef22b2-1827-4ee8-de47-aec2125c0611"
      },
      "outputs": [
        {
          "data": {
            "text/plain": [
              "<Axes: xlabel='thal', ylabel='Density'>"
            ]
          },
          "execution_count": 57,
          "metadata": {},
          "output_type": "execute_result"
        },
        {
          "data": {
            "image/png": "[encoded data removed]",
            "text/plain": [
              "<Figure size 640x480 with 1 Axes>"
            ]
          },
          "metadata": {},
          "output_type": "display_data"
        }
      ],
      "source": [
        "sns.distplot(dataset[\"thal\"])"
      ]
    },
    {
      "cell_type": "code",
      "execution_count": null,
      "metadata": {
        "colab": {
          "base_uri": "https://localhost:8080/",
          "height": 447
        },
        "id": "Rnh3VuiIOfWW",
        "outputId": "d1282e23-f83d-4e97-8bfa-17cd1a91f245"
      },
      "outputs": [
        {
          "data": {
            "text/plain": [
              "<Axes: ylabel='thal'>"
            ]
          },
          "execution_count": 58,
          "metadata": {},
          "output_type": "execute_result"
        },
        {
          "data": {
            "image/png": "[encoded data removed]",
            "text/plain": [
              "<Figure size 640x480 with 1 Axes>"
            ]
          },
          "metadata": {},
          "output_type": "display_data"
        }
      ],
      "source": [
        "sns.barplot(dataset[\"thal\"])"
      ]
    },
    {
      "cell_type": "code",
      "execution_count": null,
      "metadata": {
        "id": "81AK8vGzOm4o"
      },
      "outputs": [],
      "source": [
        "\n",
        "from sklearn.model_selection import train_test_split\n",
        "\n",
        "predictors = dataset.drop(\"target\",axis=1)\n",
        "target = dataset[\"target\"]\n",
        "\n",
        "X_train,X_test,Y_train,Y_test = train_test_split(predictors,target,test_size=0.20,random_state=0)"
      ]
    },
    {
      "cell_type": "code",
      "execution_count": null,
      "metadata": {
        "colab": {
          "base_uri": "https://localhost:8080/"
        },
        "id": "JVdB602PO4AC",
        "outputId": "5ec28282-c6b0-4251-a486-61d666e1d0d6"
      },
      "outputs": [
        {
          "data": {
            "text/plain": [
              "(411, 13)"
            ]
          },
          "execution_count": 60,
          "metadata": {},
          "output_type": "execute_result"
        }
      ],
      "source": [
        "X_train.shape"
      ]
    },
    {
      "cell_type": "code",
      "execution_count": null,
      "metadata": {
        "colab": {
          "base_uri": "https://localhost:8080/"
        },
        "id": "YzEYDbgOO6vW",
        "outputId": "f267a1ba-673c-4b82-fa13-10d96ea29625"
      },
      "outputs": [
        {
          "data": {
            "text/plain": [
              "(103, 13)"
            ]
          },
          "execution_count": 61,
          "metadata": {},
          "output_type": "execute_result"
        }
      ],
      "source": [
        "X_test.shape"
      ]
    },
    {
      "cell_type": "code",
      "execution_count": null,
      "metadata": {
        "colab": {
          "base_uri": "https://localhost:8080/"
        },
        "id": "_k4vG7OUO-wM",
        "outputId": "1ec82395-92d1-4e4a-c16c-fac396b8e635"
      },
      "outputs": [
        {
          "data": {
            "text/plain": [
              "(411,)"
            ]
          },
          "execution_count": 62,
          "metadata": {},
          "output_type": "execute_result"
        }
      ],
      "source": [
        "Y_train.shape"
      ]
    },
    {
      "cell_type": "code",
      "execution_count": null,
      "metadata": {
        "colab": {
          "base_uri": "https://localhost:8080/"
        },
        "id": "oYkEhs5NO_0E",
        "outputId": "914f514a-9a9d-4481-dfa6-32d0b109c48c"
      },
      "outputs": [
        {
          "data": {
            "text/plain": [
              "(103,)"
            ]
          },
          "execution_count": 63,
          "metadata": {},
          "output_type": "execute_result"
        }
      ],
      "source": [
        "Y_test.shape"
      ]
    },
    {
      "cell_type": "code",
      "execution_count": null,
      "metadata": {
        "id": "Nk5TOXNlPC29"
      },
      "outputs": [],
      "source": [
        "from sklearn.metrics import accuracy_score"
      ]
    },
    {
      "cell_type": "code",
      "execution_count": null,
      "metadata": {
        "id": "91xd0WANPHZn"
      },
      "outputs": [],
      "source": [
        "from sklearn.linear_model import LogisticRegression\n",
        "\n",
        "lr = LogisticRegression()\n",
        "\n",
        "lr.fit(X_train,Y_train)\n",
        "\n",
        "Y_pred_lr = lr.predict(X_test)"
      ]
    },
    {
      "cell_type": "code",
      "execution_count": null,
      "metadata": {
        "colab": {
          "base_uri": "https://localhost:8080/"
        },
        "id": "0z1nOY2_PNDD",
        "outputId": "78eb6f7e-a07d-496c-bb6c-bc3c837e887d"
      },
      "outputs": [
        {
          "data": {
            "text/plain": [
              "(103,)"
            ]
          },
          "execution_count": 66,
          "metadata": {},
          "output_type": "execute_result"
        }
      ],
      "source": [
        "Y_pred_lr.shape"
      ]
    },
    {
      "cell_type": "code",
      "execution_count": null,
      "metadata": {
        "colab": {
          "base_uri": "https://localhost:8080/"
        },
        "id": "hKh3pjN_PPns",
        "outputId": "870f72a0-821c-469b-a032-9bb3fead35f3"
      },
      "outputs": [
        {
          "name": "stdout",
          "output_type": "stream",
          "text": [
            "The accuracy score achieved using Logistic Regression is: 86.41 %\n"
          ]
        }
      ],
      "source": [
        "score_lr = round(accuracy_score(Y_pred_lr,Y_test)*100,2)\n",
        "\n",
        "print(\"The accuracy score achieved using Logistic Regression is: \"+str(score_lr)+\" %\")"
      ]
    },
    {
      "cell_type": "code",
      "execution_count": null,
      "metadata": {
        "id": "nJOODEDrPVpe"
      },
      "outputs": [],
      "source": [
        "from sklearn.naive_bayes import GaussianNB\n",
        "\n",
        "nb = GaussianNB()\n",
        "\n",
        "nb.fit(X_train,Y_train)\n",
        "\n",
        "Y_pred_nb = nb.predict(X_test)"
      ]
    },
    {
      "cell_type": "code",
      "execution_count": null,
      "metadata": {
        "colab": {
          "base_uri": "https://localhost:8080/"
        },
        "id": "J2wDcCGEPZr7",
        "outputId": "1ffd6e4a-9778-4dfe-d421-d1db472a631b"
      },
      "outputs": [
        {
          "data": {
            "text/plain": [
              "(103,)"
            ]
          },
          "execution_count": 69,
          "metadata": {},
          "output_type": "execute_result"
        }
      ],
      "source": [
        "Y_pred_nb.shape"
      ]
    },
    {
      "cell_type": "code",
      "execution_count": null,
      "metadata": {
        "colab": {
          "base_uri": "https://localhost:8080/"
        },
        "id": "COTM2Y27Pc2_",
        "outputId": "4b54314d-4992-498b-cf70-9cf129f09c7c"
      },
      "outputs": [
        {
          "name": "stdout",
          "output_type": "stream",
          "text": [
            "The accuracy score achieved using Naive Bayes is: 89.32 %\n"
          ]
        }
      ],
      "source": [
        "score_nb = round(accuracy_score(Y_pred_nb,Y_test)*100,2)\n",
        "\n",
        "print(\"The accuracy score achieved using Naive Bayes is: \"+str(score_nb)+\" %\")"
      ]
    },
    {
      "cell_type": "code",
      "execution_count": null,
      "metadata": {
        "id": "Ta4lRDpBPhOD"
      },
      "outputs": [],
      "source": [
        "from sklearn import svm\n",
        "\n",
        "sv = svm.SVC(kernel='linear')\n",
        "\n",
        "sv.fit(X_train, Y_train)\n",
        "\n",
        "Y_pred_svm = sv.predict(X_test)"
      ]
    },
    {
      "cell_type": "code",
      "execution_count": null,
      "metadata": {
        "colab": {
          "base_uri": "https://localhost:8080/"
        },
        "id": "vA8yw90XPmMK",
        "outputId": "d0f81dc6-9a4f-45f0-dbf7-cf35cf0f7900"
      },
      "outputs": [
        {
          "data": {
            "text/plain": [
              "(103,)"
            ]
          },
          "execution_count": 72,
          "metadata": {},
          "output_type": "execute_result"
        }
      ],
      "source": [
        "Y_pred_svm.shape"
      ]
    },
    {
      "cell_type": "code",
      "execution_count": null,
      "metadata": {
        "colab": {
          "base_uri": "https://localhost:8080/"
        },
        "id": "JfTna6joPpaA",
        "outputId": "e24da419-1eb2-4c84-f71e-c2f28b0f0120"
      },
      "outputs": [
        {
          "name": "stdout",
          "output_type": "stream",
          "text": [
            "The accuracy score achieved using Linear SVM is: 86.41 %\n"
          ]
        }
      ],
      "source": [
        "score_svm = round(accuracy_score(Y_pred_svm,Y_test)*100,2)\n",
        "\n",
        "print(\"The accuracy score achieved using Linear SVM is: \"+str(score_svm)+\" %\")"
      ]
    },
    {
      "cell_type": "code",
      "execution_count": null,
      "metadata": {
        "id": "nDS3CmowP6aU"
      },
      "outputs": [],
      "source": [
        "from sklearn.neighbors import KNeighborsClassifier\n",
        "\n",
        "knn = KNeighborsClassifier(n_neighbors=7)\n",
        "knn.fit(X_train,Y_train)\n",
        "Y_pred_knn=knn.predict(X_test)"
      ]
    },
    {
      "cell_type": "code",
      "execution_count": null,
      "metadata": {
        "colab": {
          "base_uri": "https://localhost:8080/"
        },
        "id": "tTZkoiBGP-qb",
        "outputId": "d38db785-b4be-4b54-c4c3-47002411c1a2"
      },
      "outputs": [
        {
          "data": {
            "text/plain": [
              "(103,)"
            ]
          },
          "execution_count": 75,
          "metadata": {},
          "output_type": "execute_result"
        }
      ],
      "source": [
        "Y_pred_knn.shape"
      ]
    },
    {
      "cell_type": "code",
      "execution_count": null,
      "metadata": {
        "colab": {
          "base_uri": "https://localhost:8080/"
        },
        "id": "gk-_IMWmQBMR",
        "outputId": "7883f328-f890-4e2b-99a5-a42548b63087"
      },
      "outputs": [
        {
          "name": "stdout",
          "output_type": "stream",
          "text": [
            "The accuracy score achieved using KNN is: 65.05 %\n"
          ]
        }
      ],
      "source": [
        "\n",
        "score_knn = round(accuracy_score(Y_pred_knn,Y_test)*100,2)\n",
        "\n",
        "print(\"The accuracy score achieved using KNN is: \"+str(score_knn)+\" %\")\n"
      ]
    },
    {
      "cell_type": "code",
      "execution_count": null,
      "metadata": {
        "id": "0myNDe9HQTKt"
      },
      "outputs": [],
      "source": [
        "from sklearn.tree import DecisionTreeClassifier\n",
        "\n",
        "max_accuracy = 0\n",
        "\n",
        "\n",
        "for x in range(200):\n",
        "    dt = DecisionTreeClassifier(random_state=x)\n",
        "    dt.fit(X_train,Y_train)\n",
        "    Y_pred_dt = dt.predict(X_test)\n",
        "    current_accuracy = round(accuracy_score(Y_pred_dt,Y_test)*100,2)\n",
        "    if(current_accuracy>max_accuracy):\n",
        "        max_accuracy = current_accuracy\n",
        "        best_x = x\n",
        "\n",
        "        #print(max_accuracy)\n",
        "        #print(best_x)\n",
        "\n",
        "\n",
        "        dt = DecisionTreeClassifier(random_state=best_x)\n",
        "        dt.fit(X_train,Y_train)\n",
        "        Y_pred_dt = dt.predict(X_test)"
      ]
    },
    {
      "cell_type": "code",
      "execution_count": null,
      "metadata": {
        "colab": {
          "base_uri": "https://localhost:8080/"
        },
        "id": "ltLGmjz2QYRS",
        "outputId": "70257d87-fec3-48cf-fdd7-d4ab1a3120cd"
      },
      "outputs": [
        {
          "name": "stdout",
          "output_type": "stream",
          "text": [
            "(103,)\n"
          ]
        }
      ],
      "source": [
        "print(Y_pred_dt.shape)"
      ]
    },
    {
      "cell_type": "code",
      "execution_count": null,
      "metadata": {
        "colab": {
          "base_uri": "https://localhost:8080/"
        },
        "id": "gRZ9s383QfZL",
        "outputId": "1397e4fe-daed-47d9-8196-541cfd354628"
      },
      "outputs": [
        {
          "name": "stdout",
          "output_type": "stream",
          "text": [
            "The accuracy score achieved using Decision Tree is: 83.5 %\n"
          ]
        }
      ],
      "source": [
        "\n",
        "score_dt = round(accuracy_score(Y_pred_dt,Y_test)*100,2)\n",
        "\n",
        "print(\"The accuracy score achieved using Decision Tree is: \"+str(score_dt)+\" %\")"
      ]
    },
    {
      "cell_type": "code",
      "execution_count": null,
      "metadata": {
        "colab": {
          "background_save": true
        },
        "id": "25qKjzVtQzw9",
        "outputId": "a3044f99-c742-4774-d5b4-87bcdb6dbda8"
      },
      "outputs": [
        {
          "name": "stdout",
          "output_type": "stream",
          "text": [
            "Maximum accuracy: 93.2\n",
            "Best random state: 0\n"
          ]
        }
      ],
      "source": [
        "from sklearn.ensemble import RandomForestClassifier\n",
        "\n",
        "max_accuracy = 0\n",
        "\n",
        "for x in range(2000):\n",
        "    rf = RandomForestClassifier(random_state=x)\n",
        "    rf.fit(X_train, Y_train)\n",
        "    Y_pred_rf = rf.predict(X_test)\n",
        "    current_accuracy = round(accuracy_score(Y_pred_rf, Y_test) * 100, 2)\n",
        "    if current_accuracy > max_accuracy:\n",
        "        max_accuracy = current_accuracy\n",
        "        best_x = x\n",
        "\n",
        "# Print the results\n",
        "print(f\"Maximum accuracy: {max_accuracy}\")\n",
        "print(f\"Best random state: {best_x}\")\n",
        "\n",
        "# Train the model with the best random state\n",
        "rf = RandomForestClassifier(random_state=best_x)\n",
        "rf.fit(X_train, Y_train)\n",
        "Y_pred_rf = rf.predict(X_test)"
      ]
    },
    {
      "cell_type": "code",
      "execution_count": null,
      "metadata": {
        "colab": {
          "background_save": true
        },
        "id": "8VE8AQnuQ_sd",
        "outputId": "3baf2da1-def0-48f0-8a22-be553ddfb85d"
      },
      "outputs": [
        {
          "data": {
            "text/plain": [
              "(103,)"
            ]
          },
          "execution_count": 81,
          "metadata": {},
          "output_type": "execute_result"
        }
      ],
      "source": [
        "Y_pred_rf.shape"
      ]
    },
    {
      "cell_type": "code",
      "execution_count": null,
      "metadata": {
        "colab": {
          "background_save": true
        },
        "id": "gmEylgm3RQa3",
        "outputId": "eb230b0d-f075-40ef-f44f-df09601a11b6"
      },
      "outputs": [
        {
          "name": "stdout",
          "output_type": "stream",
          "text": [
            "The accuracy score achieved using Decision Tree is: 93.2 %\n"
          ]
        }
      ],
      "source": [
        "score_rf = round(accuracy_score(Y_pred_rf,Y_test)*100,2)\n",
        "\n",
        "print(\"The accuracy score achieved using Decision Tree is: \"+str(score_rf)+\" %\")"
      ]
    },
    {
      "cell_type": "code",
      "execution_count": null,
      "metadata": {
        "colab": {
          "background_save": true
        },
        "id": "ozIooHxXSQZ0"
      },
      "outputs": [],
      "source": [
        "import xgboost as xgb\n",
        "\n",
        "xgb_model = xgb.XGBClassifier(objective=\"binary:logistic\", random_state=42)\n",
        "xgb_model.fit(X_train, Y_train)\n",
        "\n",
        "Y_pred_xgb = xgb_model.predict(X_test)"
      ]
    },
    {
      "cell_type": "code",
      "execution_count": null,
      "metadata": {
        "colab": {
          "background_save": true
        },
        "id": "67nLTxuIS3dY",
        "outputId": "971936d8-cb1b-4b51-ec32-28a9926776ed"
      },
      "outputs": [
        {
          "data": {
            "text/plain": [
              "(103,)"
            ]
          },
          "execution_count": 84,
          "metadata": {},
          "output_type": "execute_result"
        }
      ],
      "source": [
        "Y_pred_xgb.shape"
      ]
    },
    {
      "cell_type": "code",
      "execution_count": null,
      "metadata": {
        "colab": {
          "background_save": true
        },
        "id": "j9fdDRoJTHUN",
        "outputId": "ce703337-cf58-4a37-b1b8-3103f2cdf9f4"
      },
      "outputs": [
        {
          "name": "stdout",
          "output_type": "stream",
          "text": [
            "The accuracy score achieved using XGBoost is: 88.35 %\n"
          ]
        }
      ],
      "source": [
        "\n",
        "score_xgb = round(accuracy_score(Y_pred_xgb,Y_test)*100,2)\n",
        "\n",
        "print(\"The accuracy score achieved using XGBoost is: \"+str(score_xgb)+\" %\")"
      ]
    },
    {
      "cell_type": "code",
      "execution_count": null,
      "metadata": {
        "colab": {
          "background_save": true
        },
        "id": "jeGUHkXvTQRi"
      },
      "outputs": [],
      "source": [
        "from keras.models import Sequential\n",
        "from keras.layers import Dense"
      ]
    },
    {
      "cell_type": "code",
      "execution_count": null,
      "metadata": {
        "colab": {
          "background_save": true
        },
        "id": "TbpJ7g2CTZxm"
      },
      "outputs": [],
      "source": [
        "# https://stats.stackexchange.com/a/136542 helped a lot in avoiding overfitting\n",
        "\n",
        "model = Sequential()\n",
        "model.add(Dense(11,activation='relu',input_dim=13))\n",
        "model.add(Dense(1,activation='sigmoid'))\n",
        "\n",
        "model.compile(loss='binary_crossentropy',optimizer='adam',metrics=['accuracy'])"
      ]
    },
    {
      "cell_type": "code",
      "execution_count": null,
      "metadata": {
        "colab": {
          "background_save": true
        },
        "id": "6ILtni2AThzs",
        "outputId": "8e9a69db-6fc9-4631-880b-7d431802a5c1"
      },
      "outputs": [
        {
          "name": "stdout",
          "output_type": "stream",
          "text": [
            "Epoch 1/300\n",
            "13/13 [==============================] - 1s 2ms/step - loss: 3.1661 - accuracy: 0.5937\n",
            "Epoch 2/300\n",
            "13/13 [==============================] - 0s 2ms/step - loss: 2.2998 - accuracy: 0.6156\n",
            "Epoch 3/300\n",
            "13/13 [==============================] - 0s 2ms/step - loss: 2.0312 - accuracy: 0.6131\n",
            "Epoch 4/300\n",
            "13/13 [==============================] - 0s 2ms/step - loss: 1.8897 - accuracy: 0.6302\n",
            "Epoch 5/300\n",
            "13/13 [==============================] - 0s 1ms/step - loss: 1.7327 - accuracy: 0.6204\n",
            "Epoch 6/300\n",
            "13/13 [==============================] - 0s 2ms/step - loss: 1.5887 - accuracy: 0.6253\n",
            "Epoch 7/300\n",
            "13/13 [==============================] - 0s 1ms/step - loss: 1.4519 - accuracy: 0.6350\n",
            "Epoch 8/300\n",
            "13/13 [==============================] - 0s 1ms/step - loss: 1.3157 - accuracy: 0.6277\n",
            "Epoch 9/300\n",
            "13/13 [==============================] - 0s 2ms/step - loss: 1.1652 - accuracy: 0.6448\n",
            "Epoch 10/300\n",
            "13/13 [==============================] - 0s 3ms/step - loss: 1.0498 - accuracy: 0.6204\n",
            "Epoch 11/300\n",
            "13/13 [==============================] - 0s 2ms/step - loss: 0.9308 - accuracy: 0.6399\n",
            "Epoch 12/300\n",
            "13/13 [==============================] - 0s 2ms/step - loss: 0.8482 - accuracy: 0.6472\n",
            "Epoch 13/300\n",
            "13/13 [==============================] - 0s 3ms/step - loss: 0.7645 - accuracy: 0.6594\n",
            "Epoch 14/300\n",
            "13/13 [==============================] - 0s 2ms/step - loss: 0.7037 - accuracy: 0.6594\n",
            "Epoch 15/300\n",
            "13/13 [==============================] - 0s 2ms/step - loss: 0.6477 - accuracy: 0.6545\n",
            "Epoch 16/300\n",
            "13/13 [==============================] - 0s 2ms/step - loss: 0.6148 - accuracy: 0.6618\n",
            "Epoch 17/300\n",
            "13/13 [==============================] - 0s 2ms/step - loss: 0.5892 - accuracy: 0.7032\n",
            "Epoch 18/300\n",
            "13/13 [==============================] - 0s 2ms/step - loss: 0.5474 - accuracy: 0.7299\n",
            "Epoch 19/300\n",
            "13/13 [==============================] - 0s 2ms/step - loss: 0.5424 - accuracy: 0.7178\n",
            "Epoch 20/300\n",
            "13/13 [==============================] - 0s 2ms/step - loss: 0.5345 - accuracy: 0.7275\n",
            "Epoch 21/300\n",
            "13/13 [==============================] - 0s 3ms/step - loss: 0.5250 - accuracy: 0.7397\n",
            "Epoch 22/300\n",
            "13/13 [==============================] - 0s 2ms/step - loss: 0.5098 - accuracy: 0.7518\n",
            "Epoch 23/300\n",
            "13/13 [==============================] - 0s 2ms/step - loss: 0.5259 - accuracy: 0.7397\n",
            "Epoch 24/300\n",
            "13/13 [==============================] - 0s 2ms/step - loss: 0.5155 - accuracy: 0.7275\n",
            "Epoch 25/300\n",
            "13/13 [==============================] - 0s 3ms/step - loss: 0.4914 - accuracy: 0.7591\n",
            "Epoch 26/300\n",
            "13/13 [==============================] - 0s 2ms/step - loss: 0.5468 - accuracy: 0.7299\n",
            "Epoch 27/300\n",
            "13/13 [==============================] - 0s 2ms/step - loss: 0.4995 - accuracy: 0.7616\n",
            "Epoch 28/300\n",
            "13/13 [==============================] - 0s 2ms/step - loss: 0.5124 - accuracy: 0.7324\n",
            "Epoch 29/300\n",
            "13/13 [==============================] - 0s 2ms/step - loss: 0.4880 - accuracy: 0.7567\n",
            "Epoch 30/300\n",
            "13/13 [==============================] - 0s 2ms/step - loss: 0.4835 - accuracy: 0.7640\n",
            "Epoch 31/300\n",
            "13/13 [==============================] - 0s 2ms/step - loss: 0.4762 - accuracy: 0.7737\n",
            "Epoch 32/300\n",
            "13/13 [==============================] - 0s 2ms/step - loss: 0.4665 - accuracy: 0.7859\n",
            "Epoch 33/300\n",
            "13/13 [==============================] - 0s 2ms/step - loss: 0.4636 - accuracy: 0.7810\n",
            "Epoch 34/300\n",
            "13/13 [==============================] - 0s 2ms/step - loss: 0.4630 - accuracy: 0.7883\n",
            "Epoch 35/300\n",
            "13/13 [==============================] - 0s 2ms/step - loss: 0.4613 - accuracy: 0.7737\n",
            "Epoch 36/300\n",
            "13/13 [==============================] - 0s 2ms/step - loss: 0.4599 - accuracy: 0.7762\n",
            "Epoch 37/300\n",
            "13/13 [==============================] - 0s 2ms/step - loss: 0.4585 - accuracy: 0.7835\n",
            "Epoch 38/300\n",
            "13/13 [==============================] - 0s 3ms/step - loss: 0.4695 - accuracy: 0.7616\n",
            "Epoch 39/300\n",
            "13/13 [==============================] - 0s 2ms/step - loss: 0.4558 - accuracy: 0.7859\n",
            "Epoch 40/300\n",
            "13/13 [==============================] - 0s 2ms/step - loss: 0.4528 - accuracy: 0.7810\n",
            "Epoch 41/300\n",
            "13/13 [==============================] - 0s 2ms/step - loss: 0.4471 - accuracy: 0.7810\n",
            "Epoch 42/300\n",
            "13/13 [==============================] - 0s 2ms/step - loss: 0.4489 - accuracy: 0.7932\n",
            "Epoch 43/300\n",
            "13/13 [==============================] - 0s 2ms/step - loss: 0.4439 - accuracy: 0.8029\n",
            "Epoch 44/300\n",
            "13/13 [==============================] - 0s 2ms/step - loss: 0.4448 - accuracy: 0.7835\n",
            "Epoch 45/300\n",
            "13/13 [==============================] - 0s 2ms/step - loss: 0.4412 - accuracy: 0.7883\n",
            "Epoch 46/300\n",
            "13/13 [==============================] - 0s 2ms/step - loss: 0.4390 - accuracy: 0.7981\n",
            "Epoch 47/300\n",
            "13/13 [==============================] - 0s 2ms/step - loss: 0.4445 - accuracy: 0.7932\n",
            "Epoch 48/300\n",
            "13/13 [==============================] - 0s 2ms/step - loss: 0.4422 - accuracy: 0.7859\n",
            "Epoch 49/300\n",
            "13/13 [==============================] - 0s 2ms/step - loss: 0.4465 - accuracy: 0.7810\n",
            "Epoch 50/300\n",
            "13/13 [==============================] - 0s 3ms/step - loss: 0.4419 - accuracy: 0.7932\n",
            "Epoch 51/300\n",
            "13/13 [==============================] - 0s 2ms/step - loss: 0.4304 - accuracy: 0.7956\n",
            "Epoch 52/300\n",
            "13/13 [==============================] - 0s 3ms/step - loss: 0.4397 - accuracy: 0.7981\n",
            "Epoch 53/300\n",
            "13/13 [==============================] - 0s 3ms/step - loss: 0.4561 - accuracy: 0.7908\n",
            "Epoch 54/300\n",
            "13/13 [==============================] - 0s 2ms/step - loss: 0.4260 - accuracy: 0.8078\n",
            "Epoch 55/300\n",
            "13/13 [==============================] - 0s 2ms/step - loss: 0.4270 - accuracy: 0.8054\n",
            "Epoch 56/300\n",
            "13/13 [==============================] - 0s 2ms/step - loss: 0.4419 - accuracy: 0.7981\n",
            "Epoch 57/300\n",
            "13/13 [==============================] - 0s 1ms/step - loss: 0.4335 - accuracy: 0.8029\n",
            "Epoch 58/300\n",
            "13/13 [==============================] - 0s 1ms/step - loss: 0.4250 - accuracy: 0.8151\n",
            "Epoch 59/300\n",
            "13/13 [==============================] - 0s 2ms/step - loss: 0.4305 - accuracy: 0.8078\n",
            "Epoch 60/300\n",
            "13/13 [==============================] - 0s 2ms/step - loss: 0.4266 - accuracy: 0.8005\n",
            "Epoch 61/300\n",
            "13/13 [==============================] - 0s 2ms/step - loss: 0.4433 - accuracy: 0.7689\n",
            "Epoch 62/300\n",
            "13/13 [==============================] - 0s 2ms/step - loss: 0.4399 - accuracy: 0.8127\n",
            "Epoch 63/300\n",
            "13/13 [==============================] - 0s 2ms/step - loss: 0.4320 - accuracy: 0.8005\n",
            "Epoch 64/300\n",
            "13/13 [==============================] - 0s 2ms/step - loss: 0.4152 - accuracy: 0.8029\n",
            "Epoch 65/300\n",
            "13/13 [==============================] - 0s 2ms/step - loss: 0.4152 - accuracy: 0.8029\n",
            "Epoch 66/300\n",
            "13/13 [==============================] - 0s 2ms/step - loss: 0.4273 - accuracy: 0.8078\n",
            "Epoch 67/300\n",
            "13/13 [==============================] - 0s 2ms/step - loss: 0.4268 - accuracy: 0.8175\n",
            "Epoch 68/300\n",
            "13/13 [==============================] - 0s 1ms/step - loss: 0.4421 - accuracy: 0.7737\n",
            "Epoch 69/300\n",
            "13/13 [==============================] - 0s 2ms/step - loss: 0.4192 - accuracy: 0.8078\n",
            "Epoch 70/300\n",
            "13/13 [==============================] - 0s 2ms/step - loss: 0.4094 - accuracy: 0.8224\n",
            "Epoch 71/300\n",
            "13/13 [==============================] - 0s 2ms/step - loss: 0.4151 - accuracy: 0.8102\n",
            "Epoch 72/300\n",
            "13/13 [==============================] - 0s 1ms/step - loss: 0.4173 - accuracy: 0.8005\n",
            "Epoch 73/300\n",
            "13/13 [==============================] - 0s 2ms/step - loss: 0.4134 - accuracy: 0.8200\n",
            "Epoch 74/300\n",
            "13/13 [==============================] - 0s 2ms/step - loss: 0.4107 - accuracy: 0.8248\n",
            "Epoch 75/300\n",
            "13/13 [==============================] - 0s 2ms/step - loss: 0.4251 - accuracy: 0.7908\n",
            "Epoch 76/300\n",
            "13/13 [==============================] - 0s 2ms/step - loss: 0.4083 - accuracy: 0.8200\n",
            "Epoch 77/300\n",
            "13/13 [==============================] - 0s 1ms/step - loss: 0.4089 - accuracy: 0.8175\n",
            "Epoch 78/300\n",
            "13/13 [==============================] - 0s 1ms/step - loss: 0.4157 - accuracy: 0.8200\n",
            "Epoch 79/300\n",
            "13/13 [==============================] - 0s 2ms/step - loss: 0.4213 - accuracy: 0.8054\n",
            "Epoch 80/300\n",
            "13/13 [==============================] - 0s 1ms/step - loss: 0.4150 - accuracy: 0.8224\n",
            "Epoch 81/300\n",
            "13/13 [==============================] - 0s 1ms/step - loss: 0.4164 - accuracy: 0.8297\n",
            "Epoch 82/300\n",
            "13/13 [==============================] - 0s 1ms/step - loss: 0.4254 - accuracy: 0.8102\n",
            "Epoch 83/300\n",
            "13/13 [==============================] - 0s 1ms/step - loss: 0.4491 - accuracy: 0.7883\n",
            "Epoch 84/300\n",
            "13/13 [==============================] - 0s 2ms/step - loss: 0.4151 - accuracy: 0.8224\n",
            "Epoch 85/300\n",
            "13/13 [==============================] - 0s 2ms/step - loss: 0.4106 - accuracy: 0.8078\n",
            "Epoch 86/300\n",
            "13/13 [==============================] - 0s 1ms/step - loss: 0.4029 - accuracy: 0.8248\n",
            "Epoch 87/300\n",
            "13/13 [==============================] - 0s 2ms/step - loss: 0.4223 - accuracy: 0.7981\n",
            "Epoch 88/300\n",
            "13/13 [==============================] - 0s 2ms/step - loss: 0.4026 - accuracy: 0.8200\n",
            "Epoch 89/300\n",
            "13/13 [==============================] - 0s 1ms/step - loss: 0.4090 - accuracy: 0.8078\n",
            "Epoch 90/300\n",
            "13/13 [==============================] - 0s 1ms/step - loss: 0.4016 - accuracy: 0.8273\n",
            "Epoch 91/300\n",
            "13/13 [==============================] - 0s 1ms/step - loss: 0.4095 - accuracy: 0.8273\n",
            "Epoch 92/300\n",
            "13/13 [==============================] - 0s 1ms/step - loss: 0.3978 - accuracy: 0.8394\n",
            "Epoch 93/300\n",
            "13/13 [==============================] - 0s 2ms/step - loss: 0.4031 - accuracy: 0.8321\n",
            "Epoch 94/300\n",
            "13/13 [==============================] - 0s 2ms/step - loss: 0.4101 - accuracy: 0.8273\n",
            "Epoch 95/300\n",
            "13/13 [==============================] - 0s 2ms/step - loss: 0.3971 - accuracy: 0.8175\n",
            "Epoch 96/300\n",
            "13/13 [==============================] - 0s 1ms/step - loss: 0.4010 - accuracy: 0.8200\n",
            "Epoch 97/300\n",
            "13/13 [==============================] - 0s 1ms/step - loss: 0.4115 - accuracy: 0.8078\n",
            "Epoch 98/300\n",
            "13/13 [==============================] - 0s 1ms/step - loss: 0.4005 - accuracy: 0.8224\n",
            "Epoch 99/300\n",
            "13/13 [==============================] - 0s 1ms/step - loss: 0.4015 - accuracy: 0.8200\n",
            "Epoch 100/300\n",
            "13/13 [==============================] - 0s 1ms/step - loss: 0.3957 - accuracy: 0.8297\n",
            "Epoch 101/300\n",
            "13/13 [==============================] - 0s 1ms/step - loss: 0.3984 - accuracy: 0.8248\n",
            "Epoch 102/300\n",
            "13/13 [==============================] - 0s 1ms/step - loss: 0.3984 - accuracy: 0.8297\n",
            "Epoch 103/300\n",
            "13/13 [==============================] - 0s 2ms/step - loss: 0.3985 - accuracy: 0.8273\n",
            "Epoch 104/300\n",
            "13/13 [==============================] - 0s 1ms/step - loss: 0.4036 - accuracy: 0.8345\n",
            "Epoch 105/300\n",
            "13/13 [==============================] - 0s 1ms/step - loss: 0.4065 - accuracy: 0.8273\n",
            "Epoch 106/300\n",
            "13/13 [==============================] - 0s 2ms/step - loss: 0.4139 - accuracy: 0.8005\n",
            "Epoch 107/300\n",
            "13/13 [==============================] - 0s 2ms/step - loss: 0.3953 - accuracy: 0.8394\n",
            "Epoch 108/300\n",
            "13/13 [==============================] - 0s 2ms/step - loss: 0.3942 - accuracy: 0.8248\n",
            "Epoch 109/300\n",
            "13/13 [==============================] - 0s 2ms/step - loss: 0.3943 - accuracy: 0.8297\n",
            "Epoch 110/300\n",
            "13/13 [==============================] - 0s 2ms/step - loss: 0.3970 - accuracy: 0.8224\n",
            "Epoch 111/300\n",
            "13/13 [==============================] - 0s 2ms/step - loss: 0.3978 - accuracy: 0.8175\n",
            "Epoch 112/300\n",
            "13/13 [==============================] - 0s 1ms/step - loss: 0.4180 - accuracy: 0.8273\n",
            "Epoch 113/300\n",
            "13/13 [==============================] - 0s 1ms/step - loss: 0.3971 - accuracy: 0.8248\n",
            "Epoch 114/300\n",
            "13/13 [==============================] - 0s 2ms/step - loss: 0.4192 - accuracy: 0.8297\n",
            "Epoch 115/300\n",
            "13/13 [==============================] - 0s 1ms/step - loss: 0.4111 - accuracy: 0.8273\n",
            "Epoch 116/300\n",
            "13/13 [==============================] - 0s 1ms/step - loss: 0.4186 - accuracy: 0.8078\n",
            "Epoch 117/300\n",
            "13/13 [==============================] - 0s 1ms/step - loss: 0.3949 - accuracy: 0.8273\n",
            "Epoch 118/300\n",
            "13/13 [==============================] - 0s 1ms/step - loss: 0.3918 - accuracy: 0.8297\n",
            "Epoch 119/300\n",
            "13/13 [==============================] - 0s 1ms/step - loss: 0.3917 - accuracy: 0.8394\n",
            "Epoch 120/300\n",
            "13/13 [==============================] - 0s 1ms/step - loss: 0.3924 - accuracy: 0.8175\n",
            "Epoch 121/300\n",
            "13/13 [==============================] - 0s 2ms/step - loss: 0.3951 - accuracy: 0.8224\n",
            "Epoch 122/300\n",
            "13/13 [==============================] - 0s 2ms/step - loss: 0.3913 - accuracy: 0.8370\n",
            "Epoch 123/300\n",
            "13/13 [==============================] - 0s 2ms/step - loss: 0.3938 - accuracy: 0.8297\n",
            "Epoch 124/300\n",
            "13/13 [==============================] - 0s 2ms/step - loss: 0.3913 - accuracy: 0.8248\n",
            "Epoch 125/300\n",
            "13/13 [==============================] - 0s 2ms/step - loss: 0.3908 - accuracy: 0.8248\n",
            "Epoch 126/300\n",
            "13/13 [==============================] - 0s 2ms/step - loss: 0.4007 - accuracy: 0.8394\n",
            "Epoch 127/300\n",
            "13/13 [==============================] - 0s 2ms/step - loss: 0.3958 - accuracy: 0.8200\n",
            "Epoch 128/300\n",
            "13/13 [==============================] - 0s 2ms/step - loss: 0.3960 - accuracy: 0.8297\n",
            "Epoch 129/300\n",
            "13/13 [==============================] - 0s 1ms/step - loss: 0.3947 - accuracy: 0.8297\n",
            "Epoch 130/300\n",
            "13/13 [==============================] - 0s 2ms/step - loss: 0.3985 - accuracy: 0.8200\n",
            "Epoch 131/300\n",
            "13/13 [==============================] - 0s 2ms/step - loss: 0.3864 - accuracy: 0.8321\n",
            "Epoch 132/300\n",
            "13/13 [==============================] - 0s 2ms/step - loss: 0.3892 - accuracy: 0.8418\n",
            "Epoch 133/300\n",
            "13/13 [==============================] - 0s 2ms/step - loss: 0.3945 - accuracy: 0.8394\n",
            "Epoch 134/300\n",
            "13/13 [==============================] - 0s 2ms/step - loss: 0.3896 - accuracy: 0.8224\n",
            "Epoch 135/300\n",
            "13/13 [==============================] - 0s 2ms/step - loss: 0.3901 - accuracy: 0.8297\n",
            "Epoch 136/300\n",
            "13/13 [==============================] - 0s 1ms/step - loss: 0.4109 - accuracy: 0.8175\n",
            "Epoch 137/300\n",
            "13/13 [==============================] - 0s 2ms/step - loss: 0.4089 - accuracy: 0.8151\n",
            "Epoch 138/300\n",
            "13/13 [==============================] - 0s 1ms/step - loss: 0.4037 - accuracy: 0.8151\n",
            "Epoch 139/300\n",
            "13/13 [==============================] - 0s 1ms/step - loss: 0.3866 - accuracy: 0.8297\n",
            "Epoch 140/300\n",
            "13/13 [==============================] - 0s 2ms/step - loss: 0.3885 - accuracy: 0.8345\n",
            "Epoch 141/300\n",
            "13/13 [==============================] - 0s 2ms/step - loss: 0.3935 - accuracy: 0.8467\n",
            "Epoch 142/300\n",
            "13/13 [==============================] - 0s 2ms/step - loss: 0.3896 - accuracy: 0.8297\n",
            "Epoch 143/300\n",
            "13/13 [==============================] - 0s 2ms/step - loss: 0.3921 - accuracy: 0.8321\n",
            "Epoch 144/300\n",
            "13/13 [==============================] - 0s 2ms/step - loss: 0.3880 - accuracy: 0.8297\n",
            "Epoch 145/300\n",
            "13/13 [==============================] - 0s 2ms/step - loss: 0.3933 - accuracy: 0.8248\n",
            "Epoch 146/300\n",
            "13/13 [==============================] - 0s 2ms/step - loss: 0.3876 - accuracy: 0.8273\n",
            "Epoch 147/300\n",
            "13/13 [==============================] - 0s 2ms/step - loss: 0.3947 - accuracy: 0.8248\n",
            "Epoch 148/300\n",
            "13/13 [==============================] - 0s 2ms/step - loss: 0.3956 - accuracy: 0.8248\n",
            "Epoch 149/300\n",
            "13/13 [==============================] - 0s 2ms/step - loss: 0.3847 - accuracy: 0.8297\n",
            "Epoch 150/300\n",
            "13/13 [==============================] - 0s 2ms/step - loss: 0.3996 - accuracy: 0.8248\n",
            "Epoch 151/300\n",
            "13/13 [==============================] - 0s 2ms/step - loss: 0.4436 - accuracy: 0.8005\n",
            "Epoch 152/300\n",
            "13/13 [==============================] - 0s 2ms/step - loss: 0.3908 - accuracy: 0.8273\n",
            "Epoch 153/300\n",
            "13/13 [==============================] - 0s 2ms/step - loss: 0.3971 - accuracy: 0.8054\n",
            "Epoch 154/300\n",
            "13/13 [==============================] - 0s 2ms/step - loss: 0.3978 - accuracy: 0.8321\n",
            "Epoch 155/300\n",
            "13/13 [==============================] - 0s 2ms/step - loss: 0.4061 - accuracy: 0.8151\n",
            "Epoch 156/300\n",
            "13/13 [==============================] - 0s 2ms/step - loss: 0.4088 - accuracy: 0.8005\n",
            "Epoch 157/300\n",
            "13/13 [==============================] - 0s 2ms/step - loss: 0.3929 - accuracy: 0.8418\n",
            "Epoch 158/300\n",
            "13/13 [==============================] - 0s 2ms/step - loss: 0.3881 - accuracy: 0.8273\n",
            "Epoch 159/300\n",
            "13/13 [==============================] - 0s 2ms/step - loss: 0.3877 - accuracy: 0.8370\n",
            "Epoch 160/300\n",
            "13/13 [==============================] - 0s 1ms/step - loss: 0.3866 - accuracy: 0.8394\n",
            "Epoch 161/300\n",
            "13/13 [==============================] - 0s 1ms/step - loss: 0.3867 - accuracy: 0.8370\n",
            "Epoch 162/300\n",
            "13/13 [==============================] - 0s 3ms/step - loss: 0.3827 - accuracy: 0.8418\n",
            "Epoch 163/300\n",
            "13/13 [==============================] - 0s 2ms/step - loss: 0.4024 - accuracy: 0.8175\n",
            "Epoch 164/300\n",
            "13/13 [==============================] - 0s 2ms/step - loss: 0.3890 - accuracy: 0.8200\n",
            "Epoch 165/300\n",
            "13/13 [==============================] - 0s 2ms/step - loss: 0.3865 - accuracy: 0.8248\n",
            "Epoch 166/300\n",
            "13/13 [==============================] - 0s 3ms/step - loss: 0.3838 - accuracy: 0.8273\n",
            "Epoch 167/300\n",
            "13/13 [==============================] - 0s 2ms/step - loss: 0.3913 - accuracy: 0.8370\n",
            "Epoch 168/300\n",
            "13/13 [==============================] - 0s 2ms/step - loss: 0.3978 - accuracy: 0.8273\n",
            "Epoch 169/300\n",
            "13/13 [==============================] - 0s 2ms/step - loss: 0.3856 - accuracy: 0.8321\n",
            "Epoch 170/300\n",
            "13/13 [==============================] - 0s 2ms/step - loss: 0.4177 - accuracy: 0.8175\n",
            "Epoch 171/300\n",
            "13/13 [==============================] - 0s 3ms/step - loss: 0.3823 - accuracy: 0.8394\n",
            "Epoch 172/300\n",
            "13/13 [==============================] - 0s 2ms/step - loss: 0.4095 - accuracy: 0.8102\n",
            "Epoch 173/300\n",
            "13/13 [==============================] - 0s 2ms/step - loss: 0.3878 - accuracy: 0.8273\n",
            "Epoch 174/300\n",
            "13/13 [==============================] - 0s 3ms/step - loss: 0.3856 - accuracy: 0.8321\n",
            "Epoch 175/300\n",
            "13/13 [==============================] - 0s 2ms/step - loss: 0.3849 - accuracy: 0.8345\n",
            "Epoch 176/300\n",
            "13/13 [==============================] - 0s 2ms/step - loss: 0.3900 - accuracy: 0.8370\n",
            "Epoch 177/300\n",
            "13/13 [==============================] - 0s 2ms/step - loss: 0.3882 - accuracy: 0.8297\n",
            "Epoch 178/300\n",
            "13/13 [==============================] - 0s 2ms/step - loss: 0.3875 - accuracy: 0.8467\n",
            "Epoch 179/300\n",
            "13/13 [==============================] - 0s 2ms/step - loss: 0.4051 - accuracy: 0.8151\n",
            "Epoch 180/300\n",
            "13/13 [==============================] - 0s 2ms/step - loss: 0.3853 - accuracy: 0.8394\n",
            "Epoch 181/300\n",
            "13/13 [==============================] - 0s 2ms/step - loss: 0.4030 - accuracy: 0.8248\n",
            "Epoch 182/300\n",
            "13/13 [==============================] - 0s 2ms/step - loss: 0.3881 - accuracy: 0.8248\n",
            "Epoch 183/300\n",
            "13/13 [==============================] - 0s 2ms/step - loss: 0.3833 - accuracy: 0.8297\n",
            "Epoch 184/300\n",
            "13/13 [==============================] - 0s 2ms/step - loss: 0.3829 - accuracy: 0.8297\n",
            "Epoch 185/300\n",
            "13/13 [==============================] - 0s 2ms/step - loss: 0.3874 - accuracy: 0.8418\n",
            "Epoch 186/300\n",
            "13/13 [==============================] - 0s 2ms/step - loss: 0.3790 - accuracy: 0.8273\n",
            "Epoch 187/300\n",
            "13/13 [==============================] - 0s 2ms/step - loss: 0.3872 - accuracy: 0.8321\n",
            "Epoch 188/300\n",
            "13/13 [==============================] - 0s 2ms/step - loss: 0.4083 - accuracy: 0.8102\n",
            "Epoch 189/300\n",
            "13/13 [==============================] - 0s 3ms/step - loss: 0.4204 - accuracy: 0.8078\n",
            "Epoch 190/300\n",
            "13/13 [==============================] - 0s 2ms/step - loss: 0.3832 - accuracy: 0.8345\n",
            "Epoch 191/300\n",
            "13/13 [==============================] - 0s 2ms/step - loss: 0.3823 - accuracy: 0.8273\n",
            "Epoch 192/300\n",
            "13/13 [==============================] - 0s 2ms/step - loss: 0.3819 - accuracy: 0.8321\n",
            "Epoch 193/300\n",
            "13/13 [==============================] - 0s 2ms/step - loss: 0.3880 - accuracy: 0.8418\n",
            "Epoch 194/300\n",
            "13/13 [==============================] - 0s 2ms/step - loss: 0.3866 - accuracy: 0.8394\n",
            "Epoch 195/300\n",
            "13/13 [==============================] - 0s 2ms/step - loss: 0.3815 - accuracy: 0.8224\n",
            "Epoch 196/300\n",
            "13/13 [==============================] - 0s 3ms/step - loss: 0.3842 - accuracy: 0.8345\n",
            "Epoch 197/300\n",
            "13/13 [==============================] - 0s 2ms/step - loss: 0.3918 - accuracy: 0.8297\n",
            "Epoch 198/300\n",
            "13/13 [==============================] - 0s 2ms/step - loss: 0.3868 - accuracy: 0.8321\n",
            "Epoch 199/300\n",
            "13/13 [==============================] - 0s 2ms/step - loss: 0.3871 - accuracy: 0.8248\n",
            "Epoch 200/300\n",
            "13/13 [==============================] - 0s 2ms/step - loss: 0.3837 - accuracy: 0.8273\n",
            "Epoch 201/300\n",
            "13/13 [==============================] - 0s 2ms/step - loss: 0.3833 - accuracy: 0.8297\n",
            "Epoch 202/300\n",
            "13/13 [==============================] - 0s 2ms/step - loss: 0.3950 - accuracy: 0.8297\n",
            "Epoch 203/300\n",
            "13/13 [==============================] - 0s 2ms/step - loss: 0.3817 - accuracy: 0.8345\n",
            "Epoch 204/300\n",
            "13/13 [==============================] - 0s 3ms/step - loss: 0.3853 - accuracy: 0.8321\n",
            "Epoch 205/300\n",
            "13/13 [==============================] - 0s 2ms/step - loss: 0.3990 - accuracy: 0.8127\n",
            "Epoch 206/300\n",
            "13/13 [==============================] - 0s 2ms/step - loss: 0.3785 - accuracy: 0.8321\n",
            "Epoch 207/300\n",
            "13/13 [==============================] - 0s 2ms/step - loss: 0.3795 - accuracy: 0.8345\n",
            "Epoch 208/300\n",
            "13/13 [==============================] - 0s 2ms/step - loss: 0.4017 - accuracy: 0.8370\n",
            "Epoch 209/300\n",
            "13/13 [==============================] - 0s 2ms/step - loss: 0.4009 - accuracy: 0.8273\n",
            "Epoch 210/300\n",
            "13/13 [==============================] - 0s 2ms/step - loss: 0.3827 - accuracy: 0.8394\n",
            "Epoch 211/300\n",
            "13/13 [==============================] - 0s 2ms/step - loss: 0.3839 - accuracy: 0.8345\n",
            "Epoch 212/300\n",
            "13/13 [==============================] - 0s 1ms/step - loss: 0.3808 - accuracy: 0.8394\n",
            "Epoch 213/300\n",
            "13/13 [==============================] - 0s 2ms/step - loss: 0.3868 - accuracy: 0.8345\n",
            "Epoch 214/300\n",
            "13/13 [==============================] - 0s 2ms/step - loss: 0.4103 - accuracy: 0.8175\n",
            "Epoch 215/300\n",
            "13/13 [==============================] - 0s 2ms/step - loss: 0.4009 - accuracy: 0.8175\n",
            "Epoch 216/300\n",
            "13/13 [==============================] - 0s 2ms/step - loss: 0.3831 - accuracy: 0.8394\n",
            "Epoch 217/300\n",
            "13/13 [==============================] - 0s 2ms/step - loss: 0.4065 - accuracy: 0.8005\n",
            "Epoch 218/300\n",
            "13/13 [==============================] - 0s 2ms/step - loss: 0.3865 - accuracy: 0.8273\n",
            "Epoch 219/300\n",
            "13/13 [==============================] - 0s 2ms/step - loss: 0.3938 - accuracy: 0.8248\n",
            "Epoch 220/300\n",
            "13/13 [==============================] - 0s 2ms/step - loss: 0.3998 - accuracy: 0.8370\n",
            "Epoch 221/300\n",
            "13/13 [==============================] - 0s 2ms/step - loss: 0.3964 - accuracy: 0.8248\n",
            "Epoch 222/300\n",
            "13/13 [==============================] - 0s 2ms/step - loss: 0.3783 - accuracy: 0.8394\n",
            "Epoch 223/300\n",
            "13/13 [==============================] - 0s 2ms/step - loss: 0.3783 - accuracy: 0.8248\n",
            "Epoch 224/300\n",
            "13/13 [==============================] - 0s 2ms/step - loss: 0.3852 - accuracy: 0.8224\n",
            "Epoch 225/300\n",
            "13/13 [==============================] - 0s 2ms/step - loss: 0.3792 - accuracy: 0.8321\n",
            "Epoch 226/300\n",
            "13/13 [==============================] - 0s 2ms/step - loss: 0.3837 - accuracy: 0.8224\n",
            "Epoch 227/300\n",
            "13/13 [==============================] - 0s 2ms/step - loss: 0.3797 - accuracy: 0.8370\n",
            "Epoch 228/300\n",
            "13/13 [==============================] - 0s 2ms/step - loss: 0.3895 - accuracy: 0.8200\n",
            "Epoch 229/300\n",
            "13/13 [==============================] - 0s 2ms/step - loss: 0.3895 - accuracy: 0.8297\n",
            "Epoch 230/300\n",
            "13/13 [==============================] - 0s 2ms/step - loss: 0.3796 - accuracy: 0.8345\n",
            "Epoch 231/300\n",
            "13/13 [==============================] - 0s 2ms/step - loss: 0.3804 - accuracy: 0.8418\n",
            "Epoch 232/300\n",
            "13/13 [==============================] - 0s 2ms/step - loss: 0.3914 - accuracy: 0.8345\n",
            "Epoch 233/300\n",
            "13/13 [==============================] - 0s 2ms/step - loss: 0.3849 - accuracy: 0.8370\n",
            "Epoch 234/300\n",
            "13/13 [==============================] - 0s 2ms/step - loss: 0.3947 - accuracy: 0.8200\n",
            "Epoch 235/300\n",
            "13/13 [==============================] - 0s 2ms/step - loss: 0.3801 - accuracy: 0.8443\n",
            "Epoch 236/300\n",
            "13/13 [==============================] - 0s 2ms/step - loss: 0.3840 - accuracy: 0.8443\n",
            "Epoch 237/300\n",
            "13/13 [==============================] - 0s 2ms/step - loss: 0.3805 - accuracy: 0.8321\n",
            "Epoch 238/300\n",
            "13/13 [==============================] - 0s 2ms/step - loss: 0.3789 - accuracy: 0.8297\n",
            "Epoch 239/300\n",
            "13/13 [==============================] - 0s 2ms/step - loss: 0.3990 - accuracy: 0.8175\n",
            "Epoch 240/300\n",
            "13/13 [==============================] - 0s 2ms/step - loss: 0.4049 - accuracy: 0.8102\n",
            "Epoch 241/300\n",
            "13/13 [==============================] - 0s 2ms/step - loss: 0.3799 - accuracy: 0.8370\n",
            "Epoch 242/300\n",
            "13/13 [==============================] - 0s 2ms/step - loss: 0.3861 - accuracy: 0.8297\n",
            "Epoch 243/300\n",
            "13/13 [==============================] - 0s 2ms/step - loss: 0.3779 - accuracy: 0.8394\n",
            "Epoch 244/300\n",
            "13/13 [==============================] - 0s 2ms/step - loss: 0.3771 - accuracy: 0.8345\n",
            "Epoch 245/300\n",
            "13/13 [==============================] - 0s 2ms/step - loss: 0.3819 - accuracy: 0.8273\n",
            "Epoch 246/300\n",
            "13/13 [==============================] - 0s 2ms/step - loss: 0.3818 - accuracy: 0.8224\n",
            "Epoch 247/300\n",
            "13/13 [==============================] - 0s 2ms/step - loss: 0.3766 - accuracy: 0.8297\n",
            "Epoch 248/300\n",
            "13/13 [==============================] - 0s 1ms/step - loss: 0.3763 - accuracy: 0.8297\n",
            "Epoch 249/300\n",
            "13/13 [==============================] - 0s 2ms/step - loss: 0.4073 - accuracy: 0.8127\n",
            "Epoch 250/300\n",
            "13/13 [==============================] - 0s 2ms/step - loss: 0.3857 - accuracy: 0.8418\n",
            "Epoch 251/300\n",
            "13/13 [==============================] - 0s 2ms/step - loss: 0.3825 - accuracy: 0.8297\n",
            "Epoch 252/300\n",
            "13/13 [==============================] - 0s 2ms/step - loss: 0.4135 - accuracy: 0.8200\n",
            "Epoch 253/300\n",
            "13/13 [==============================] - 0s 2ms/step - loss: 0.3949 - accuracy: 0.8321\n",
            "Epoch 254/300\n",
            "13/13 [==============================] - 0s 2ms/step - loss: 0.3763 - accuracy: 0.8443\n",
            "Epoch 255/300\n",
            "13/13 [==============================] - 0s 2ms/step - loss: 0.3796 - accuracy: 0.8370\n",
            "Epoch 256/300\n",
            "13/13 [==============================] - 0s 2ms/step - loss: 0.3801 - accuracy: 0.8273\n",
            "Epoch 257/300\n",
            "13/13 [==============================] - 0s 2ms/step - loss: 0.3920 - accuracy: 0.8370\n",
            "Epoch 258/300\n",
            "13/13 [==============================] - 0s 2ms/step - loss: 0.3801 - accuracy: 0.8418\n",
            "Epoch 259/300\n",
            "13/13 [==============================] - 0s 2ms/step - loss: 0.3979 - accuracy: 0.8273\n",
            "Epoch 260/300\n",
            "13/13 [==============================] - 0s 2ms/step - loss: 0.3802 - accuracy: 0.8418\n",
            "Epoch 261/300\n",
            "13/13 [==============================] - 0s 2ms/step - loss: 0.3866 - accuracy: 0.8273\n",
            "Epoch 262/300\n",
            "13/13 [==============================] - 0s 2ms/step - loss: 0.3753 - accuracy: 0.8321\n",
            "Epoch 263/300\n",
            "13/13 [==============================] - 0s 2ms/step - loss: 0.3796 - accuracy: 0.8370\n",
            "Epoch 264/300\n",
            "13/13 [==============================] - 0s 2ms/step - loss: 0.3922 - accuracy: 0.8370\n",
            "Epoch 265/300\n",
            "13/13 [==============================] - 0s 1ms/step - loss: 0.3950 - accuracy: 0.8321\n",
            "Epoch 266/300\n",
            "13/13 [==============================] - 0s 2ms/step - loss: 0.3800 - accuracy: 0.8345\n",
            "Epoch 267/300\n",
            "13/13 [==============================] - 0s 2ms/step - loss: 0.3767 - accuracy: 0.8370\n",
            "Epoch 268/300\n",
            "13/13 [==============================] - 0s 2ms/step - loss: 0.3798 - accuracy: 0.8370\n",
            "Epoch 269/300\n",
            "13/13 [==============================] - 0s 2ms/step - loss: 0.4019 - accuracy: 0.8345\n",
            "Epoch 270/300\n",
            "13/13 [==============================] - 0s 2ms/step - loss: 0.3907 - accuracy: 0.8273\n",
            "Epoch 271/300\n",
            "13/13 [==============================] - 0s 2ms/step - loss: 0.3787 - accuracy: 0.8345\n",
            "Epoch 272/300\n",
            "13/13 [==============================] - 0s 2ms/step - loss: 0.4034 - accuracy: 0.8248\n",
            "Epoch 273/300\n",
            "13/13 [==============================] - 0s 2ms/step - loss: 0.3780 - accuracy: 0.8345\n",
            "Epoch 274/300\n",
            "13/13 [==============================] - 0s 2ms/step - loss: 0.3834 - accuracy: 0.8200\n",
            "Epoch 275/300\n",
            "13/13 [==============================] - 0s 2ms/step - loss: 0.3824 - accuracy: 0.8297\n",
            "Epoch 276/300\n",
            "13/13 [==============================] - 0s 2ms/step - loss: 0.3833 - accuracy: 0.8321\n",
            "Epoch 277/300\n",
            "13/13 [==============================] - 0s 2ms/step - loss: 0.4044 - accuracy: 0.8248\n",
            "Epoch 278/300\n",
            "13/13 [==============================] - 0s 2ms/step - loss: 0.3826 - accuracy: 0.8394\n",
            "Epoch 279/300\n",
            "13/13 [==============================] - 0s 2ms/step - loss: 0.3760 - accuracy: 0.8394\n",
            "Epoch 280/300\n",
            "13/13 [==============================] - 0s 1ms/step - loss: 0.3955 - accuracy: 0.8224\n",
            "Epoch 281/300\n",
            "13/13 [==============================] - 0s 3ms/step - loss: 0.3973 - accuracy: 0.8224\n",
            "Epoch 282/300\n",
            "13/13 [==============================] - 0s 2ms/step - loss: 0.3776 - accuracy: 0.8345\n",
            "Epoch 283/300\n",
            "13/13 [==============================] - 0s 2ms/step - loss: 0.3775 - accuracy: 0.8370\n",
            "Epoch 284/300\n",
            "13/13 [==============================] - 0s 2ms/step - loss: 0.3837 - accuracy: 0.8321\n",
            "Epoch 285/300\n",
            "13/13 [==============================] - 0s 2ms/step - loss: 0.3836 - accuracy: 0.8248\n",
            "Epoch 286/300\n",
            "13/13 [==============================] - 0s 1ms/step - loss: 0.3785 - accuracy: 0.8345\n",
            "Epoch 287/300\n",
            "13/13 [==============================] - 0s 2ms/step - loss: 0.3801 - accuracy: 0.8248\n",
            "Epoch 288/300\n",
            "13/13 [==============================] - 0s 2ms/step - loss: 0.3808 - accuracy: 0.8321\n",
            "Epoch 289/300\n",
            "13/13 [==============================] - 0s 2ms/step - loss: 0.3942 - accuracy: 0.8321\n",
            "Epoch 290/300\n",
            "13/13 [==============================] - 0s 1ms/step - loss: 0.3828 - accuracy: 0.8418\n",
            "Epoch 291/300\n",
            "13/13 [==============================] - 0s 2ms/step - loss: 0.3824 - accuracy: 0.8345\n",
            "Epoch 292/300\n",
            "13/13 [==============================] - 0s 2ms/step - loss: 0.4234 - accuracy: 0.8029\n",
            "Epoch 293/300\n",
            "13/13 [==============================] - 0s 2ms/step - loss: 0.3795 - accuracy: 0.8418\n",
            "Epoch 294/300\n",
            "13/13 [==============================] - 0s 2ms/step - loss: 0.3983 - accuracy: 0.8175\n",
            "Epoch 295/300\n",
            "13/13 [==============================] - 0s 2ms/step - loss: 0.3809 - accuracy: 0.8370\n",
            "Epoch 296/300\n",
            "13/13 [==============================] - 0s 2ms/step - loss: 0.3862 - accuracy: 0.8297\n",
            "Epoch 297/300\n",
            "13/13 [==============================] - 0s 2ms/step - loss: 0.3864 - accuracy: 0.8370\n",
            "Epoch 298/300\n",
            "13/13 [==============================] - 0s 2ms/step - loss: 0.3991 - accuracy: 0.8200\n",
            "Epoch 299/300\n",
            "13/13 [==============================] - 0s 2ms/step - loss: 0.3837 - accuracy: 0.8297\n",
            "Epoch 300/300\n",
            "13/13 [==============================] - 0s 2ms/step - loss: 0.3808 - accuracy: 0.8248\n"
          ]
        },
        {
          "data": {
            "text/plain": [
              "<keras.src.callbacks.History at 0x7a25496f5fc0>"
            ]
          },
          "execution_count": 88,
          "metadata": {},
          "output_type": "execute_result"
        }
      ],
      "source": [
        "model.fit(X_train,Y_train,epochs=300)"
      ]
    },
    {
      "cell_type": "code",
      "execution_count": null,
      "metadata": {
        "colab": {
          "background_save": true
        },
        "id": "d32dPc6BTiGI",
        "outputId": "5ab5b849-16e2-439d-8806-a21bdce589d4"
      },
      "outputs": [
        {
          "name": "stdout",
          "output_type": "stream",
          "text": [
            "4/4 [==============================] - 0s 2ms/step\n"
          ]
        }
      ],
      "source": [
        "Y_pred_nn = model.predict(X_test)"
      ]
    },
    {
      "cell_type": "code",
      "execution_count": null,
      "metadata": {
        "colab": {
          "background_save": true
        },
        "id": "4DmXi86QTzBl",
        "outputId": "2d93d09e-37bf-4bf5-dff1-b4af2c25392c"
      },
      "outputs": [
        {
          "data": {
            "text/plain": [
              "(103, 1)"
            ]
          },
          "execution_count": 90,
          "metadata": {},
          "output_type": "execute_result"
        }
      ],
      "source": [
        "Y_pred_nn.shape"
      ]
    },
    {
      "cell_type": "code",
      "execution_count": null,
      "metadata": {
        "colab": {
          "background_save": true
        },
        "id": "DRwePRdvT97z"
      },
      "outputs": [],
      "source": [
        "rounded = [round(x[0]) for x in Y_pred_nn]\n",
        "\n",
        "Y_pred_nn = rounded"
      ]
    },
    {
      "cell_type": "code",
      "execution_count": null,
      "metadata": {
        "colab": {
          "background_save": true
        },
        "id": "7PMaSEXfUNBp",
        "outputId": "5cb1d5b8-1790-46d0-beae-464f38455360"
      },
      "outputs": [
        {
          "name": "stdout",
          "output_type": "stream",
          "text": [
            "The accuracy score achieved using Neural Network is: 84.47 %\n"
          ]
        }
      ],
      "source": [
        "score_nn = round(accuracy_score(Y_pred_nn,Y_test)*100,2)\n",
        "\n",
        "print(\"The accuracy score achieved using Neural Network is: \"+str(score_nn)+\" %\")\n",
        "\n",
        "#Note: Accuracy of 85% can be achieved on the test set, by setting epochs=2000, and number of nodes = 11."
      ]
    },
    {
      "cell_type": "code",
      "execution_count": null,
      "metadata": {
        "colab": {
          "background_save": true
        },
        "id": "iGChifTHUkkK",
        "outputId": "6f4910b5-72b4-425c-874a-d781ec8f0de7"
      },
      "outputs": [
        {
          "name": "stdout",
          "output_type": "stream",
          "text": [
            "The accuracy score achieved using Logistic Regression is: 86.41 %\n",
            "The accuracy score achieved using Naive Bayes is: 89.32 %\n",
            "The accuracy score achieved using Support Vector Machine is: 86.41 %\n",
            "The accuracy score achieved using K-Nearest Neighbors is: 65.05 %\n",
            "The accuracy score achieved using Decision Tree is: 83.5 %\n",
            "The accuracy score achieved using Random Forest is: 93.2 %\n",
            "The accuracy score achieved using XGBoost is: 88.35 %\n",
            "The accuracy score achieved using Neural Network is: 84.47 %\n"
          ]
        }
      ],
      "source": [
        "scores = [score_lr,score_nb,score_svm,score_knn,score_dt,score_rf,score_xgb,score_nn]\n",
        "algorithms = [\"Logistic Regression\",\"Naive Bayes\",\"Support Vector Machine\",\"K-Nearest Neighbors\",\"Decision Tree\",\"Random Forest\",\"XGBoost\",\"Neural Network\"]\n",
        "\n",
        "for i in range(len(algorithms)):\n",
        "    print(\"The accuracy score achieved using \"+algorithms[i]+\" is: \"+str(scores[i])+\" %\")"
      ]
    },
    {
      "source": [
        "!pip install seaborn\n",
        "!pip install matplotlib"
      ],
      "cell_type": "code",
      "metadata": {
        "colab": {
          "base_uri": "https://localhost:8080/"
        },
        "id": "yETZHUNAe8aT",
        "outputId": "54e58941-24ee-4b81-e530-328e2507942d"
      },
      "execution_count": null,
      "outputs": [
        {
          "output_type": "stream",
          "name": "stdout",
          "text": [
            "Requirement already satisfied: seaborn in /usr/local/lib/python3.10/dist-packages (0.13.1)\n",
            "Requirement already satisfied: numpy!=1.24.0,>=1.20 in /usr/local/lib/python3.10/dist-packages (from seaborn) (1.25.2)\n",
            "Requirement already satisfied: pandas>=1.2 in /usr/local/lib/python3.10/dist-packages (from seaborn) (2.0.3)\n",
            "Requirement already satisfied: matplotlib!=3.6.1,>=3.4 in /usr/local/lib/python3.10/dist-packages (from seaborn) (3.7.1)\n",
            "Requirement already satisfied: contourpy>=1.0.1 in /usr/local/lib/python3.10/dist-packages (from matplotlib!=3.6.1,>=3.4->seaborn) (1.2.1)\n",
            "Requirement already satisfied: cycler>=0.10 in /usr/local/lib/python3.10/dist-packages (from matplotlib!=3.6.1,>=3.4->seaborn) (0.12.1)\n",
            "Requirement already satisfied: fonttools>=4.22.0 in /usr/local/lib/python3.10/dist-packages (from matplotlib!=3.6.1,>=3.4->seaborn) (4.51.0)\n",
            "Requirement already satisfied: kiwisolver>=1.0.1 in /usr/local/lib/python3.10/dist-packages (from matplotlib!=3.6.1,>=3.4->seaborn) (1.4.5)\n",
            "Requirement already satisfied: packaging>=20.0 in /usr/local/lib/python3.10/dist-packages (from matplotlib!=3.6.1,>=3.4->seaborn) (24.0)\n",
            "Requirement already satisfied: pillow>=6.2.0 in /usr/local/lib/python3.10/dist-packages (from matplotlib!=3.6.1,>=3.4->seaborn) (9.4.0)\n",
            "Requirement already satisfied: pyparsing>=2.3.1 in /usr/local/lib/python3.10/dist-packages (from matplotlib!=3.6.1,>=3.4->seaborn) (3.1.2)\n",
            "Requirement already satisfied: python-dateutil>=2.7 in /usr/local/lib/python3.10/dist-packages (from matplotlib!=3.6.1,>=3.4->seaborn) (2.8.2)\n",
            "Requirement already satisfied: pytz>=2020.1 in /usr/local/lib/python3.10/dist-packages (from pandas>=1.2->seaborn) (2023.4)\n",
            "Requirement already satisfied: tzdata>=2022.1 in /usr/local/lib/python3.10/dist-packages (from pandas>=1.2->seaborn) (2024.1)\n",
            "Requirement already satisfied: six>=1.5 in /usr/local/lib/python3.10/dist-packages (from python-dateutil>=2.7->matplotlib!=3.6.1,>=3.4->seaborn) (1.16.0)\n",
            "Requirement already satisfied: matplotlib in /usr/local/lib/python3.10/dist-packages (3.7.1)\n",
            "Requirement already satisfied: contourpy>=1.0.1 in /usr/local/lib/python3.10/dist-packages (from matplotlib) (1.2.1)\n",
            "Requirement already satisfied: cycler>=0.10 in /usr/local/lib/python3.10/dist-packages (from matplotlib) (0.12.1)\n",
            "Requirement already satisfied: fonttools>=4.22.0 in /usr/local/lib/python3.10/dist-packages (from matplotlib) (4.51.0)\n",
            "Requirement already satisfied: kiwisolver>=1.0.1 in /usr/local/lib/python3.10/dist-packages (from matplotlib) (1.4.5)\n",
            "Requirement already satisfied: numpy>=1.20 in /usr/local/lib/python3.10/dist-packages (from matplotlib) (1.25.2)\n",
            "Requirement already satisfied: packaging>=20.0 in /usr/local/lib/python3.10/dist-packages (from matplotlib) (24.0)\n",
            "Requirement already satisfied: pillow>=6.2.0 in /usr/local/lib/python3.10/dist-packages (from matplotlib) (9.4.0)\n",
            "Requirement already satisfied: pyparsing>=2.3.1 in /usr/local/lib/python3.10/dist-packages (from matplotlib) (3.1.2)\n",
            "Requirement already satisfied: python-dateutil>=2.7 in /usr/local/lib/python3.10/dist-packages (from matplotlib) (2.8.2)\n",
            "Requirement already satisfied: six>=1.5 in /usr/local/lib/python3.10/dist-packages (from python-dateutil>=2.7->matplotlib) (1.16.0)\n"
          ]
        }
      ]
    },
    {
      "source": [
        "import seaborn as sns\n",
        "import matplotlib.pyplot as plt"
      ],
      "cell_type": "code",
      "metadata": {
        "id": "sVVwmRtqe81l"
      },
      "execution_count": null,
      "outputs": []
    },
    {
      "source": [
        "algorithms = [\"Logistic Regression\", \"SVM\", \"Neural Networks\", \"KNN\", \"Decision Tree\", \"RF\", \"XGBoost\", \"Gradient Boosting\", \"LGBM\"]\n",
        "scores = [0.85, 0.82, 0.88, 0.79, 0.75, 0.91, 0.93, 0.92, 0.94]"
      ],
      "cell_type": "code",
      "metadata": {
        "id": "mOZK0kHRe9TX"
      },
      "execution_count": null,
      "outputs": []
    },
    {
      "source": [
        "sns.set(rc={'figure.figsize':(15,8)})"
      ],
      "cell_type": "code",
      "metadata": {
        "id": "bcaUujmDe9qd"
      },
      "execution_count": null,
      "outputs": []
    },
    {
      "source": [
        "plt.xlabel(\"Algorithms\")\n",
        "plt.ylabel(\"Accuracy score\")"
      ],
      "cell_type": "code",
      "metadata": {
        "colab": {
          "base_uri": "https://localhost:8080/",
          "height": 649
        },
        "id": "H9O9_cXLe-NE",
        "outputId": "2e50e3c9-9d57-4ebc-b794-70eb93840175"
      },
      "execution_count": null,
      "outputs": [
        {
          "output_type": "execute_result",
          "data": {
            "text/plain": [
              "Text(0, 0.5, 'Accuracy score')"
            ]
          },
          "metadata": {},
          "execution_count": 100
        },
        {
          "output_type": "display_data",
          "data": {
            "text/plain": [
              "<Figure size 1500x800 with 1 Axes>"
            ],
            "image/png": "[encoded data removed]"
          },
          "metadata": {}
        }
      ]
    },
    {
      "cell_type": "code",
      "execution_count": null,
      "metadata": {
        "id": "EshsMcnJVHIs"
      },
      "outputs": [],
      "source": [
        "import seaborn as sns\n",
        "import matplotlib.pyplot as plt"
      ]
    },
    {
      "cell_type": "code",
      "execution_count": null,
      "metadata": {
        "colab": {
          "base_uri": "https://localhost:8080/"
        },
        "id": "Lg80hsXGVHcG",
        "outputId": "8198d9b0-2c0e-4956-e6eb-f0a15c3128f2"
      },
      "outputs": [
        {
          "output_type": "stream",
          "name": "stdout",
          "text": [
            "['Logistic Regression', 'SVM', 'Neural Networks', 'KNN', 'Decision Tree', 'RF', 'XGBoost', 'Gradient Boosting', 'LGBM']\n",
            "[0.85, 0.82, 0.88, 0.79, 0.75, 0.91, 0.93, 0.92, 0.94]\n"
          ]
        }
      ],
      "source": [
        "print(algorithms)\n",
        "print(scores)"
      ]
    },
    {
      "cell_type": "code",
      "execution_count": null,
      "metadata": {
        "colab": {
          "base_uri": "https://localhost:8080/",
          "height": 640
        },
        "id": "C2VXqaclVIyg",
        "outputId": "4a650da9-5138-430a-b147-50d72298f3e0"
      },
      "outputs": [
        {
          "output_type": "execute_result",
          "data": {
            "text/plain": [
              "<Axes: >"
            ]
          },
          "metadata": {},
          "execution_count": 103
        },
        {
          "output_type": "display_data",
          "data": {
            "text/plain": [
              "<Figure size 1500x800 with 1 Axes>"
            ],
            "image/png": "[encoded data removed]"
          },
          "metadata": {}
        }
      ],
      "source": [
        "sns.barplot(x=algorithms, y=scores)"
      ]
    }
  ],
  "metadata": {
    "colab": {
      "provenance": []
    },
    "kernelspec": {
      "display_name": "Python 3",
      "name": "python3"
    },
    "language_info": {
      "name": "python"
    }
  },
  "nbformat": 4,
  "nbformat_minor": 0
}